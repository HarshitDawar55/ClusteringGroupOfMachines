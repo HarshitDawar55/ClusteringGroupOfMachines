{
 "cells": [
  {
   "cell_type": "code",
   "execution_count": 67,
   "metadata": {},
   "outputs": [],
   "source": [
    "import pandas as pd\n",
    "import glob\n",
    "import numpy as np\n",
    "import matplotlib.pyplot as plt\n",
    "import seaborn as sns"
   ]
  },
  {
   "cell_type": "code",
   "execution_count": 2,
   "metadata": {},
   "outputs": [],
   "source": [
    "Materna_Traces = ['C:\\\\Users\\\\SATYADEV\\\\Documents\\\\GWA-T-13_Materna-Workload-Traces\\\\Materna-Trace-1','C:\\\\Users\\\\SATYADEV\\\\Documents\\\\GWA-T-13_Materna-Workload-Traces\\\\Materna-Trace-2','C:\\\\Users\\\\SATYADEV\\\\Documents\\\\GWA-T-13_Materna-Workload-Traces\\\\Materna-Trace-3']"
   ]
  },
  {
   "cell_type": "code",
   "execution_count": 3,
   "metadata": {},
   "outputs": [],
   "source": [
    "def readInputData(paths):\n",
    "  #iterate each data folder\n",
    "  for path in paths:\n",
    "    #All csv files in current data folder\n",
    "    all_files = glob.glob(path + \"/*.csv\")\n",
    "    \n",
    "    data = []\n",
    "    for filename in all_files:\n",
    "        #read each csv file\n",
    "        df = pd.read_csv(filename, delimiter=';', index_col=None, header=0)\n",
    "        #append the data\n",
    "        data.append(df)\n",
    "    #merge the data and make dataframe\n",
    "    dataframe = pd.concat(data, axis=0, ignore_index=True)\n",
    "  return dataframe"
   ]
  },
  {
   "cell_type": "code",
   "execution_count": 4,
   "metadata": {},
   "outputs": [],
   "source": [
    "df = readInputData(Materna_Traces)"
   ]
  },
  {
   "cell_type": "code",
   "execution_count": 5,
   "metadata": {},
   "outputs": [
    {
     "data": {
      "text/html": [
       "<div>\n",
       "<style scoped>\n",
       "    .dataframe tbody tr th:only-of-type {\n",
       "        vertical-align: middle;\n",
       "    }\n",
       "\n",
       "    .dataframe tbody tr th {\n",
       "        vertical-align: top;\n",
       "    }\n",
       "\n",
       "    .dataframe thead th {\n",
       "        text-align: right;\n",
       "    }\n",
       "</style>\n",
       "<table border=\"1\" class=\"dataframe\">\n",
       "  <thead>\n",
       "    <tr style=\"text-align: right;\">\n",
       "      <th></th>\n",
       "      <th>Timestamp</th>\n",
       "      <th>CPU cores</th>\n",
       "      <th>CPU capacity provisioned [MHZ]</th>\n",
       "      <th>CPU usage [MHZ]</th>\n",
       "      <th>CPU usage [%]</th>\n",
       "      <th>Memory capacity provisioned [KB]</th>\n",
       "      <th>Memory usage [KB]</th>\n",
       "      <th>Memory usage [%]</th>\n",
       "      <th>Disk read throughput [KB/s]</th>\n",
       "      <th>Disk write throughput [KB/s]</th>\n",
       "      <th>Disk size [GB]</th>\n",
       "      <th>Network received throughput [KB/s]</th>\n",
       "      <th>Network transmitted throughput [KB/s]</th>\n",
       "    </tr>\n",
       "  </thead>\n",
       "  <tbody>\n",
       "    <tr>\n",
       "      <th>0</th>\n",
       "      <td>04.01.2016 00:00:00</td>\n",
       "      <td>2</td>\n",
       "      <td>0</td>\n",
       "      <td>115</td>\n",
       "      <td>2,51</td>\n",
       "      <td>4194304</td>\n",
       "      <td>122474</td>\n",
       "      <td>2,92</td>\n",
       "      <td>0</td>\n",
       "      <td>13</td>\n",
       "      <td>54</td>\n",
       "      <td>1</td>\n",
       "      <td>1</td>\n",
       "    </tr>\n",
       "    <tr>\n",
       "      <th>1</th>\n",
       "      <td>04.01.2016 00:05:00</td>\n",
       "      <td>2</td>\n",
       "      <td>0</td>\n",
       "      <td>106</td>\n",
       "      <td>2,32</td>\n",
       "      <td>4194304</td>\n",
       "      <td>119538</td>\n",
       "      <td>2,85</td>\n",
       "      <td>0</td>\n",
       "      <td>13</td>\n",
       "      <td>54</td>\n",
       "      <td>1</td>\n",
       "      <td>1</td>\n",
       "    </tr>\n",
       "    <tr>\n",
       "      <th>2</th>\n",
       "      <td>04.01.2016 00:10:00</td>\n",
       "      <td>2</td>\n",
       "      <td>0</td>\n",
       "      <td>119</td>\n",
       "      <td>2,61</td>\n",
       "      <td>4194304</td>\n",
       "      <td>329253</td>\n",
       "      <td>7,85</td>\n",
       "      <td>0</td>\n",
       "      <td>70</td>\n",
       "      <td>54</td>\n",
       "      <td>2</td>\n",
       "      <td>35</td>\n",
       "    </tr>\n",
       "    <tr>\n",
       "      <th>3</th>\n",
       "      <td>04.01.2016 00:15:00</td>\n",
       "      <td>2</td>\n",
       "      <td>0</td>\n",
       "      <td>121</td>\n",
       "      <td>2,63</td>\n",
       "      <td>4194304</td>\n",
       "      <td>284793</td>\n",
       "      <td>6,79</td>\n",
       "      <td>0</td>\n",
       "      <td>13</td>\n",
       "      <td>54</td>\n",
       "      <td>11</td>\n",
       "      <td>35</td>\n",
       "    </tr>\n",
       "    <tr>\n",
       "      <th>4</th>\n",
       "      <td>04.01.2016 00:20:00</td>\n",
       "      <td>2</td>\n",
       "      <td>0</td>\n",
       "      <td>112</td>\n",
       "      <td>2,46</td>\n",
       "      <td>4194304</td>\n",
       "      <td>348966</td>\n",
       "      <td>8,32</td>\n",
       "      <td>0</td>\n",
       "      <td>10</td>\n",
       "      <td>54</td>\n",
       "      <td>1</td>\n",
       "      <td>1</td>\n",
       "    </tr>\n",
       "    <tr>\n",
       "      <th>...</th>\n",
       "      <td>...</td>\n",
       "      <td>...</td>\n",
       "      <td>...</td>\n",
       "      <td>...</td>\n",
       "      <td>...</td>\n",
       "      <td>...</td>\n",
       "      <td>...</td>\n",
       "      <td>...</td>\n",
       "      <td>...</td>\n",
       "      <td>...</td>\n",
       "      <td>...</td>\n",
       "      <td>...</td>\n",
       "      <td>...</td>\n",
       "    </tr>\n",
       "    <tr>\n",
       "      <th>5329725</th>\n",
       "      <td>08.02.2016 23:35:00</td>\n",
       "      <td>2</td>\n",
       "      <td>0</td>\n",
       "      <td>44</td>\n",
       "      <td>0,96</td>\n",
       "      <td>12582912</td>\n",
       "      <td>182452</td>\n",
       "      <td>1,45</td>\n",
       "      <td>0</td>\n",
       "      <td>2</td>\n",
       "      <td>312</td>\n",
       "      <td>0</td>\n",
       "      <td>1</td>\n",
       "    </tr>\n",
       "    <tr>\n",
       "      <th>5329726</th>\n",
       "      <td>08.02.2016 23:40:00</td>\n",
       "      <td>2</td>\n",
       "      <td>0</td>\n",
       "      <td>41</td>\n",
       "      <td>0,9</td>\n",
       "      <td>12582912</td>\n",
       "      <td>225234</td>\n",
       "      <td>1,79</td>\n",
       "      <td>0</td>\n",
       "      <td>1</td>\n",
       "      <td>312</td>\n",
       "      <td>0</td>\n",
       "      <td>0</td>\n",
       "    </tr>\n",
       "    <tr>\n",
       "      <th>5329727</th>\n",
       "      <td>08.02.2016 23:45:00</td>\n",
       "      <td>2</td>\n",
       "      <td>0</td>\n",
       "      <td>111</td>\n",
       "      <td>2,43</td>\n",
       "      <td>12582912</td>\n",
       "      <td>401395</td>\n",
       "      <td>3,19</td>\n",
       "      <td>1</td>\n",
       "      <td>124</td>\n",
       "      <td>312</td>\n",
       "      <td>20</td>\n",
       "      <td>6</td>\n",
       "    </tr>\n",
       "    <tr>\n",
       "      <th>5329728</th>\n",
       "      <td>08.02.2016 23:50:00</td>\n",
       "      <td>2</td>\n",
       "      <td>0</td>\n",
       "      <td>44</td>\n",
       "      <td>0,97</td>\n",
       "      <td>12582912</td>\n",
       "      <td>1147562</td>\n",
       "      <td>9,12</td>\n",
       "      <td>0</td>\n",
       "      <td>2</td>\n",
       "      <td>312</td>\n",
       "      <td>0</td>\n",
       "      <td>1</td>\n",
       "    </tr>\n",
       "    <tr>\n",
       "      <th>5329729</th>\n",
       "      <td>08.02.2016 23:55:00</td>\n",
       "      <td>2</td>\n",
       "      <td>0</td>\n",
       "      <td>42</td>\n",
       "      <td>0,92</td>\n",
       "      <td>12582912</td>\n",
       "      <td>376229</td>\n",
       "      <td>2,99</td>\n",
       "      <td>0</td>\n",
       "      <td>3</td>\n",
       "      <td>312</td>\n",
       "      <td>0</td>\n",
       "      <td>0</td>\n",
       "    </tr>\n",
       "  </tbody>\n",
       "</table>\n",
       "<p>5329730 rows × 13 columns</p>\n",
       "</div>"
      ],
      "text/plain": [
       "                   Timestamp  CPU cores  CPU capacity provisioned [MHZ]  \\\n",
       "0        04.01.2016 00:00:00          2                               0   \n",
       "1        04.01.2016 00:05:00          2                               0   \n",
       "2        04.01.2016 00:10:00          2                               0   \n",
       "3        04.01.2016 00:15:00          2                               0   \n",
       "4        04.01.2016 00:20:00          2                               0   \n",
       "...                      ...        ...                             ...   \n",
       "5329725  08.02.2016 23:35:00          2                               0   \n",
       "5329726  08.02.2016 23:40:00          2                               0   \n",
       "5329727  08.02.2016 23:45:00          2                               0   \n",
       "5329728  08.02.2016 23:50:00          2                               0   \n",
       "5329729  08.02.2016 23:55:00          2                               0   \n",
       "\n",
       "         CPU usage [MHZ] CPU usage [%]  Memory capacity provisioned [KB]  \\\n",
       "0                    115          2,51                           4194304   \n",
       "1                    106          2,32                           4194304   \n",
       "2                    119          2,61                           4194304   \n",
       "3                    121          2,63                           4194304   \n",
       "4                    112          2,46                           4194304   \n",
       "...                  ...           ...                               ...   \n",
       "5329725               44          0,96                          12582912   \n",
       "5329726               41           0,9                          12582912   \n",
       "5329727              111          2,43                          12582912   \n",
       "5329728               44          0,97                          12582912   \n",
       "5329729               42          0,92                          12582912   \n",
       "\n",
       "         Memory usage [KB] Memory usage [%]  Disk read throughput [KB/s]  \\\n",
       "0                   122474             2,92                            0   \n",
       "1                   119538             2,85                            0   \n",
       "2                   329253             7,85                            0   \n",
       "3                   284793             6,79                            0   \n",
       "4                   348966             8,32                            0   \n",
       "...                    ...              ...                          ...   \n",
       "5329725             182452             1,45                            0   \n",
       "5329726             225234             1,79                            0   \n",
       "5329727             401395             3,19                            1   \n",
       "5329728            1147562             9,12                            0   \n",
       "5329729             376229             2,99                            0   \n",
       "\n",
       "         Disk write throughput [KB/s] Disk size [GB]  \\\n",
       "0                                  13             54   \n",
       "1                                  13             54   \n",
       "2                                  70             54   \n",
       "3                                  13             54   \n",
       "4                                  10             54   \n",
       "...                               ...            ...   \n",
       "5329725                             2            312   \n",
       "5329726                             1            312   \n",
       "5329727                           124            312   \n",
       "5329728                             2            312   \n",
       "5329729                             3            312   \n",
       "\n",
       "         Network received throughput [KB/s]  \\\n",
       "0                                         1   \n",
       "1                                         1   \n",
       "2                                         2   \n",
       "3                                        11   \n",
       "4                                         1   \n",
       "...                                     ...   \n",
       "5329725                                   0   \n",
       "5329726                                   0   \n",
       "5329727                                  20   \n",
       "5329728                                   0   \n",
       "5329729                                   0   \n",
       "\n",
       "         Network transmitted throughput [KB/s]  \n",
       "0                                            1  \n",
       "1                                            1  \n",
       "2                                           35  \n",
       "3                                           35  \n",
       "4                                            1  \n",
       "...                                        ...  \n",
       "5329725                                      1  \n",
       "5329726                                      0  \n",
       "5329727                                      6  \n",
       "5329728                                      1  \n",
       "5329729                                      0  \n",
       "\n",
       "[5329730 rows x 13 columns]"
      ]
     },
     "execution_count": 5,
     "metadata": {},
     "output_type": "execute_result"
    }
   ],
   "source": [
    "df"
   ]
  },
  {
   "cell_type": "code",
   "execution_count": 6,
   "metadata": {},
   "outputs": [
    {
     "data": {
      "text/html": [
       "<div>\n",
       "<style scoped>\n",
       "    .dataframe tbody tr th:only-of-type {\n",
       "        vertical-align: middle;\n",
       "    }\n",
       "\n",
       "    .dataframe tbody tr th {\n",
       "        vertical-align: top;\n",
       "    }\n",
       "\n",
       "    .dataframe thead th {\n",
       "        text-align: right;\n",
       "    }\n",
       "</style>\n",
       "<table border=\"1\" class=\"dataframe\">\n",
       "  <thead>\n",
       "    <tr style=\"text-align: right;\">\n",
       "      <th></th>\n",
       "      <th>CPU cores</th>\n",
       "      <th>CPU capacity provisioned [MHZ]</th>\n",
       "      <th>CPU usage [MHZ]</th>\n",
       "      <th>Memory capacity provisioned [KB]</th>\n",
       "      <th>Memory usage [KB]</th>\n",
       "      <th>Disk read throughput [KB/s]</th>\n",
       "      <th>Disk write throughput [KB/s]</th>\n",
       "      <th>Network received throughput [KB/s]</th>\n",
       "      <th>Network transmitted throughput [KB/s]</th>\n",
       "    </tr>\n",
       "  </thead>\n",
       "  <tbody>\n",
       "    <tr>\n",
       "      <th>count</th>\n",
       "      <td>5.329730e+06</td>\n",
       "      <td>5.329730e+06</td>\n",
       "      <td>5.329730e+06</td>\n",
       "      <td>5.329730e+06</td>\n",
       "      <td>5.329730e+06</td>\n",
       "      <td>5.329730e+06</td>\n",
       "      <td>5.329730e+06</td>\n",
       "      <td>5.329730e+06</td>\n",
       "      <td>5.329730e+06</td>\n",
       "    </tr>\n",
       "    <tr>\n",
       "      <th>mean</th>\n",
       "      <td>2.637684e+00</td>\n",
       "      <td>3.982851e+00</td>\n",
       "      <td>2.596080e+02</td>\n",
       "      <td>8.873539e+06</td>\n",
       "      <td>7.058790e+05</td>\n",
       "      <td>5.352213e+02</td>\n",
       "      <td>1.790060e+02</td>\n",
       "      <td>9.293955e+01</td>\n",
       "      <td>1.396144e+02</td>\n",
       "    </tr>\n",
       "    <tr>\n",
       "      <th>std</th>\n",
       "      <td>1.628044e+00</td>\n",
       "      <td>9.022758e+01</td>\n",
       "      <td>6.365165e+02</td>\n",
       "      <td>1.009509e+07</td>\n",
       "      <td>1.135087e+06</td>\n",
       "      <td>6.929329e+03</td>\n",
       "      <td>1.533413e+03</td>\n",
       "      <td>9.121657e+02</td>\n",
       "      <td>1.434829e+03</td>\n",
       "    </tr>\n",
       "    <tr>\n",
       "      <th>min</th>\n",
       "      <td>1.000000e+00</td>\n",
       "      <td>0.000000e+00</td>\n",
       "      <td>1.000000e+00</td>\n",
       "      <td>1.048576e+06</td>\n",
       "      <td>0.000000e+00</td>\n",
       "      <td>0.000000e+00</td>\n",
       "      <td>0.000000e+00</td>\n",
       "      <td>0.000000e+00</td>\n",
       "      <td>0.000000e+00</td>\n",
       "    </tr>\n",
       "    <tr>\n",
       "      <th>25%</th>\n",
       "      <td>2.000000e+00</td>\n",
       "      <td>0.000000e+00</td>\n",
       "      <td>2.400000e+01</td>\n",
       "      <td>4.194304e+06</td>\n",
       "      <td>8.053100e+04</td>\n",
       "      <td>0.000000e+00</td>\n",
       "      <td>1.000000e+00</td>\n",
       "      <td>0.000000e+00</td>\n",
       "      <td>0.000000e+00</td>\n",
       "    </tr>\n",
       "    <tr>\n",
       "      <th>50%</th>\n",
       "      <td>2.000000e+00</td>\n",
       "      <td>0.000000e+00</td>\n",
       "      <td>6.900000e+01</td>\n",
       "      <td>8.388608e+06</td>\n",
       "      <td>2.231370e+05</td>\n",
       "      <td>0.000000e+00</td>\n",
       "      <td>8.000000e+00</td>\n",
       "      <td>1.000000e+00</td>\n",
       "      <td>1.000000e+00</td>\n",
       "    </tr>\n",
       "    <tr>\n",
       "      <th>75%</th>\n",
       "      <td>4.000000e+00</td>\n",
       "      <td>0.000000e+00</td>\n",
       "      <td>1.840000e+02</td>\n",
       "      <td>1.048576e+07</td>\n",
       "      <td>8.719960e+05</td>\n",
       "      <td>0.000000e+00</td>\n",
       "      <td>3.900000e+01</td>\n",
       "      <td>1.500000e+01</td>\n",
       "      <td>1.700000e+01</td>\n",
       "    </tr>\n",
       "    <tr>\n",
       "      <th>max</th>\n",
       "      <td>8.000000e+00</td>\n",
       "      <td>2.048000e+03</td>\n",
       "      <td>1.552800e+04</td>\n",
       "      <td>1.342177e+08</td>\n",
       "      <td>2.365252e+07</td>\n",
       "      <td>3.779170e+05</td>\n",
       "      <td>1.449880e+05</td>\n",
       "      <td>1.126790e+05</td>\n",
       "      <td>1.142190e+05</td>\n",
       "    </tr>\n",
       "  </tbody>\n",
       "</table>\n",
       "</div>"
      ],
      "text/plain": [
       "          CPU cores  CPU capacity provisioned [MHZ]  CPU usage [MHZ]  \\\n",
       "count  5.329730e+06                    5.329730e+06     5.329730e+06   \n",
       "mean   2.637684e+00                    3.982851e+00     2.596080e+02   \n",
       "std    1.628044e+00                    9.022758e+01     6.365165e+02   \n",
       "min    1.000000e+00                    0.000000e+00     1.000000e+00   \n",
       "25%    2.000000e+00                    0.000000e+00     2.400000e+01   \n",
       "50%    2.000000e+00                    0.000000e+00     6.900000e+01   \n",
       "75%    4.000000e+00                    0.000000e+00     1.840000e+02   \n",
       "max    8.000000e+00                    2.048000e+03     1.552800e+04   \n",
       "\n",
       "       Memory capacity provisioned [KB]  Memory usage [KB]  \\\n",
       "count                      5.329730e+06       5.329730e+06   \n",
       "mean                       8.873539e+06       7.058790e+05   \n",
       "std                        1.009509e+07       1.135087e+06   \n",
       "min                        1.048576e+06       0.000000e+00   \n",
       "25%                        4.194304e+06       8.053100e+04   \n",
       "50%                        8.388608e+06       2.231370e+05   \n",
       "75%                        1.048576e+07       8.719960e+05   \n",
       "max                        1.342177e+08       2.365252e+07   \n",
       "\n",
       "       Disk read throughput [KB/s]  Disk write throughput [KB/s]  \\\n",
       "count                 5.329730e+06                  5.329730e+06   \n",
       "mean                  5.352213e+02                  1.790060e+02   \n",
       "std                   6.929329e+03                  1.533413e+03   \n",
       "min                   0.000000e+00                  0.000000e+00   \n",
       "25%                   0.000000e+00                  1.000000e+00   \n",
       "50%                   0.000000e+00                  8.000000e+00   \n",
       "75%                   0.000000e+00                  3.900000e+01   \n",
       "max                   3.779170e+05                  1.449880e+05   \n",
       "\n",
       "       Network received throughput [KB/s]  \\\n",
       "count                        5.329730e+06   \n",
       "mean                         9.293955e+01   \n",
       "std                          9.121657e+02   \n",
       "min                          0.000000e+00   \n",
       "25%                          0.000000e+00   \n",
       "50%                          1.000000e+00   \n",
       "75%                          1.500000e+01   \n",
       "max                          1.126790e+05   \n",
       "\n",
       "       Network transmitted throughput [KB/s]  \n",
       "count                           5.329730e+06  \n",
       "mean                            1.396144e+02  \n",
       "std                             1.434829e+03  \n",
       "min                             0.000000e+00  \n",
       "25%                             0.000000e+00  \n",
       "50%                             1.000000e+00  \n",
       "75%                             1.700000e+01  \n",
       "max                             1.142190e+05  "
      ]
     },
     "execution_count": 6,
     "metadata": {},
     "output_type": "execute_result"
    }
   ],
   "source": [
    "df.describe()"
   ]
  },
  {
   "cell_type": "code",
   "execution_count": 7,
   "metadata": {},
   "outputs": [
    {
     "name": "stdout",
     "output_type": "stream",
     "text": [
      "<class 'pandas.core.frame.DataFrame'>\n",
      "RangeIndex: 5329730 entries, 0 to 5329729\n",
      "Data columns (total 13 columns):\n",
      " #   Column                                 Dtype \n",
      "---  ------                                 ----- \n",
      " 0   Timestamp                              object\n",
      " 1   CPU cores                              int64 \n",
      " 2   CPU capacity provisioned [MHZ]         int64 \n",
      " 3   CPU usage [MHZ]                        int64 \n",
      " 4   CPU usage [%]                          object\n",
      " 5   Memory capacity provisioned [KB]       int64 \n",
      " 6   Memory usage [KB]                      int64 \n",
      " 7   Memory usage [%]                       object\n",
      " 8   Disk read throughput [KB/s]            int64 \n",
      " 9   Disk write throughput [KB/s]           int64 \n",
      " 10  Disk size [GB]                         object\n",
      " 11  Network received throughput [KB/s]     int64 \n",
      " 12  Network transmitted throughput [KB/s]  int64 \n",
      "dtypes: int64(9), object(4)\n",
      "memory usage: 528.6+ MB\n"
     ]
    }
   ],
   "source": [
    "df.info()"
   ]
  },
  {
   "cell_type": "code",
   "execution_count": 8,
   "metadata": {},
   "outputs": [
    {
     "data": {
      "text/plain": [
       "<matplotlib.axes._subplots.AxesSubplot at 0x26d965e2820>"
      ]
     },
     "execution_count": 8,
     "metadata": {},
     "output_type": "execute_result"
    },
    {
     "data": {
      "image/png": "[encoded data removed]",
      "text/plain": [
       "<Figure size 432x288 with 1 Axes>"
      ]
     },
     "metadata": {
      "needs_background": "light"
     },
     "output_type": "display_data"
    }
   ],
   "source": [
    "df.boxplot(column = ['CPU capacity provisioned [MHZ]'])"
   ]
  },
  {
   "cell_type": "code",
   "execution_count": 9,
   "metadata": {},
   "outputs": [
    {
     "data": {
      "text/plain": [
       "<matplotlib.axes._subplots.AxesSubplot at 0x26dab1f1ee0>"
      ]
     },
     "execution_count": 9,
     "metadata": {},
     "output_type": "execute_result"
    },
    {
     "data": {
      "image/png": "[encoded data removed]",
      "text/plain": [
       "<Figure size 432x288 with 1 Axes>"
      ]
     },
     "metadata": {
      "needs_background": "light"
     },
     "output_type": "display_data"
    }
   ],
   "source": [
    "df['CPU capacity provisioned [MHZ]'].hist(bins = 50)"
   ]
  },
  {
   "cell_type": "code",
   "execution_count": 10,
   "metadata": {},
   "outputs": [
    {
     "data": {
      "text/plain": [
       "0       5319365\n",
       "2048      10365\n",
       "Name: CPU capacity provisioned [MHZ], dtype: int64"
      ]
     },
     "execution_count": 10,
     "metadata": {},
     "output_type": "execute_result"
    }
   ],
   "source": [
    "df['CPU capacity provisioned [MHZ]'].value_counts(0)"
   ]
  },
  {
   "cell_type": "code",
   "execution_count": 11,
   "metadata": {},
   "outputs": [
    {
     "data": {
      "text/plain": [
       "2    3292311\n",
       "4     965682\n",
       "1     670847\n",
       "8     267303\n",
       "6     133587\n",
       "Name: CPU cores, dtype: int64"
      ]
     },
     "execution_count": 11,
     "metadata": {},
     "output_type": "execute_result"
    }
   ],
   "source": [
    "df['CPU cores'].value_counts()"
   ]
  },
  {
   "cell_type": "code",
   "execution_count": 65,
   "metadata": {},
   "outputs": [],
   "source": [
    "from sklearn import metrics\n",
    "from sklearn.preprocessing import StandardScaler\n",
    "from sklearn.cluster import DBSCAN\n",
    "from numpy import unique\n",
    "from numpy import where"
   ]
  },
  {
   "cell_type": "code",
   "execution_count": 15,
   "metadata": {},
   "outputs": [],
   "source": [
    "def dbscan(eps, min_samples, data, start, end):\n",
    "  # define the model\n",
    "  model = DBSCAN(eps, min_samples)\n",
    "  # fit model and predict clusters\n",
    "  yhat = model.fit_predict(data)\n",
    "  # retrieve unique clusters\n",
    "  clusters = unique(yhat)\n",
    "  # create scatter plot for samples from each cluster\n",
    "  for cluster in clusters:\n",
    "    # get row indexes for samples with this cluster\n",
    "    row_ix = where(yhat == cluster)\n",
    "    # create scatter of these samples\n",
    "    plt.scatter(data[row_ix, start], data[row_ix, end])\n",
    "    plt.title(\"eps=\"+str(eps)+\"    \"+\"min_samples=\"+str(min_samples))\n",
    "  # show the plot\n",
    "  plt.show()"
   ]
  },
  {
   "cell_type": "code",
   "execution_count": 17,
   "metadata": {},
   "outputs": [
    {
     "data": {
      "text/html": [
       "<div>\n",
       "<style scoped>\n",
       "    .dataframe tbody tr th:only-of-type {\n",
       "        vertical-align: middle;\n",
       "    }\n",
       "\n",
       "    .dataframe tbody tr th {\n",
       "        vertical-align: top;\n",
       "    }\n",
       "\n",
       "    .dataframe thead th {\n",
       "        text-align: right;\n",
       "    }\n",
       "</style>\n",
       "<table border=\"1\" class=\"dataframe\">\n",
       "  <thead>\n",
       "    <tr style=\"text-align: right;\">\n",
       "      <th></th>\n",
       "      <th>CPU cores</th>\n",
       "      <th>CPU capacity provisioned [MHZ]</th>\n",
       "      <th>CPU usage [MHZ]</th>\n",
       "      <th>Memory capacity provisioned [KB]</th>\n",
       "      <th>Memory usage [KB]</th>\n",
       "      <th>Disk read throughput [KB/s]</th>\n",
       "      <th>Disk write throughput [KB/s]</th>\n",
       "      <th>Network received throughput [KB/s]</th>\n",
       "      <th>Network transmitted throughput [KB/s]</th>\n",
       "    </tr>\n",
       "  </thead>\n",
       "  <tbody>\n",
       "    <tr>\n",
       "      <th>count</th>\n",
       "      <td>5.329730e+06</td>\n",
       "      <td>5.329730e+06</td>\n",
       "      <td>5.329730e+06</td>\n",
       "      <td>5.329730e+06</td>\n",
       "      <td>5.329730e+06</td>\n",
       "      <td>5.329730e+06</td>\n",
       "      <td>5.329730e+06</td>\n",
       "      <td>5.329730e+06</td>\n",
       "      <td>5.329730e+06</td>\n",
       "    </tr>\n",
       "    <tr>\n",
       "      <th>mean</th>\n",
       "      <td>2.637684e+00</td>\n",
       "      <td>3.982851e+00</td>\n",
       "      <td>2.596080e+02</td>\n",
       "      <td>8.873539e+06</td>\n",
       "      <td>7.058790e+05</td>\n",
       "      <td>5.352213e+02</td>\n",
       "      <td>1.790060e+02</td>\n",
       "      <td>9.293955e+01</td>\n",
       "      <td>1.396144e+02</td>\n",
       "    </tr>\n",
       "    <tr>\n",
       "      <th>std</th>\n",
       "      <td>1.628044e+00</td>\n",
       "      <td>9.022758e+01</td>\n",
       "      <td>6.365165e+02</td>\n",
       "      <td>1.009509e+07</td>\n",
       "      <td>1.135087e+06</td>\n",
       "      <td>6.929329e+03</td>\n",
       "      <td>1.533413e+03</td>\n",
       "      <td>9.121657e+02</td>\n",
       "      <td>1.434829e+03</td>\n",
       "    </tr>\n",
       "    <tr>\n",
       "      <th>min</th>\n",
       "      <td>1.000000e+00</td>\n",
       "      <td>0.000000e+00</td>\n",
       "      <td>1.000000e+00</td>\n",
       "      <td>1.048576e+06</td>\n",
       "      <td>0.000000e+00</td>\n",
       "      <td>0.000000e+00</td>\n",
       "      <td>0.000000e+00</td>\n",
       "      <td>0.000000e+00</td>\n",
       "      <td>0.000000e+00</td>\n",
       "    </tr>\n",
       "    <tr>\n",
       "      <th>25%</th>\n",
       "      <td>2.000000e+00</td>\n",
       "      <td>0.000000e+00</td>\n",
       "      <td>2.400000e+01</td>\n",
       "      <td>4.194304e+06</td>\n",
       "      <td>8.053100e+04</td>\n",
       "      <td>0.000000e+00</td>\n",
       "      <td>1.000000e+00</td>\n",
       "      <td>0.000000e+00</td>\n",
       "      <td>0.000000e+00</td>\n",
       "    </tr>\n",
       "    <tr>\n",
       "      <th>50%</th>\n",
       "      <td>2.000000e+00</td>\n",
       "      <td>0.000000e+00</td>\n",
       "      <td>6.900000e+01</td>\n",
       "      <td>8.388608e+06</td>\n",
       "      <td>2.231370e+05</td>\n",
       "      <td>0.000000e+00</td>\n",
       "      <td>8.000000e+00</td>\n",
       "      <td>1.000000e+00</td>\n",
       "      <td>1.000000e+00</td>\n",
       "    </tr>\n",
       "    <tr>\n",
       "      <th>75%</th>\n",
       "      <td>4.000000e+00</td>\n",
       "      <td>0.000000e+00</td>\n",
       "      <td>1.840000e+02</td>\n",
       "      <td>1.048576e+07</td>\n",
       "      <td>8.719960e+05</td>\n",
       "      <td>0.000000e+00</td>\n",
       "      <td>3.900000e+01</td>\n",
       "      <td>1.500000e+01</td>\n",
       "      <td>1.700000e+01</td>\n",
       "    </tr>\n",
       "    <tr>\n",
       "      <th>max</th>\n",
       "      <td>8.000000e+00</td>\n",
       "      <td>2.048000e+03</td>\n",
       "      <td>1.552800e+04</td>\n",
       "      <td>1.342177e+08</td>\n",
       "      <td>2.365252e+07</td>\n",
       "      <td>3.779170e+05</td>\n",
       "      <td>1.449880e+05</td>\n",
       "      <td>1.126790e+05</td>\n",
       "      <td>1.142190e+05</td>\n",
       "    </tr>\n",
       "  </tbody>\n",
       "</table>\n",
       "</div>"
      ],
      "text/plain": [
       "          CPU cores  CPU capacity provisioned [MHZ]  CPU usage [MHZ]  \\\n",
       "count  5.329730e+06                    5.329730e+06     5.329730e+06   \n",
       "mean   2.637684e+00                    3.982851e+00     2.596080e+02   \n",
       "std    1.628044e+00                    9.022758e+01     6.365165e+02   \n",
       "min    1.000000e+00                    0.000000e+00     1.000000e+00   \n",
       "25%    2.000000e+00                    0.000000e+00     2.400000e+01   \n",
       "50%    2.000000e+00                    0.000000e+00     6.900000e+01   \n",
       "75%    4.000000e+00                    0.000000e+00     1.840000e+02   \n",
       "max    8.000000e+00                    2.048000e+03     1.552800e+04   \n",
       "\n",
       "       Memory capacity provisioned [KB]  Memory usage [KB]  \\\n",
       "count                      5.329730e+06       5.329730e+06   \n",
       "mean                       8.873539e+06       7.058790e+05   \n",
       "std                        1.009509e+07       1.135087e+06   \n",
       "min                        1.048576e+06       0.000000e+00   \n",
       "25%                        4.194304e+06       8.053100e+04   \n",
       "50%                        8.388608e+06       2.231370e+05   \n",
       "75%                        1.048576e+07       8.719960e+05   \n",
       "max                        1.342177e+08       2.365252e+07   \n",
       "\n",
       "       Disk read throughput [KB/s]  Disk write throughput [KB/s]  \\\n",
       "count                 5.329730e+06                  5.329730e+06   \n",
       "mean                  5.352213e+02                  1.790060e+02   \n",
       "std                   6.929329e+03                  1.533413e+03   \n",
       "min                   0.000000e+00                  0.000000e+00   \n",
       "25%                   0.000000e+00                  1.000000e+00   \n",
       "50%                   0.000000e+00                  8.000000e+00   \n",
       "75%                   0.000000e+00                  3.900000e+01   \n",
       "max                   3.779170e+05                  1.449880e+05   \n",
       "\n",
       "       Network received throughput [KB/s]  \\\n",
       "count                        5.329730e+06   \n",
       "mean                         9.293955e+01   \n",
       "std                          9.121657e+02   \n",
       "min                          0.000000e+00   \n",
       "25%                          0.000000e+00   \n",
       "50%                          1.000000e+00   \n",
       "75%                          1.500000e+01   \n",
       "max                          1.126790e+05   \n",
       "\n",
       "       Network transmitted throughput [KB/s]  \n",
       "count                           5.329730e+06  \n",
       "mean                            1.396144e+02  \n",
       "std                             1.434829e+03  \n",
       "min                             0.000000e+00  \n",
       "25%                             0.000000e+00  \n",
       "50%                             1.000000e+00  \n",
       "75%                             1.700000e+01  \n",
       "max                             1.142190e+05  "
      ]
     },
     "execution_count": 17,
     "metadata": {},
     "output_type": "execute_result"
    }
   ],
   "source": [
    "df.describe()"
   ]
  },
  {
   "cell_type": "code",
   "execution_count": 19,
   "metadata": {},
   "outputs": [
    {
     "data": {
      "text/plain": [
       "0       5319365\n",
       "2048      10365\n",
       "Name: CPU capacity provisioned [MHZ], dtype: int64"
      ]
     },
     "execution_count": 19,
     "metadata": {},
     "output_type": "execute_result"
    }
   ],
   "source": [
    "df['CPU capacity provisioned [MHZ]'].value_counts(0)"
   ]
  },
  {
   "cell_type": "code",
   "execution_count": 20,
   "metadata": {},
   "outputs": [
    {
     "data": {
      "text/plain": [
       "19      97579\n",
       "20      93277\n",
       "10      93208\n",
       "21      92300\n",
       "9       90987\n",
       "        ...  \n",
       "7810        1\n",
       "4533        1\n",
       "9847        1\n",
       "7805        1\n",
       "6770        1\n",
       "Name: CPU usage [MHZ], Length: 7834, dtype: int64"
      ]
     },
     "execution_count": 20,
     "metadata": {},
     "output_type": "execute_result"
    }
   ],
   "source": [
    "df['CPU usage [MHZ]'].value_counts()"
   ]
  },
  {
   "cell_type": "code",
   "execution_count": 21,
   "metadata": {},
   "outputs": [
    {
     "data": {
      "text/plain": [
       "<matplotlib.axes._subplots.AxesSubplot at 0x26dab0aa2e0>"
      ]
     },
     "execution_count": 21,
     "metadata": {},
     "output_type": "execute_result"
    },
    {
     "data": {
      "image/png": "[encoded data removed]",
      "text/plain": [
       "<Figure size 432x288 with 1 Axes>"
      ]
     },
     "metadata": {
      "needs_background": "light"
     },
     "output_type": "display_data"
    }
   ],
   "source": [
    "sns.boxplot(df['CPU usage [MHZ]'])"
   ]
  },
  {
   "cell_type": "code",
   "execution_count": 23,
   "metadata": {},
   "outputs": [
    {
     "data": {
      "text/plain": [
       "<matplotlib.axes._subplots.AxesSubplot at 0x26db155afa0>"
      ]
     },
     "execution_count": 23,
     "metadata": {},
     "output_type": "execute_result"
    },
    {
     "data": {
      "image/png": "[encoded data removed]",
      "text/plain": [
       "<Figure size 432x288 with 1 Axes>"
      ]
     },
     "metadata": {
      "needs_background": "light"
     },
     "output_type": "display_data"
    }
   ],
   "source": [
    "np.log(df['CPU usage [MHZ]']).hist(bins = 50)#this feature was very robust earlier. By taking the log of the feature we are\n",
    "                                            # getting a normalized curve."
   ]
  },
  {
   "cell_type": "code",
   "execution_count": 24,
   "metadata": {},
   "outputs": [
    {
     "data": {
      "text/plain": [
       "8388608      1433188\n",
       "4194304      1203174\n",
       "2097152      1056096\n",
       "16777216      674636\n",
       "12582912      270124\n",
       "6291456       170476\n",
       "25165824      155506\n",
       "20971520      112865\n",
       "10485760       62203\n",
       "33554432       46940\n",
       "14680064       41170\n",
       "3145728        38850\n",
       "1048576        31104\n",
       "134217728      20736\n",
       "5242880        10368\n",
       "50331648        2294\n",
       "Name: Memory capacity provisioned [KB], dtype: int64"
      ]
     },
     "execution_count": 24,
     "metadata": {},
     "output_type": "execute_result"
    }
   ],
   "source": [
    "df['Memory capacity provisioned [KB]'].value_counts()"
   ]
  },
  {
   "cell_type": "code",
   "execution_count": 25,
   "metadata": {},
   "outputs": [
    {
     "data": {
      "text/plain": [
       "<matplotlib.axes._subplots.AxesSubplot at 0x26dce4f0520>"
      ]
     },
     "execution_count": 25,
     "metadata": {},
     "output_type": "execute_result"
    },
    {
     "data": {
      "image/png": "[encoded data removed]",
      "text/plain": [
       "<Figure size 432x288 with 1 Axes>"
      ]
     },
     "metadata": {
      "needs_background": "light"
     },
     "output_type": "display_data"
    }
   ],
   "source": [
    "df['Memory capacity provisioned [KB]'].hist(bins = 50)"
   ]
  },
  {
   "cell_type": "code",
   "execution_count": 36,
   "metadata": {},
   "outputs": [
    {
     "data": {
      "text/plain": [
       "<matplotlib.axes._subplots.AxesSubplot at 0x26dc5005a30>"
      ]
     },
     "execution_count": 36,
     "metadata": {},
     "output_type": "execute_result"
    },
    {
     "data": {
      "image/png": "[encoded data removed]",
      "text/plain": [
       "<Figure size 432x288 with 1 Axes>"
      ]
     },
     "metadata": {
      "needs_background": "light"
     },
     "output_type": "display_data"
    }
   ],
   "source": [
    "np.log(df['Memory capacity provisioned [KB]']).hist(bins = 50)"
   ]
  },
  {
   "cell_type": "code",
   "execution_count": 38,
   "metadata": {},
   "outputs": [
    {
     "data": {
      "text/plain": [
       "count    5.329730e+06\n",
       "mean     1.567225e+01\n",
       "std      7.905589e-01\n",
       "min      1.386294e+01\n",
       "25%      1.524924e+01\n",
       "50%      1.594239e+01\n",
       "75%      1.616553e+01\n",
       "max      1.871497e+01\n",
       "Name: Memory capacity provisioned [KB], dtype: float64"
      ]
     },
     "execution_count": 38,
     "metadata": {},
     "output_type": "execute_result"
    }
   ],
   "source": [
    "np.log(df['Memory capacity provisioned [KB]']).describe()"
   ]
  },
  {
   "cell_type": "code",
   "execution_count": 39,
   "metadata": {},
   "outputs": [
    {
     "data": {
      "text/html": [
       "<div>\n",
       "<style scoped>\n",
       "    .dataframe tbody tr th:only-of-type {\n",
       "        vertical-align: middle;\n",
       "    }\n",
       "\n",
       "    .dataframe tbody tr th {\n",
       "        vertical-align: top;\n",
       "    }\n",
       "\n",
       "    .dataframe thead th {\n",
       "        text-align: right;\n",
       "    }\n",
       "</style>\n",
       "<table border=\"1\" class=\"dataframe\">\n",
       "  <thead>\n",
       "    <tr style=\"text-align: right;\">\n",
       "      <th></th>\n",
       "      <th>CPU cores</th>\n",
       "      <th>CPU capacity provisioned [MHZ]</th>\n",
       "      <th>CPU usage [MHZ]</th>\n",
       "      <th>Memory capacity provisioned [KB]</th>\n",
       "      <th>Memory usage [KB]</th>\n",
       "      <th>Disk read throughput [KB/s]</th>\n",
       "      <th>Disk write throughput [KB/s]</th>\n",
       "      <th>Network received throughput [KB/s]</th>\n",
       "      <th>Network transmitted throughput [KB/s]</th>\n",
       "    </tr>\n",
       "  </thead>\n",
       "  <tbody>\n",
       "    <tr>\n",
       "      <th>count</th>\n",
       "      <td>5.329730e+06</td>\n",
       "      <td>5.329730e+06</td>\n",
       "      <td>5.329730e+06</td>\n",
       "      <td>5.329730e+06</td>\n",
       "      <td>5.329730e+06</td>\n",
       "      <td>5.329730e+06</td>\n",
       "      <td>5.329730e+06</td>\n",
       "      <td>5.329730e+06</td>\n",
       "      <td>5.329730e+06</td>\n",
       "    </tr>\n",
       "    <tr>\n",
       "      <th>mean</th>\n",
       "      <td>2.637684e+00</td>\n",
       "      <td>3.982851e+00</td>\n",
       "      <td>2.596080e+02</td>\n",
       "      <td>8.873539e+06</td>\n",
       "      <td>7.058790e+05</td>\n",
       "      <td>5.352213e+02</td>\n",
       "      <td>1.790060e+02</td>\n",
       "      <td>9.293955e+01</td>\n",
       "      <td>1.396144e+02</td>\n",
       "    </tr>\n",
       "    <tr>\n",
       "      <th>std</th>\n",
       "      <td>1.628044e+00</td>\n",
       "      <td>9.022758e+01</td>\n",
       "      <td>6.365165e+02</td>\n",
       "      <td>1.009509e+07</td>\n",
       "      <td>1.135087e+06</td>\n",
       "      <td>6.929329e+03</td>\n",
       "      <td>1.533413e+03</td>\n",
       "      <td>9.121657e+02</td>\n",
       "      <td>1.434829e+03</td>\n",
       "    </tr>\n",
       "    <tr>\n",
       "      <th>min</th>\n",
       "      <td>1.000000e+00</td>\n",
       "      <td>0.000000e+00</td>\n",
       "      <td>1.000000e+00</td>\n",
       "      <td>1.048576e+06</td>\n",
       "      <td>0.000000e+00</td>\n",
       "      <td>0.000000e+00</td>\n",
       "      <td>0.000000e+00</td>\n",
       "      <td>0.000000e+00</td>\n",
       "      <td>0.000000e+00</td>\n",
       "    </tr>\n",
       "    <tr>\n",
       "      <th>25%</th>\n",
       "      <td>2.000000e+00</td>\n",
       "      <td>0.000000e+00</td>\n",
       "      <td>2.400000e+01</td>\n",
       "      <td>4.194304e+06</td>\n",
       "      <td>8.053100e+04</td>\n",
       "      <td>0.000000e+00</td>\n",
       "      <td>1.000000e+00</td>\n",
       "      <td>0.000000e+00</td>\n",
       "      <td>0.000000e+00</td>\n",
       "    </tr>\n",
       "    <tr>\n",
       "      <th>50%</th>\n",
       "      <td>2.000000e+00</td>\n",
       "      <td>0.000000e+00</td>\n",
       "      <td>6.900000e+01</td>\n",
       "      <td>8.388608e+06</td>\n",
       "      <td>2.231370e+05</td>\n",
       "      <td>0.000000e+00</td>\n",
       "      <td>8.000000e+00</td>\n",
       "      <td>1.000000e+00</td>\n",
       "      <td>1.000000e+00</td>\n",
       "    </tr>\n",
       "    <tr>\n",
       "      <th>75%</th>\n",
       "      <td>4.000000e+00</td>\n",
       "      <td>0.000000e+00</td>\n",
       "      <td>1.840000e+02</td>\n",
       "      <td>1.048576e+07</td>\n",
       "      <td>8.719960e+05</td>\n",
       "      <td>0.000000e+00</td>\n",
       "      <td>3.900000e+01</td>\n",
       "      <td>1.500000e+01</td>\n",
       "      <td>1.700000e+01</td>\n",
       "    </tr>\n",
       "    <tr>\n",
       "      <th>max</th>\n",
       "      <td>8.000000e+00</td>\n",
       "      <td>2.048000e+03</td>\n",
       "      <td>1.552800e+04</td>\n",
       "      <td>1.342177e+08</td>\n",
       "      <td>2.365252e+07</td>\n",
       "      <td>3.779170e+05</td>\n",
       "      <td>1.449880e+05</td>\n",
       "      <td>1.126790e+05</td>\n",
       "      <td>1.142190e+05</td>\n",
       "    </tr>\n",
       "  </tbody>\n",
       "</table>\n",
       "</div>"
      ],
      "text/plain": [
       "          CPU cores  CPU capacity provisioned [MHZ]  CPU usage [MHZ]  \\\n",
       "count  5.329730e+06                    5.329730e+06     5.329730e+06   \n",
       "mean   2.637684e+00                    3.982851e+00     2.596080e+02   \n",
       "std    1.628044e+00                    9.022758e+01     6.365165e+02   \n",
       "min    1.000000e+00                    0.000000e+00     1.000000e+00   \n",
       "25%    2.000000e+00                    0.000000e+00     2.400000e+01   \n",
       "50%    2.000000e+00                    0.000000e+00     6.900000e+01   \n",
       "75%    4.000000e+00                    0.000000e+00     1.840000e+02   \n",
       "max    8.000000e+00                    2.048000e+03     1.552800e+04   \n",
       "\n",
       "       Memory capacity provisioned [KB]  Memory usage [KB]  \\\n",
       "count                      5.329730e+06       5.329730e+06   \n",
       "mean                       8.873539e+06       7.058790e+05   \n",
       "std                        1.009509e+07       1.135087e+06   \n",
       "min                        1.048576e+06       0.000000e+00   \n",
       "25%                        4.194304e+06       8.053100e+04   \n",
       "50%                        8.388608e+06       2.231370e+05   \n",
       "75%                        1.048576e+07       8.719960e+05   \n",
       "max                        1.342177e+08       2.365252e+07   \n",
       "\n",
       "       Disk read throughput [KB/s]  Disk write throughput [KB/s]  \\\n",
       "count                 5.329730e+06                  5.329730e+06   \n",
       "mean                  5.352213e+02                  1.790060e+02   \n",
       "std                   6.929329e+03                  1.533413e+03   \n",
       "min                   0.000000e+00                  0.000000e+00   \n",
       "25%                   0.000000e+00                  1.000000e+00   \n",
       "50%                   0.000000e+00                  8.000000e+00   \n",
       "75%                   0.000000e+00                  3.900000e+01   \n",
       "max                   3.779170e+05                  1.449880e+05   \n",
       "\n",
       "       Network received throughput [KB/s]  \\\n",
       "count                        5.329730e+06   \n",
       "mean                         9.293955e+01   \n",
       "std                          9.121657e+02   \n",
       "min                          0.000000e+00   \n",
       "25%                          0.000000e+00   \n",
       "50%                          1.000000e+00   \n",
       "75%                          1.500000e+01   \n",
       "max                          1.126790e+05   \n",
       "\n",
       "       Network transmitted throughput [KB/s]  \n",
       "count                           5.329730e+06  \n",
       "mean                            1.396144e+02  \n",
       "std                             1.434829e+03  \n",
       "min                             0.000000e+00  \n",
       "25%                             0.000000e+00  \n",
       "50%                             1.000000e+00  \n",
       "75%                             1.700000e+01  \n",
       "max                             1.142190e+05  "
      ]
     },
     "execution_count": 39,
     "metadata": {},
     "output_type": "execute_result"
    }
   ],
   "source": [
    "df.describe()"
   ]
  },
  {
   "cell_type": "code",
   "execution_count": 40,
   "metadata": {},
   "outputs": [
    {
     "data": {
      "text/plain": [
       "0           327072\n",
       "65431        25614\n",
       "41524        23971\n",
       "83467        22857\n",
       "55365        22773\n",
       "             ...  \n",
       "3091621          1\n",
       "3297142          1\n",
       "12915101         1\n",
       "3694133          1\n",
       "6319767          1\n",
       "Name: Memory usage [KB], Length: 12980, dtype: int64"
      ]
     },
     "execution_count": 40,
     "metadata": {},
     "output_type": "execute_result"
    }
   ],
   "source": [
    "df['Memory usage [KB]'].value_counts()"
   ]
  },
  {
   "cell_type": "code",
   "execution_count": 44,
   "metadata": {},
   "outputs": [
    {
     "data": {
      "text/plain": [
       "<matplotlib.axes._subplots.AxesSubplot at 0x26dcd1e7910>"
      ]
     },
     "execution_count": 44,
     "metadata": {},
     "output_type": "execute_result"
    },
    {
     "data": {
      "image/png": "[encoded data removed]",
      "text/plain": [
       "<Figure size 432x288 with 1 Axes>"
      ]
     },
     "metadata": {
      "needs_background": "light"
     },
     "output_type": "display_data"
    }
   ],
   "source": [
    "df['Memory usage [KB]'].hist(bins = 50)"
   ]
  },
  {
   "cell_type": "code",
   "execution_count": 45,
   "metadata": {},
   "outputs": [
    {
     "data": {
      "text/plain": [
       "<matplotlib.axes._subplots.AxesSubplot at 0x26dcdc99ca0>"
      ]
     },
     "execution_count": 45,
     "metadata": {},
     "output_type": "execute_result"
    },
    {
     "data": {
      "image/png": "[encoded data removed]",
      "text/plain": [
       "<Figure size 432x288 with 1 Axes>"
      ]
     },
     "metadata": {
      "needs_background": "light"
     },
     "output_type": "display_data"
    }
   ],
   "source": [
    "sns.boxplot(df['Memory usage [KB]'])"
   ]
  },
  {
   "cell_type": "code",
   "execution_count": 46,
   "metadata": {},
   "outputs": [
    {
     "data": {
      "text/plain": [
       "0         4500772\n",
       "1          102974\n",
       "2           50511\n",
       "3           36984\n",
       "4           28486\n",
       "           ...   \n",
       "26192           1\n",
       "35844           1\n",
       "191561          1\n",
       "13914           1\n",
       "79858           1\n",
       "Name: Disk read throughput [KB/s], Length: 43857, dtype: int64"
      ]
     },
     "execution_count": 46,
     "metadata": {},
     "output_type": "execute_result"
    }
   ],
   "source": [
    "df['Disk read throughput [KB/s]'].value_counts()"
   ]
  },
  {
   "cell_type": "code",
   "execution_count": 47,
   "metadata": {},
   "outputs": [
    {
     "name": "stdout",
     "output_type": "stream",
     "text": [
      "<class 'pandas.core.frame.DataFrame'>\n",
      "RangeIndex: 5329730 entries, 0 to 5329729\n",
      "Data columns (total 13 columns):\n",
      " #   Column                                 Dtype \n",
      "---  ------                                 ----- \n",
      " 0   Timestamp                              object\n",
      " 1   CPU cores                              int64 \n",
      " 2   CPU capacity provisioned [MHZ]         int64 \n",
      " 3   CPU usage [MHZ]                        int64 \n",
      " 4   CPU usage [%]                          object\n",
      " 5   Memory capacity provisioned [KB]       int64 \n",
      " 6   Memory usage [KB]                      int64 \n",
      " 7   Memory usage [%]                       object\n",
      " 8   Disk read throughput [KB/s]            int64 \n",
      " 9   Disk write throughput [KB/s]           int64 \n",
      " 10  Disk size [GB]                         object\n",
      " 11  Network received throughput [KB/s]     int64 \n",
      " 12  Network transmitted throughput [KB/s]  int64 \n",
      "dtypes: int64(9), object(4)\n",
      "memory usage: 528.6+ MB\n"
     ]
    }
   ],
   "source": [
    "df.info()"
   ]
  },
  {
   "cell_type": "code",
   "execution_count": 48,
   "metadata": {},
   "outputs": [
    {
     "data": {
      "text/plain": [
       "0,23     55912\n",
       "0,22     51117\n",
       "0,21     50040\n",
       "0,18     45015\n",
       "0,41     44539\n",
       "         ...  \n",
       "87,08        1\n",
       "91,3         1\n",
       "97,02        1\n",
       "67,87        1\n",
       "88,27        1\n",
       "Name: CPU usage [%], Length: 9298, dtype: int64"
      ]
     },
     "execution_count": 48,
     "metadata": {},
     "output_type": "execute_result"
    }
   ],
   "source": [
    "df['CPU usage [%]'].value_counts()"
   ]
  },
  {
   "cell_type": "code",
   "execution_count": 51,
   "metadata": {},
   "outputs": [
    {
     "data": {
      "text/plain": [
       "22              665298\n",
       "24              353654\n",
       "438             216576\n",
       "58              198790\n",
       "34              190366\n",
       "                 ...  \n",
       "1274              1432\n",
       "114,38671875      1147\n",
       "522                582\n",
       "4382               576\n",
       "6392               288\n",
       "Name: Disk size [GB], Length: 154, dtype: int64"
      ]
     },
     "execution_count": 51,
     "metadata": {},
     "output_type": "execute_result"
    }
   ],
   "source": [
    "df['Disk size [GB]'].value_counts()"
   ]
  },
  {
   "cell_type": "code",
   "execution_count": 60,
   "metadata": {},
   "outputs": [],
   "source": [
    "df = df.drop('Timestamp', axis=1)\n",
    "#replace , with . in % values\n",
    "df = df.replace(to_replace=r',', value='.', regex=True)"
   ]
  },
  {
   "cell_type": "code",
   "execution_count": 61,
   "metadata": {},
   "outputs": [],
   "source": [
    "data = df[[\"CPU cores\", \"CPU capacity provisioned [MHZ]\", \"CPU usage [MHZ]\", \n",
    "                  \"Memory capacity provisioned [KB]\",\n",
    "                  \"Memory usage [KB]\", \"Disk read throughput [KB/s]\",\n",
    "                  \"Disk write throughput [KB/s]\", \"Disk size [GB]\",\n",
    "                  \"Network received throughput [KB/s]\",\n",
    "                  \"Network transmitted throughput [KB/s]\"]]"
   ]
  },
  {
   "cell_type": "code",
   "execution_count": 68,
   "metadata": {},
   "outputs": [
    {
     "name": "stderr",
     "output_type": "stream",
     "text": [
      "<ipython-input-68-4a4bd5358c1b>:3: DeprecationWarning: This function is deprecated. Please call randint(1, 5329730 + 1) instead\n",
      "  machine_data_index = np.random.random_integers(1, df.shape[0], 10000)\n",
      "C:\\ProgramData\\Anaconda3\\lib\\site-packages\\sklearn\\utils\\validation.py:68: FutureWarning: Pass min_samples=30 as keyword args. From version 0.25 passing these as positional arguments will result in an error\n",
      "  warnings.warn(\"Pass {} as keyword args. From version 0.25 \"\n"
     ]
    },
    {
     "data": {
      "image/png": "[encoded data removed]",
      "text/plain": [
       "<Figure size 432x288 with 1 Axes>"
      ]
     },
     "metadata": {
      "needs_background": "light"
     },
     "output_type": "display_data"
    }
   ],
   "source": [
    "machine_data_std = StandardScaler().fit_transform(df)\n",
    "#randomly choose ten thousand samples\n",
    "machine_data_index = np.random.random_integers(1, df.shape[0], 10000)\n",
    "#Apply DBSCAN algorithm\n",
    "dbscan(eps=0.5, min_samples=30, data=machine_data_std[machine_data_index], start=0, end=3)"
   ]
  },
  {
   "cell_type": "code",
   "execution_count": 70,
   "metadata": {},
   "outputs": [],
   "source": [
    "df['CPU usagelog'] = np.log(df['CPU usage [MHZ]'])"
   ]
  },
  {
   "cell_type": "code",
   "execution_count": null,
   "metadata": {},
   "outputs": [],
   "source": []
  },
  {
   "cell_type": "code",
   "execution_count": 72,
   "metadata": {},
   "outputs": [
    {
     "name": "stderr",
     "output_type": "stream",
     "text": [
      "<ipython-input-72-e0f4d405e337>:7: DeprecationWarning: This function is deprecated. Please call randint(1, 5329730 + 1) instead\n",
      "  machine_data_index = np.random.random_integers(1, df.shape[0], 10000)\n",
      "C:\\ProgramData\\Anaconda3\\lib\\site-packages\\sklearn\\utils\\validation.py:68: FutureWarning: Pass min_samples=100 as keyword args. From version 0.25 passing these as positional arguments will result in an error\n",
      "  warnings.warn(\"Pass {} as keyword args. From version 0.25 \"\n"
     ]
    },
    {
     "data": {
      "image/png": "[encoded data removed]",
      "text/plain": [
       "<Figure size 432x288 with 1 Axes>"
      ]
     },
     "metadata": {
      "needs_background": "light"
     },
     "output_type": "display_data"
    }
   ],
   "source": [
    "cpu_mem_disk_data = df[['CPU capacity provisioned [MHZ]', 'CPU usagelog', 'Memory capacity provisioned [KB]',\n",
    "       'Memory usage [KB]', 'Disk read throughput [KB/s]',\n",
    "       'Disk write throughput [KB/s]', 'Disk size [GB]']]\n",
    "#standard scale data\n",
    "cpu_mem_disk_data_std = StandardScaler().fit_transform(cpu_mem_disk_data)\n",
    "#randomly choose ten thousand samples\n",
    "machine_data_index = np.random.random_integers(1, df.shape[0], 10000)\n",
    "#Apply DBSCAN algorithm\n",
    "dbscan(eps=0.5, min_samples=100, data=cpu_mem_disk_data_std[machine_data_index], start=1, end=3)"
   ]
  },
  {
   "cell_type": "code",
   "execution_count": 80,
   "metadata": {
    "scrolled": false
   },
   "outputs": [
    {
     "name": "stderr",
     "output_type": "stream",
     "text": [
      "<ipython-input-80-0e269b5b5291>:8: DeprecationWarning: This function is deprecated. Please call randint(1, 5329730 + 1) instead\n",
      "  machine_data_index = np.random.random_integers(1, df.shape[0], 10000)\n",
      "C:\\ProgramData\\Anaconda3\\lib\\site-packages\\sklearn\\utils\\validation.py:68: FutureWarning: Pass min_samples=100 as keyword args. From version 0.25 passing these as positional arguments will result in an error\n",
      "  warnings.warn(\"Pass {} as keyword args. From version 0.25 \"\n"
     ]
    },
    {
     "data": {
      "image/png": "[encoded data removed]",
      "text/plain": [
       "<Figure size 432x288 with 1 Axes>"
      ]
     },
     "metadata": {
      "needs_background": "light"
     },
     "output_type": "display_data"
    }
   ],
   "source": [
    "cpu_mem_disk_NW_use_data = df[['CPU usagelog',\n",
    "                                   'Memory usage [%]',\n",
    "                                   'Disk read throughput [KB/s]',\n",
    "                                   'Disk write throughput [KB/s]']]\n",
    "#standard scale data                          \n",
    "cpu_mem_disk_NW_use_data_std = StandardScaler().fit_transform(cpu_mem_disk_NW_use_data)\n",
    "#randomly choose ten thousand samples\n",
    "machine_data_index = np.random.random_integers(1, df.shape[0], 10000)\n",
    "#Apply DBSCAN algorithm\n",
    "dbscan(eps=0.5, min_samples=100, data=cpu_mem_disk_NW_use_data_std[machine_data_index], start=0, end=1)"
   ]
  },
  {
   "cell_type": "code",
   "execution_count": 81,
   "metadata": {},
   "outputs": [],
   "source": [
    "from sklearn.cluster import KMeans"
   ]
  },
  {
   "cell_type": "code",
   "execution_count": 82,
   "metadata": {},
   "outputs": [],
   "source": [
    "kmeans = KMeans(n_clusters=2, random_state=0).fit(cpu_mem_disk_NW_use_data)"
   ]
  },
  {
   "cell_type": "code",
   "execution_count": 83,
   "metadata": {},
   "outputs": [],
   "source": [
    "y = kmeans.predict(cpu_mem_disk_NW_use_data)"
   ]
  },
  {
   "cell_type": "code",
   "execution_count": null,
   "metadata": {},
   "outputs": [],
   "source": []
  },
  {
   "cell_type": "code",
   "execution_count": null,
   "metadata": {},
   "outputs": [],
   "source": []
  },
  {
   "cell_type": "code",
   "execution_count": null,
   "metadata": {},
   "outputs": [],
   "source": []
  },
  {
   "cell_type": "code",
   "execution_count": null,
   "metadata": {},
   "outputs": [],
   "source": []
  },
  {
   "cell_type": "code",
   "execution_count": null,
   "metadata": {},
   "outputs": [],
   "source": []
  }
 ],
 "metadata": {
  "kernelspec": {
   "display_name": "Python 3",
   "language": "python",
   "name": "python3"
  },
  "language_info": {
   "codemirror_mode": {
    "name": "ipython",
    "version": 3
   },
   "file_extension": ".py",
   "mimetype": "text/x-python",
   "name": "python",
   "nbconvert_exporter": "python",
   "pygments_lexer": "ipython3",
   "version": "3.8.3"
  }
 },
 "nbformat": 4,
 "nbformat_minor": 4
}
