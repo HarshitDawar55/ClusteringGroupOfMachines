{
  "nbformat": 4,
  "nbformat_minor": 0,
  "metadata": {
    "colab": {
      "name": "import_lib.ipynb",
      "provenance": [],
      "authorship_tag": "ABX9TyPiuHnS+QecWQv29+BUvga2",
      "include_colab_link": true
    },
    "kernelspec": {
      "name": "python3",
      "display_name": "Python 3"
    }
  },
  "cells": [
    {
      "cell_type": "markdown",
      "metadata": {
        "id": "view-in-github",
        "colab_type": "text"
      },
      "source": [
        "<a href=\"https://colab.research.google.com/github/Satyadev-Patel/ClusteringGroupOfMachines/blob/master/import_lib.ipynb\" target=\"_parent\"><img src=\"https://colab.research.google.com/assets/colab-badge.svg\" alt=\"Open In Colab\"/></a>"
      ]
    },
    {
      "cell_type": "code",
      "metadata": {
        "id": "463YXlF2ejaO"
      },
      "source": [
        "def import_libs(self):\n",
        "  from google.colab import drive\n",
        "  import pandas as pd\n",
        "  import numpy as np\n",
        "  import matplotlib.pyplot as plt\n",
        "  import seaborn as sns\n",
        "  import glob \n",
        "  from sklearn import metrics\n",
        "  from sklearn.preprocessing import StandardScaler\n",
        "  from sklearn.cluster import DBSCAN\n",
        "  from numpy import unique\n",
        "  from numpy import where\n",
        "  from sklearn.cluster import AffinityPropagation\n",
        "  from sklearn.cluster import AgglomerativeClustering\n",
        "  from sklearn.cluster import Birch\n",
        "  from sklearn.cluster import KMeans\n",
        "  from sklearn.cluster import MiniBatchKMeans\n",
        "  from sklearn.cluster import MeanShift\n",
        "  from sklearn.cluster import SpectralClustering\n",
        "  from sklearn.mixture import GaussianMixture\n",
        "  from sklearn.cluster import OPTICS\n",
        "  from sklearn.model_selection import GridSearchCV"
      ],
      "execution_count": null,
      "outputs": []
    }
  ]
}