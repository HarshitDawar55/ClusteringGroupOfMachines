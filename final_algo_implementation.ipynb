{
  "nbformat": 4,
  "nbformat_minor": 0,
  "metadata": {
    "colab": {
      "name": "final_algo_implementation.ipynb",
      "provenance": [],
      "collapsed_sections": [
        "LvHrSvw_QkT6"
      ]
    },
    "kernelspec": {
      "display_name": "Python 3",
      "language": "python",
      "name": "python3"
    },
    "language_info": {
      "codemirror_mode": {
        "name": "ipython",
        "version": 3
      },
      "file_extension": ".py",
      "mimetype": "text/x-python",
      "name": "python",
      "nbconvert_exporter": "python",
      "pygments_lexer": "ipython3",
      "version": "3.7.6"
    },
    "accelerator": "GPU"
  },
  "cells": [
    {
      "cell_type": "markdown",
      "metadata": {
        "id": "-7kcsj_CD1KZ"
      },
      "source": [
        "# Clustering Group of Machines"
      ]
    },
    {
      "cell_type": "markdown",
      "metadata": {
        "id": "eU-qD4N0D1Ka"
      },
      "source": [
        "### Dataset Used - \n",
        " http://gwa.ewi.tudelft.nl/datasets/gwa-t-13-materna"
      ]
    },
    {
      "cell_type": "code",
      "metadata": {
        "id": "CHd1B43ZTDTp",
        "colab": {
          "base_uri": "https://localhost:8080/"
        },
        "outputId": "c0444e98-998f-46ec-bb72-d0993db9f598"
      },
      "source": [
        "#connect to drive\n",
        "from google.colab import drive\n",
        "drive.mount('/content/drive')"
      ],
      "execution_count": null,
      "outputs": [
        {
          "output_type": "stream",
          "text": [
            "Mounted at /content/drive\n"
          ],
          "name": "stdout"
        }
      ]
    },
    {
      "cell_type": "code",
      "metadata": {
        "id": "JWjY9urOOxsj"
      },
      "source": [
        "#unzip the data file\n",
        "!unzip -q '/content/drive/My Drive/GWA-T-13_Materna-Workload-Traces.zip'"
      ],
      "execution_count": null,
      "outputs": []
    },
    {
      "cell_type": "code",
      "metadata": {
        "id": "YAioABkFHsZe"
      },
      "source": [
        "#import libraries\n",
        "import pandas as pd\n",
        "import numpy as np\n",
        "import matplotlib.pyplot as plt\n",
        "import seaborn as sns\n",
        "import glob"
      ],
      "execution_count": null,
      "outputs": []
    },
    {
      "cell_type": "code",
      "metadata": {
        "id": "6GtJQ6MWa3mu"
      },
      "source": [
        "#List of input data folder i.e. Materna-Trace-1, Materna-Trace-2, Materna-Trace-3\n",
        "Materna_Traces = ['/content/GWA-T-13_Materna-Workload-Traces/Materna-Trace-1', \n",
        "        '/content/GWA-T-13_Materna-Workload-Traces/Materna-Trace-2',\n",
        "        '/content/GWA-T-13_Materna-Workload-Traces/Materna-Trace-3']"
      ],
      "execution_count": null,
      "outputs": []
    },
    {
      "cell_type": "code",
      "metadata": {
        "id": "uku6_C3cojQH"
      },
      "source": [
        "#function to read the input data\n",
        "def readInputData(paths):\n",
        "  #iterate each data folder\n",
        "  for path in paths:\n",
        "    #All csv files in current data folder\n",
        "    all_files = glob.glob(path + \"/*.csv\")\n",
        "    \n",
        "    data = []\n",
        "    for filename in all_files:\n",
        "        #read each csv file\n",
        "        df = pd.read_csv(filename, delimiter=';', index_col=None, header=0)\n",
        "        #append the data\n",
        "        data.append(df)\n",
        "    #merge the data and make dataframe\n",
        "    dataframe = pd.concat(data, axis=0, ignore_index=True)\n",
        "  return dataframe"
      ],
      "execution_count": null,
      "outputs": []
    },
    {
      "cell_type": "code",
      "metadata": {
        "id": "HbVRMMh7pSEH"
      },
      "source": [
        "#call the function\n",
        "inputData = readInputData(Materna_Traces)"
      ],
      "execution_count": null,
      "outputs": []
    },
    {
      "cell_type": "code",
      "metadata": {
        "id": "nEG2xZBGomCU",
        "colab": {
          "base_uri": "https://localhost:8080/",
          "height": 313
        },
        "outputId": "960adc4e-e46f-49fc-baa6-05a6f170f33b"
      },
      "source": [
        " #first 5 rows of data\n",
        " inputData.head()"
      ],
      "execution_count": null,
      "outputs": [
        {
          "output_type": "execute_result",
          "data": {
            "text/html": [
              "<div>\n",
              "<style scoped>\n",
              "    .dataframe tbody tr th:only-of-type {\n",
              "        vertical-align: middle;\n",
              "    }\n",
              "\n",
              "    .dataframe tbody tr th {\n",
              "        vertical-align: top;\n",
              "    }\n",
              "\n",
              "    .dataframe thead th {\n",
              "        text-align: right;\n",
              "    }\n",
              "</style>\n",
              "<table border=\"1\" class=\"dataframe\">\n",
              "  <thead>\n",
              "    <tr style=\"text-align: right;\">\n",
              "      <th></th>\n",
              "      <th>Timestamp</th>\n",
              "      <th>CPU cores</th>\n",
              "      <th>CPU capacity provisioned [MHZ]</th>\n",
              "      <th>CPU usage [MHZ]</th>\n",
              "      <th>CPU usage [%]</th>\n",
              "      <th>Memory capacity provisioned [KB]</th>\n",
              "      <th>Memory usage [KB]</th>\n",
              "      <th>Memory usage [%]</th>\n",
              "      <th>Disk read throughput [KB/s]</th>\n",
              "      <th>Disk write throughput [KB/s]</th>\n",
              "      <th>Disk size [GB]</th>\n",
              "      <th>Network received throughput [KB/s]</th>\n",
              "      <th>Network transmitted throughput [KB/s]</th>\n",
              "    </tr>\n",
              "  </thead>\n",
              "  <tbody>\n",
              "    <tr>\n",
              "      <th>0</th>\n",
              "      <td>04.01.2016 00:00:00</td>\n",
              "      <td>2</td>\n",
              "      <td>0</td>\n",
              "      <td>165</td>\n",
              "      <td>3,89</td>\n",
              "      <td>2097152</td>\n",
              "      <td>142397</td>\n",
              "      <td>6,79</td>\n",
              "      <td>0</td>\n",
              "      <td>4</td>\n",
              "      <td>32</td>\n",
              "      <td>409</td>\n",
              "      <td>399</td>\n",
              "    </tr>\n",
              "    <tr>\n",
              "      <th>1</th>\n",
              "      <td>04.01.2016 00:05:00</td>\n",
              "      <td>2</td>\n",
              "      <td>0</td>\n",
              "      <td>273</td>\n",
              "      <td>6,42</td>\n",
              "      <td>2097152</td>\n",
              "      <td>415026</td>\n",
              "      <td>19,79</td>\n",
              "      <td>27</td>\n",
              "      <td>134</td>\n",
              "      <td>32</td>\n",
              "      <td>580</td>\n",
              "      <td>567</td>\n",
              "    </tr>\n",
              "    <tr>\n",
              "      <th>2</th>\n",
              "      <td>04.01.2016 00:10:00</td>\n",
              "      <td>2</td>\n",
              "      <td>0</td>\n",
              "      <td>185</td>\n",
              "      <td>4,35</td>\n",
              "      <td>2097152</td>\n",
              "      <td>235930</td>\n",
              "      <td>11,25</td>\n",
              "      <td>12</td>\n",
              "      <td>71</td>\n",
              "      <td>32</td>\n",
              "      <td>470</td>\n",
              "      <td>460</td>\n",
              "    </tr>\n",
              "    <tr>\n",
              "      <th>3</th>\n",
              "      <td>04.01.2016 00:15:00</td>\n",
              "      <td>2</td>\n",
              "      <td>0</td>\n",
              "      <td>199</td>\n",
              "      <td>4,67</td>\n",
              "      <td>2097152</td>\n",
              "      <td>180145</td>\n",
              "      <td>8,59</td>\n",
              "      <td>0</td>\n",
              "      <td>70</td>\n",
              "      <td>32</td>\n",
              "      <td>562</td>\n",
              "      <td>550</td>\n",
              "    </tr>\n",
              "    <tr>\n",
              "      <th>4</th>\n",
              "      <td>04.01.2016 00:20:00</td>\n",
              "      <td>2</td>\n",
              "      <td>0</td>\n",
              "      <td>189</td>\n",
              "      <td>4,44</td>\n",
              "      <td>2097152</td>\n",
              "      <td>216426</td>\n",
              "      <td>10,32</td>\n",
              "      <td>0</td>\n",
              "      <td>71</td>\n",
              "      <td>32</td>\n",
              "      <td>455</td>\n",
              "      <td>447</td>\n",
              "    </tr>\n",
              "  </tbody>\n",
              "</table>\n",
              "</div>"
            ],
            "text/plain": [
              "             Timestamp  ...  Network transmitted throughput [KB/s]\n",
              "0  04.01.2016 00:00:00  ...                                    399\n",
              "1  04.01.2016 00:05:00  ...                                    567\n",
              "2  04.01.2016 00:10:00  ...                                    460\n",
              "3  04.01.2016 00:15:00  ...                                    550\n",
              "4  04.01.2016 00:20:00  ...                                    447\n",
              "\n",
              "[5 rows x 13 columns]"
            ]
          },
          "metadata": {
            "tags": []
          },
          "execution_count": 19
        }
      ]
    },
    {
      "cell_type": "code",
      "metadata": {
        "id": "gS-7t9hNe9Uk"
      },
      "source": [
        "#number of rows and columns in data\n",
        "inputData.shape\n",
        "df = inputData"
      ],
      "execution_count": null,
      "outputs": []
    },
    {
      "cell_type": "code",
      "metadata": {
        "id": "y3plRqGFEiYW",
        "colab": {
          "base_uri": "https://localhost:8080/",
          "height": 319
        },
        "outputId": "bf1cebf8-347b-403c-96a6-319c7d492a9d"
      },
      "source": [
        "df.describe()"
      ],
      "execution_count": null,
      "outputs": [
        {
          "output_type": "execute_result",
          "data": {
            "text/html": [
              "<div>\n",
              "<style scoped>\n",
              "    .dataframe tbody tr th:only-of-type {\n",
              "        vertical-align: middle;\n",
              "    }\n",
              "\n",
              "    .dataframe tbody tr th {\n",
              "        vertical-align: top;\n",
              "    }\n",
              "\n",
              "    .dataframe thead th {\n",
              "        text-align: right;\n",
              "    }\n",
              "</style>\n",
              "<table border=\"1\" class=\"dataframe\">\n",
              "  <thead>\n",
              "    <tr style=\"text-align: right;\">\n",
              "      <th></th>\n",
              "      <th>CPU cores</th>\n",
              "      <th>CPU capacity provisioned [MHZ]</th>\n",
              "      <th>CPU usage [MHZ]</th>\n",
              "      <th>Memory capacity provisioned [KB]</th>\n",
              "      <th>Memory usage [KB]</th>\n",
              "      <th>Disk read throughput [KB/s]</th>\n",
              "      <th>Disk write throughput [KB/s]</th>\n",
              "      <th>Network received throughput [KB/s]</th>\n",
              "      <th>Network transmitted throughput [KB/s]</th>\n",
              "    </tr>\n",
              "  </thead>\n",
              "  <tbody>\n",
              "    <tr>\n",
              "      <th>count</th>\n",
              "      <td>5.329730e+06</td>\n",
              "      <td>5.329730e+06</td>\n",
              "      <td>5.329730e+06</td>\n",
              "      <td>5.329730e+06</td>\n",
              "      <td>5.329730e+06</td>\n",
              "      <td>5.329730e+06</td>\n",
              "      <td>5.329730e+06</td>\n",
              "      <td>5.329730e+06</td>\n",
              "      <td>5.329730e+06</td>\n",
              "    </tr>\n",
              "    <tr>\n",
              "      <th>mean</th>\n",
              "      <td>2.637684e+00</td>\n",
              "      <td>3.982851e+00</td>\n",
              "      <td>2.596080e+02</td>\n",
              "      <td>8.873539e+06</td>\n",
              "      <td>7.058790e+05</td>\n",
              "      <td>5.352213e+02</td>\n",
              "      <td>1.790060e+02</td>\n",
              "      <td>9.293955e+01</td>\n",
              "      <td>1.396144e+02</td>\n",
              "    </tr>\n",
              "    <tr>\n",
              "      <th>std</th>\n",
              "      <td>1.628044e+00</td>\n",
              "      <td>9.022759e+01</td>\n",
              "      <td>6.365165e+02</td>\n",
              "      <td>1.009509e+07</td>\n",
              "      <td>1.135087e+06</td>\n",
              "      <td>6.929329e+03</td>\n",
              "      <td>1.533413e+03</td>\n",
              "      <td>9.121657e+02</td>\n",
              "      <td>1.434829e+03</td>\n",
              "    </tr>\n",
              "    <tr>\n",
              "      <th>min</th>\n",
              "      <td>1.000000e+00</td>\n",
              "      <td>0.000000e+00</td>\n",
              "      <td>1.000000e+00</td>\n",
              "      <td>1.048576e+06</td>\n",
              "      <td>0.000000e+00</td>\n",
              "      <td>0.000000e+00</td>\n",
              "      <td>0.000000e+00</td>\n",
              "      <td>0.000000e+00</td>\n",
              "      <td>0.000000e+00</td>\n",
              "    </tr>\n",
              "    <tr>\n",
              "      <th>25%</th>\n",
              "      <td>2.000000e+00</td>\n",
              "      <td>0.000000e+00</td>\n",
              "      <td>2.400000e+01</td>\n",
              "      <td>4.194304e+06</td>\n",
              "      <td>8.053100e+04</td>\n",
              "      <td>0.000000e+00</td>\n",
              "      <td>1.000000e+00</td>\n",
              "      <td>0.000000e+00</td>\n",
              "      <td>0.000000e+00</td>\n",
              "    </tr>\n",
              "    <tr>\n",
              "      <th>50%</th>\n",
              "      <td>2.000000e+00</td>\n",
              "      <td>0.000000e+00</td>\n",
              "      <td>6.900000e+01</td>\n",
              "      <td>8.388608e+06</td>\n",
              "      <td>2.231370e+05</td>\n",
              "      <td>0.000000e+00</td>\n",
              "      <td>8.000000e+00</td>\n",
              "      <td>1.000000e+00</td>\n",
              "      <td>1.000000e+00</td>\n",
              "    </tr>\n",
              "    <tr>\n",
              "      <th>75%</th>\n",
              "      <td>4.000000e+00</td>\n",
              "      <td>0.000000e+00</td>\n",
              "      <td>1.840000e+02</td>\n",
              "      <td>1.048576e+07</td>\n",
              "      <td>8.719960e+05</td>\n",
              "      <td>0.000000e+00</td>\n",
              "      <td>3.900000e+01</td>\n",
              "      <td>1.500000e+01</td>\n",
              "      <td>1.700000e+01</td>\n",
              "    </tr>\n",
              "    <tr>\n",
              "      <th>max</th>\n",
              "      <td>8.000000e+00</td>\n",
              "      <td>2.048000e+03</td>\n",
              "      <td>1.552800e+04</td>\n",
              "      <td>1.342177e+08</td>\n",
              "      <td>2.365252e+07</td>\n",
              "      <td>3.779170e+05</td>\n",
              "      <td>1.449880e+05</td>\n",
              "      <td>1.126790e+05</td>\n",
              "      <td>1.142190e+05</td>\n",
              "    </tr>\n",
              "  </tbody>\n",
              "</table>\n",
              "</div>"
            ],
            "text/plain": [
              "          CPU cores  ...  Network transmitted throughput [KB/s]\n",
              "count  5.329730e+06  ...                           5.329730e+06\n",
              "mean   2.637684e+00  ...                           1.396144e+02\n",
              "std    1.628044e+00  ...                           1.434829e+03\n",
              "min    1.000000e+00  ...                           0.000000e+00\n",
              "25%    2.000000e+00  ...                           0.000000e+00\n",
              "50%    2.000000e+00  ...                           1.000000e+00\n",
              "75%    4.000000e+00  ...                           1.700000e+01\n",
              "max    8.000000e+00  ...                           1.142190e+05\n",
              "\n",
              "[8 rows x 9 columns]"
            ]
          },
          "metadata": {
            "tags": []
          },
          "execution_count": 21
        }
      ]
    },
    {
      "cell_type": "code",
      "metadata": {
        "id": "ahTWfNv6EwwS"
      },
      "source": [
        "from sklearn import metrics\n",
        "from sklearn.preprocessing import StandardScaler\n",
        "from numpy import unique\n",
        "from numpy import where"
      ],
      "execution_count": null,
      "outputs": []
    },
    {
      "cell_type": "code",
      "metadata": {
        "id": "jZvS36ZlEyXj"
      },
      "source": [
        "def dbscan(eps, min_samples, data, start, end):\n",
        "  # define the model\n",
        "  model = DBSCAN(eps, min_samples)\n",
        "  # fit model and predict clusters\n",
        "  yhat = model.fit_predict(data)\n",
        "  # retrieve unique clusters\n",
        "  clusters = unique(yhat)\n",
        "  # create scatter plot for samples from each cluster\n",
        "  for cluster in clusters:\n",
        "    # get row indexes for samples with this cluster\n",
        "    row_ix = where(yhat == cluster)\n",
        "    # create scatter of these samples\n",
        "    plt.scatter(data[row_ix, start], data[row_ix, end])\n",
        "    plt.title(\"eps=\"+str(eps)+\"    \"+\"min_samples=\"+str(min_samples))\n",
        "  # show the plot\n",
        "  plt.show()"
      ],
      "execution_count": null,
      "outputs": []
    },
    {
      "cell_type": "code",
      "metadata": {
        "id": "mhPt4ig8FUeQ"
      },
      "source": [
        "df = df.drop('Timestamp', axis=1)\n",
        "#replace , with . in % values\n",
        "df = df.replace(to_replace=r',', value='.', regex=True)"
      ],
      "execution_count": null,
      "outputs": []
    },
    {
      "cell_type": "markdown",
      "metadata": {
        "id": "3IDu88K6bkVP"
      },
      "source": [
        "# **Analysing specific set of metrics for identifying the best set of features:**\n",
        "\n",
        "\n",
        "\n",
        "*   CPU usagelog\n",
        "*   Memory usage [%]\n",
        "*   Disk read throughput [KB/s]\n",
        "*   Disk write throughput [KB/s]\n",
        "\n"
      ]
    },
    {
      "cell_type": "code",
      "metadata": {
        "id": "cf8ZVcpqFV7q"
      },
      "source": [
        "data = df[[\"CPU cores\", \"CPU capacity provisioned [MHZ]\", \"CPU usage [MHZ]\", \n",
        "                  \"Memory capacity provisioned [KB]\",\n",
        "                  \"Memory usage [KB]\", \"Disk read throughput [KB/s]\",\n",
        "                  \"Disk write throughput [KB/s]\", \"Disk size [GB]\",\n",
        "                  \"Network received throughput [KB/s]\",\n",
        "                  \"Network transmitted throughput [KB/s]\"]]"
      ],
      "execution_count": null,
      "outputs": []
    },
    {
      "cell_type": "code",
      "metadata": {
        "id": "lM0Pff95Fbcw"
      },
      "source": [
        "machine_data_std = StandardScaler().fit_transform(df)\n",
        "#randomly choose ten thousand samples\n",
        "machine_data_index = np.random.randint(1, df.shape[0], 10000)\n",
        "#Apply DBSCAN algorithm"
      ],
      "execution_count": null,
      "outputs": []
    },
    {
      "cell_type": "code",
      "metadata": {
        "id": "zd460a-4FdY-"
      },
      "source": [
        "df['CPU usagelog'] = np.log(df['CPU usage [MHZ]'])"
      ],
      "execution_count": null,
      "outputs": []
    },
    {
      "cell_type": "code",
      "metadata": {
        "id": "3uRtS54CFjgN"
      },
      "source": [
        "cpu_mem_disk_NW_use_data = df[['CPU usagelog',\n",
        "                                   'Disk read throughput [KB/s]',\n",
        "                                   'Disk write throughput [KB/s]']]\n",
        "#standard scale data                          \n",
        "cpu_mem_disk_NW_use_data_std = StandardScaler().fit_transform(cpu_mem_disk_NW_use_data)\n",
        "#randomly choose ten thousand samples\n",
        "machine_data_index = np.random.randint(1, df.shape[0], 10000)\n",
        "#Apply DBSCAN algorithm"
      ],
      "execution_count": null,
      "outputs": []
    },
    {
      "cell_type": "code",
      "metadata": {
        "id": "_MY8N_G5GzlY"
      },
      "source": [
        "from sklearn.cluster import OPTICS"
      ],
      "execution_count": null,
      "outputs": []
    },
    {
      "cell_type": "markdown",
      "metadata": {
        "id": "LvHrSvw_QkT6"
      },
      "source": [
        "# ***IMPLEMENTING OPTICS ALGORITHM***"
      ]
    },
    {
      "cell_type": "markdown",
      "metadata": {
        "id": "GtOMIEOvPwWo"
      },
      "source": [
        "# OPTICS\n",
        "Ordering points to identify the clustering structure (OPTICS) is an algorithm for finding density-based clusters in spatial data. Its basic idea is similar to DBSCAN, but it addresses one of DBSCAN's major weaknesses: the problem of detecting meaningful clusters in data of varying density. To do so, the points of the database are (linearly) ordered such that spatially closest points become neighbors in the ordering. Additionally, a special distance is stored for each point that represents the density that must be accepted for a cluster so that both points belong to the same cluster."
      ]
    },
    {
      "cell_type": "code",
      "metadata": {
        "id": "DbVpDs-8Mfru"
      },
      "source": [
        "def optics(data,x,maxeps):\n",
        "  model = OPTICS(x,maxeps)\n",
        "  yhat = model.fit_predict(data)\n",
        "  m = unique(yhat)\n",
        "  labels = model.labels_\n",
        "  z = metrics.silhouette_score(data, labels, metric='euclidean')\n",
        "  print(\"Score for optics: \",z)\n",
        "  plt.figure(figsize = (8,6))\n",
        "  for cluster in m:\n",
        "    # get row indexes for samples with this cluster\n",
        "    row_ix = where(yhat == cluster)\n",
        "    # create scatter of these samples\n",
        "    plt.scatter(data[row_ix, 0], data[row_ix, 1])\n",
        "    #add title for a plot \n",
        "    plt.title(\"min_sample=\"+str(int(x*10000))+\"    \"+\"eps = \"+str(maxeps))\n",
        "  # show the plot\n",
        "  plt.show()"
      ],
      "execution_count": null,
      "outputs": []
    },
    {
      "cell_type": "code",
      "metadata": {
        "id": "fF7EU0unl_1O",
        "colab": {
          "base_uri": "https://localhost:8080/",
          "height": 406
        },
        "outputId": "6a3e5f72-5160-41f1-810e-82efe1a159b5"
      },
      "source": [
        "optics(data = cpu_mem_disk_NW_use_data_std[machine_data_index],x = 0.1,maxeps = 9)"
      ],
      "execution_count": null,
      "outputs": [
        {
          "output_type": "stream",
          "text": [
            "Score for optics:  0.309599532780134\n"
          ],
          "name": "stdout"
        },
        {
          "output_type": "display_data",
          "data": {
            "image/png": "[encoded data removed]",
            "text/plain": [
              "<Figure size 576x432 with 1 Axes>"
            ]
          },
          "metadata": {
            "tags": [],
            "needs_background": "light"
          }
        }
      ]
    },
    {
      "cell_type": "code",
      "metadata": {
        "id": "VCWfZJPFkqz_"
      },
      "source": [
        ""
      ],
      "execution_count": null,
      "outputs": []
    }
  ]
}