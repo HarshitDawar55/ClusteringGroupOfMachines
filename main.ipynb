{
  "nbformat": 4,
  "nbformat_minor": 0,
  "metadata": {
    "colab": {
      "name": "main.ipynb",
      "provenance": [],
      "collapsed_sections": [],
      "toc_visible": true,
      "include_colab_link": true
    },
    "kernelspec": {
      "display_name": "Python 3",
      "language": "python",
      "name": "python3"
    },
    "language_info": {
      "codemirror_mode": {
        "name": "ipython",
        "version": 3
      },
      "file_extension": ".py",
      "mimetype": "text/x-python",
      "name": "python",
      "nbconvert_exporter": "python",
      "pygments_lexer": "ipython3",
      "version": "3.7.6"
    },
    "accelerator": "GPU"
  },
  "cells": [
    {
      "cell_type": "markdown",
      "metadata": {
        "id": "view-in-github",
        "colab_type": "text"
      },
      "source": [
        "<a href=\"https://colab.research.google.com/github/Satyadev-Patel/ClusteringGroupOfMachines/blob/master/main.ipynb\" target=\"_parent\"><img src=\"https://colab.research.google.com/assets/colab-badge.svg\" alt=\"Open In Colab\"/></a>"
      ]
    },
    {
      "cell_type": "markdown",
      "metadata": {
        "id": "-7kcsj_CD1KZ"
      },
      "source": [
        "# Clustering Group of Machines"
      ]
    },
    {
      "cell_type": "markdown",
      "metadata": {
        "id": "eU-qD4N0D1Ka"
      },
      "source": [
        "### Dataset Used - \n",
        " http://gwa.ewi.tudelft.nl/datasets/gwa-t-13-materna"
      ]
    },
    {
      "cell_type": "code",
      "metadata": {
        "id": "CHd1B43ZTDTp",
        "colab": {
          "base_uri": "https://localhost:8080/"
        },
        "outputId": "148e4b00-fe26-4310-d4fc-c9fca30ba666"
      },
      "source": [
        "#connect to drive\n",
        "from google.colab import drive\n",
        "drive.mount('/content/drive')"
      ],
      "execution_count": 2,
      "outputs": [
        {
          "output_type": "stream",
          "text": [
            "Mounted at /content/drive\n"
          ],
          "name": "stdout"
        }
      ]
    },
    {
      "cell_type": "code",
      "metadata": {
        "id": "JWjY9urOOxsj"
      },
      "source": [
        "#unzip the data file\n",
        "!unzip -q '/content/drive/My Drive/GWA-T-13_Materna-Workload-Traces.zip'"
      ],
      "execution_count": 3,
      "outputs": []
    },
    {
      "cell_type": "markdown",
      "metadata": {
        "id": "qN61L6MUpyo7"
      },
      "source": [
        "### Import Libraries"
      ]
    },
    {
      "cell_type": "code",
      "metadata": {
        "id": "YAioABkFHsZe"
      },
      "source": [
        "from google.colab import drive\n",
        "import pandas as pd\n",
        "import numpy as np\n",
        "import matplotlib.pyplot as plt\n",
        "import seaborn as sns\n",
        "import glob \n",
        "from sklearn import metrics\n",
        "from sklearn.preprocessing import StandardScaler\n",
        "from sklearn.cluster import DBSCAN\n",
        "from numpy import unique\n",
        "from numpy import where\n",
        "from sklearn.cluster import AffinityPropagation\n",
        "from sklearn.cluster import AgglomerativeClustering\n",
        "from sklearn.cluster import Birch\n",
        "from sklearn.cluster import KMeans\n",
        "from sklearn.cluster import MiniBatchKMeans\n",
        "from sklearn.cluster import MeanShift\n",
        "from sklearn.cluster import SpectralClustering\n",
        "from sklearn.mixture import GaussianMixture\n",
        "from sklearn.cluster import OPTICS\n",
        "from sklearn.model_selection import GridSearchCV\n"
      ],
      "execution_count": 4,
      "outputs": []
    },
    {
      "cell_type": "code",
      "metadata": {
        "id": "6GtJQ6MWa3mu"
      },
      "source": [
        "#List of input data folder i.e. Materna-Trace-1, Materna-Trace-2, Materna-Trace-3\n",
        "Materna_Traces = ['/content/GWA-T-13_Materna-Workload-Traces/Materna-Trace-1', \n",
        "        '/content/GWA-T-13_Materna-Workload-Traces/Materna-Trace-2',\n",
        "        '/content/GWA-T-13_Materna-Workload-Traces/Materna-Trace-3']"
      ],
      "execution_count": 5,
      "outputs": []
    },
    {
      "cell_type": "markdown",
      "metadata": {
        "id": "mpLea1bhp3C_"
      },
      "source": [
        "### Data Cleaning and Reading"
      ]
    },
    {
      "cell_type": "code",
      "metadata": {
        "id": "dNlienjlWgml"
      },
      "source": [
        "def dataset_cleaning(dataset_path):\n",
        "  def readInputData(paths):\n",
        "    #iterate each data folder\n",
        "    for path in paths:\n",
        "      #All csv files in current data folder\n",
        "      all_files = glob.glob(path + \"/*.csv\")\n",
        "      \n",
        "      data = []\n",
        "      for filename in all_files:\n",
        "          #read each csv file\n",
        "          df = pd.read_csv(filename, delimiter=';', index_col=None, header=0)\n",
        "          #append the data\n",
        "          data.append(df)\n",
        "      #merge the data and make dataframe\n",
        "      dataframe = pd.concat(data, axis=0, ignore_index=True)\n",
        "    return dataframe\n",
        "  #call the function\n",
        "  inputData = readInputData(dataset_path)\n",
        "  df = inputData\n",
        "  cool = list(df.columns)\n",
        "  if 'CPU usage [MHZ]' in cool and 'Disk read throughput [KB/s]' in cool and 'Disk write throughput [KB/s]':\n",
        "\n",
        "    df = df.drop('Timestamp', axis=1)\n",
        "    #replace , with . in % values\n",
        "    df = df.replace(to_replace=r',', value='.', regex=True)\n",
        "    machine_data_index = np.random.randint(1, df.shape[0], 10000)\n",
        "    df['CPU usagelog'] = np.log(df['CPU usage [MHZ]'])\n",
        "    return df\n",
        "  else:\n",
        "    print(\"Your dataset does not contain columns such as ''Disk write throughput [KB/s]','CPU usage [MHZ],'Disk read throughput [KB/s]''. If similar features exists in the dataset then rename it to the given column names\")\n",
        "                            "
      ],
      "execution_count": 6,
      "outputs": []
    },
    {
      "cell_type": "markdown",
      "metadata": {
        "id": "XUxCPmb7qAIS"
      },
      "source": [
        "### Making a small dataset for training prupose"
      ]
    },
    {
      "cell_type": "code",
      "metadata": {
        "id": "3sMTMPTQi7rQ"
      },
      "source": [
        "new_data = dataset_cleaning(Materna_Traces)\n",
        "def training_dataset(data):\n",
        "  df = data\n",
        "  cpu_mem_disk_NW_use_data = df[['CPU usagelog',\n",
        "                                        'Disk read throughput [KB/s]',\n",
        "                                        'Disk write throughput [KB/s]']]\n",
        "  #standard scale data                          \n",
        "  cpu_mem_disk_NW_use_data_std = StandardScaler().fit_transform(cpu_mem_disk_NW_use_data)\n",
        "  #randomly choose ten thousand samples\n",
        "  return cpu_mem_disk_NW_use_data_std\n",
        "cpu_mem_disk_NW_use_data_std = training_dataset(new_data)\n",
        "machine_data_index = np.random.randint(1, new_data.shape[0], 10000)"
      ],
      "execution_count": 7,
      "outputs": []
    },
    {
      "cell_type": "markdown",
      "metadata": {
        "id": "OLy74J3fqFxQ"
      },
      "source": [
        "### Selecting the Best Algorithm"
      ]
    },
    {
      "cell_type": "code",
      "metadata": {
        "colab": {
          "base_uri": "https://localhost:8080/"
        },
        "id": "rSs5rrubiBve",
        "outputId": "89b4cee7-8bf8-45fe-b0ef-6db034f4f8c1"
      },
      "source": [
        "def clustering_algo_selection(dataset):\n",
        "  def algorithms(dataset):\n",
        "    kmeans_2cluster = 0\n",
        "    kmeans_3cluster = 0\n",
        "    kmeans_4cluster = 0\n",
        "    dbscore_1 = 0\n",
        "    dbscore_2 = 0\n",
        "    dbscore_3 = 0\n",
        "    agg_2cluster = 0\n",
        "    agg_3cluster = 0\n",
        "    agg_4cluster = 0\n",
        "    mbk_2cluster = 0\n",
        "    mbk_3cluster = 0\n",
        "    mbk_4cluster = 0\n",
        "    shift_score1 = 0\n",
        "\n",
        "    def score(data,n_c): \n",
        "      kmeans_model = KMeans(n_clusters=n_c, random_state=1).fit(data)\n",
        "      labels = kmeans_model.labels_\n",
        "      x = metrics.silhouette_score(data, labels, metric='euclidean')\n",
        "      return x\n",
        "    \n",
        "    kmeans_2cluster = score(dataset,2)\n",
        "    kmeans_3cluster = score(dataset,3)\n",
        "    kmeans_4cluster = score(dataset,4)\n",
        "    def dbscore(data,x):\n",
        "      db = DBSCAN(eps=x, min_samples=100).fit(dataset)\n",
        "      labels = db.labels_\n",
        "      x = metrics.silhouette_score(data, labels, metric='euclidean')\n",
        "      return x\n",
        "    dbscore_1 = dbscore(dataset,0.2)\n",
        "    dbscore_2 = dbscore(dataset,0.5)\n",
        "    dbscore_3 = dbscore(dataset,0.7)\n",
        "    def aggscore(data,damp):\n",
        "      model = AgglomerativeClustering(n_clusters=damp)\n",
        "      # fit the model\n",
        "      model.fit(data)\n",
        "      labels = model.labels_\n",
        "      x = metrics.silhouette_score(data, labels, metric='euclidean')\n",
        "      return x\n",
        "    agg_2cluster = aggscore(dataset,2)\n",
        "    agg_3cluster = aggscore(dataset,3)\n",
        "    agg_4cluster = aggscore(dataset,4)\n",
        "    def minbatchkmeans_score(data,n):\n",
        "      model = MiniBatchKMeans(n)\n",
        "      # fit the model\n",
        "      model.fit(data)\n",
        "      # assign a cluster to each example\n",
        "      labels = model.labels_\n",
        "      x = metrics.silhouette_score(data, labels,metric = 'euclidean')\n",
        "      return x\n",
        "    mbk_2cluster = minbatchkmeans_score(dataset,2)\n",
        "    mbk_3cluster = minbatchkmeans_score(dataset,3)\n",
        "    mbk_4cluster = minbatchkmeans_score(dataset,4)\n",
        "    def shift_score(data):\n",
        "      model = MeanShift()\n",
        "      # fit the model\n",
        "      model.fit(data)\n",
        "      # assign a cluster to each example\n",
        "      labels = model.labels_\n",
        "      x = metrics.silhouette_score(data, labels,metric = 'euclidean')\n",
        "      return x\n",
        "    shift_score1 = shift_score(dataset)\n",
        "    def opticscore(data,x):\n",
        "      model = OPTICS(x,10).fit(dataset)\n",
        "      labels = model.labels_\n",
        "      x = metrics.silhouette_score(data, labels, metric='euclidean')\n",
        "      return x\n",
        "    optics_score = opticscore(dataset,0.5)\n",
        "    results = {'kmeans 2 cluster':[kmeans_2cluster],\n",
        "              'kmeans 3 cluster':[kmeans_3cluster],\n",
        "              'kmeans 4 cluster':[kmeans_4cluster],\n",
        "              'dbscan for eps = 0.2':[dbscore_1],\n",
        "              'dbscan for eps = 0.5':[dbscore_2],\n",
        "              'dbscan for eps = 0.7':[dbscore_3],\n",
        "              'agg clustering for 2 cluster':[agg_2cluster],\n",
        "              'agg clustering for 3 cluster':[agg_3cluster],\n",
        "              'agg clustering for 4 cluster':[agg_4cluster],\n",
        "              'mbk for 2 cluster':[mbk_2cluster],\n",
        "              'mbk for 3 cluster':[mbk_3cluster],\n",
        "              'mbk for 4 cluster':[mbk_4cluster],\n",
        "              'mean shifting':[shift_score1],\n",
        "              'OPTICS':[optics_score]}\n",
        "    for i in results:\n",
        "      print(i,\":\",results[i])\n",
        "    Keymax = max(results, key=results.get) \n",
        "    print(Keymax,\"has the highest accuracy\")\n",
        "  algorithms(dataset)\n",
        "clustering_algo_selection(cpu_mem_disk_NW_use_data_std[machine_data_index])"
      ],
      "execution_count": 19,
      "outputs": [
        {
          "output_type": "stream",
          "text": [
            "kmeans 2 cluster : [0.9204648644318795]\n",
            "kmeans 3 cluster : [0.9200063829598637]\n",
            "kmeans 4 cluster : [0.5656539970958735]\n",
            "dbscan for eps = 0.2 : [0.6889275158848369]\n",
            "dbscan for eps = 0.5 : [0.7937764313410723]\n",
            "dbscan for eps = 0.7 : [0.8250725238672628]\n",
            "agg clustering for 2 cluster : [0.9095224017650707]\n",
            "agg clustering for 3 cluster : [0.9120878950811752]\n",
            "agg clustering for 4 cluster : [0.5174247932897604]\n",
            "mbk for 2 cluster : [0.9161802345947657]\n",
            "mbk for 3 cluster : [0.49022822702719715]\n",
            "mbk for 4 cluster : [0.5553638132230966]\n",
            "mean shifting : [0.32759126113403575]\n",
            "OPTICS : [0.9436354381776973]\n",
            "OPTICS has the highest accuracy\n"
          ],
          "name": "stdout"
        }
      ]
    },
    {
      "cell_type": "markdown",
      "metadata": {
        "id": "InwyZIBFqMYF"
      },
      "source": [
        "### Hyper-Parameter tuning of the Best Algorithm that we found earlier"
      ]
    },
    {
      "cell_type": "code",
      "metadata": {
        "id": "ZxMcnKhNZaWw"
      },
      "source": [
        "def optics_func(data,x,maxeps):\n",
        "  model = OPTICS(x,maxeps)\n",
        "  yhat = model.fit_predict(data)\n",
        "  m = unique(yhat)\n",
        "  plt.figure(figsize = (8,6))\n",
        "  for cluster in m:\n",
        "    # get row indexes for samples with this cluster\n",
        "    row_ix = where(yhat == cluster)\n",
        "    # create scatter of these samples\n",
        "    plt.scatter(data[row_ix, 0], data[row_ix, 1])\n",
        "    #add title for a plot \n",
        "    plt.title(\"min_sample=\"+str(int(x*10000))+\"    \"+\"eps = \"+str(maxeps))\n",
        "  # show the plot\n",
        "  plt.show()\n",
        "def hyperparameter_tuning(model,data):\n",
        "  def score_optics(model,data):\n",
        "    yhat = model.fit_predict(data)\n",
        "    m = unique(yhat)\n",
        "    score = metrics.silhouette_score(data, model.labels_, metric='euclidean')\n",
        "    return score\n",
        "  param_grid = {\"min_samples\": [0.5,0.4,0.3,0.25],\"max_eps\":[8,9,10]}\n",
        "  search = GridSearchCV(ca,param_grid,scoring = score_optics)\n",
        "  search.fit(data)\n",
        "  k = 0\n",
        "  minsamp = [0 for i in range(12)]\n",
        "  maxeps = [0 for i in range(12)]\n",
        "  result = [0 for i in range(12)]\n",
        "  for i in search.cv_results_['params']:\n",
        "    minsamp[k] = i.get('min_samples')\n",
        "    maxeps[k] = i.get('max_eps')\n",
        "    result[k] = search.cv_results_['mean_test_score'][k]\n",
        "    k += 1\n",
        "    final_results = {\n",
        "      'Min Samples':minsamp,\n",
        "      'MAX Epsilon':maxeps,\n",
        "      'Final Score':result\n",
        "  }\n",
        "  final = pd.DataFrame (final_results, columns = ['Min Samples','MAX Epsilon','Final Score'])\n",
        "  return final\n",
        "ca = OPTICS()\n",
        "final_scores = hyperparameter_tuning(ca,cpu_mem_disk_NW_use_data_std[machine_data_index])"
      ],
      "execution_count": 22,
      "outputs": []
    },
    {
      "cell_type": "markdown",
      "metadata": {
        "id": "BPr1jJnkqWyv"
      },
      "source": [
        "### Printing the best results"
      ]
    },
    {
      "cell_type": "code",
      "metadata": {
        "id": "84cdqS_-mzMM",
        "colab": {
          "base_uri": "https://localhost:8080/"
        },
        "outputId": "a171b966-daa1-4cc2-a911-80bf15cd2dcd"
      },
      "source": [
        "z = final_scores['Final Score'].idxmax(0)\n",
        "print(\"BEST PARAMETERS\")\n",
        "print(\"Min Samples:\",final_scores['Min Samples'][z])\n",
        "print(\"MAX Epsilon:\",final_scores['MAX Epsilon'][z])\n",
        "print(\"Accuracy:\",final_scores['Final Score'][z])"
      ],
      "execution_count": 27,
      "outputs": [
        {
          "output_type": "stream",
          "text": [
            "BEST PARAMETERS\n",
            "Min Samples: 0.4\n",
            "MAX Epsilon: 10\n",
            "Accuracy: 0.9421693013909603\n"
          ],
          "name": "stdout"
        }
      ]
    },
    {
      "cell_type": "markdown",
      "metadata": {
        "id": "aNP4Ggz9qalJ"
      },
      "source": [
        "### Appyling the Algorithm with the parameters that we found earlier"
      ]
    },
    {
      "cell_type": "code",
      "metadata": {
        "colab": {
          "base_uri": "https://localhost:8080/",
          "height": 390
        },
        "id": "HYkl4c_Lo4gx",
        "outputId": "a585cccd-b711-4596-aeaf-217ebefc99ce"
      },
      "source": [
        "optics_func(cpu_mem_disk_NW_use_data_std[machine_data_index],final_scores['Min Samples'][z],final_scores['MAX Epsilon'][z])"
      ],
      "execution_count": 30,
      "outputs": [
        {
          "output_type": "display_data",
          "data": {
            "image/png": "[encoded data removed]",
            "text/plain": [
              "<Figure size 576x432 with 1 Axes>"
            ]
          },
          "metadata": {
            "tags": [],
            "needs_background": "light"
          }
        }
      ]
    },
    {
      "cell_type": "code",
      "metadata": {
        "id": "eRW8RyI5pWH2"
      },
      "source": [
        ""
      ],
      "execution_count": null,
      "outputs": []
    }
  ]
}