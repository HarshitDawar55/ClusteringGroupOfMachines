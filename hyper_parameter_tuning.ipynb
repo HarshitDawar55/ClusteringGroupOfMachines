{
  "nbformat": 4,
  "nbformat_minor": 0,
  "metadata": {
    "colab": {
      "name": "hyper_parameter_tuning.ipynb",
      "provenance": [],
      "collapsed_sections": [
        "LvHrSvw_QkT6"
      ]
    },
    "kernelspec": {
      "display_name": "Python 3",
      "language": "python",
      "name": "python3"
    },
    "language_info": {
      "codemirror_mode": {
        "name": "ipython",
        "version": 3
      },
      "file_extension": ".py",
      "mimetype": "text/x-python",
      "name": "python",
      "nbconvert_exporter": "python",
      "pygments_lexer": "ipython3",
      "version": "3.7.6"
    },
    "accelerator": "GPU"
  },
  "cells": [
    {
      "cell_type": "markdown",
      "metadata": {
        "id": "-7kcsj_CD1KZ"
      },
      "source": [
        "# Clustering Group of Machines"
      ]
    },
    {
      "cell_type": "markdown",
      "metadata": {
        "id": "eU-qD4N0D1Ka"
      },
      "source": [
        "### Dataset Used - \n",
        " http://gwa.ewi.tudelft.nl/datasets/gwa-t-13-materna"
      ]
    },
    {
      "cell_type": "code",
      "metadata": {
        "id": "CHd1B43ZTDTp",
        "colab": {
          "base_uri": "https://localhost:8080/"
        },
        "outputId": "0dee738d-f618-4dc2-c1d6-d499f710b49b"
      },
      "source": [
        "#connect to drive\n",
        "from google.colab import drive\n",
        "drive.mount('/content/drive')"
      ],
      "execution_count": 3,
      "outputs": [
        {
          "output_type": "stream",
          "text": [
            "Drive already mounted at /content/drive; to attempt to forcibly remount, call drive.mount(\"/content/drive\", force_remount=True).\n"
          ],
          "name": "stdout"
        }
      ]
    },
    {
      "cell_type": "code",
      "metadata": {
        "id": "JWjY9urOOxsj"
      },
      "source": [
        "#unzip the data file\n",
        "!unzip -q '/content/drive/My Drive/GWA-T-13_Materna-Workload-Traces.zip'"
      ],
      "execution_count": 4,
      "outputs": []
    },
    {
      "cell_type": "code",
      "metadata": {
        "id": "YAioABkFHsZe"
      },
      "source": [
        "#import libraries\n",
        "import pandas as pd\n",
        "import numpy as np\n",
        "import matplotlib.pyplot as plt\n",
        "import seaborn as sns\n",
        "import glob"
      ],
      "execution_count": 5,
      "outputs": []
    },
    {
      "cell_type": "code",
      "metadata": {
        "id": "6GtJQ6MWa3mu"
      },
      "source": [
        "#List of input data folder i.e. Materna-Trace-1, Materna-Trace-2, Materna-Trace-3\n",
        "Materna_Traces = ['/content/GWA-T-13_Materna-Workload-Traces/Materna-Trace-1', \n",
        "        '/content/GWA-T-13_Materna-Workload-Traces/Materna-Trace-2',\n",
        "        '/content/GWA-T-13_Materna-Workload-Traces/Materna-Trace-3']"
      ],
      "execution_count": 6,
      "outputs": []
    },
    {
      "cell_type": "code",
      "metadata": {
        "id": "uku6_C3cojQH"
      },
      "source": [
        "#function to read the input data\n",
        "def readInputData(paths):\n",
        "  #iterate each data folder\n",
        "  for path in paths:\n",
        "    #All csv files in current data folder\n",
        "    all_files = glob.glob(path + \"/*.csv\")\n",
        "    \n",
        "    data = []\n",
        "    for filename in all_files:\n",
        "        #read each csv file\n",
        "        df = pd.read_csv(filename, delimiter=';', index_col=None, header=0)\n",
        "        #append the data\n",
        "        data.append(df)\n",
        "    #merge the data and make dataframe\n",
        "    dataframe = pd.concat(data, axis=0, ignore_index=True)\n",
        "  return dataframe"
      ],
      "execution_count": 7,
      "outputs": []
    },
    {
      "cell_type": "code",
      "metadata": {
        "id": "HbVRMMh7pSEH"
      },
      "source": [
        "#call the function\n",
        "inputData = readInputData(Materna_Traces)"
      ],
      "execution_count": 8,
      "outputs": []
    },
    {
      "cell_type": "code",
      "metadata": {
        "id": "nEG2xZBGomCU",
        "colab": {
          "base_uri": "https://localhost:8080/",
          "height": 313
        },
        "outputId": "8c8e6f31-96fc-4527-cb3c-93a6160f8c68"
      },
      "source": [
        " #first 5 rows of data\n",
        " inputData.head()"
      ],
      "execution_count": 9,
      "outputs": [
        {
          "output_type": "execute_result",
          "data": {
            "text/html": [
              "<div>\n",
              "<style scoped>\n",
              "    .dataframe tbody tr th:only-of-type {\n",
              "        vertical-align: middle;\n",
              "    }\n",
              "\n",
              "    .dataframe tbody tr th {\n",
              "        vertical-align: top;\n",
              "    }\n",
              "\n",
              "    .dataframe thead th {\n",
              "        text-align: right;\n",
              "    }\n",
              "</style>\n",
              "<table border=\"1\" class=\"dataframe\">\n",
              "  <thead>\n",
              "    <tr style=\"text-align: right;\">\n",
              "      <th></th>\n",
              "      <th>Timestamp</th>\n",
              "      <th>CPU cores</th>\n",
              "      <th>CPU capacity provisioned [MHZ]</th>\n",
              "      <th>CPU usage [MHZ]</th>\n",
              "      <th>CPU usage [%]</th>\n",
              "      <th>Memory capacity provisioned [KB]</th>\n",
              "      <th>Memory usage [KB]</th>\n",
              "      <th>Memory usage [%]</th>\n",
              "      <th>Disk read throughput [KB/s]</th>\n",
              "      <th>Disk write throughput [KB/s]</th>\n",
              "      <th>Disk size [GB]</th>\n",
              "      <th>Network received throughput [KB/s]</th>\n",
              "      <th>Network transmitted throughput [KB/s]</th>\n",
              "    </tr>\n",
              "  </thead>\n",
              "  <tbody>\n",
              "    <tr>\n",
              "      <th>0</th>\n",
              "      <td>04.01.2016 00:00:00</td>\n",
              "      <td>1</td>\n",
              "      <td>0</td>\n",
              "      <td>76</td>\n",
              "      <td>3,2</td>\n",
              "      <td>2097152</td>\n",
              "      <td>57043</td>\n",
              "      <td>2,72</td>\n",
              "      <td>0</td>\n",
              "      <td>13</td>\n",
              "      <td>32</td>\n",
              "      <td>0</td>\n",
              "      <td>0</td>\n",
              "    </tr>\n",
              "    <tr>\n",
              "      <th>1</th>\n",
              "      <td>04.01.2016 00:05:00</td>\n",
              "      <td>1</td>\n",
              "      <td>0</td>\n",
              "      <td>96</td>\n",
              "      <td>4,01</td>\n",
              "      <td>2097152</td>\n",
              "      <td>174483</td>\n",
              "      <td>8,32</td>\n",
              "      <td>0</td>\n",
              "      <td>21</td>\n",
              "      <td>32</td>\n",
              "      <td>0</td>\n",
              "      <td>0</td>\n",
              "    </tr>\n",
              "    <tr>\n",
              "      <th>2</th>\n",
              "      <td>04.01.2016 00:10:00</td>\n",
              "      <td>1</td>\n",
              "      <td>0</td>\n",
              "      <td>73</td>\n",
              "      <td>3,07</td>\n",
              "      <td>2097152</td>\n",
              "      <td>166094</td>\n",
              "      <td>7,92</td>\n",
              "      <td>8</td>\n",
              "      <td>16</td>\n",
              "      <td>32</td>\n",
              "      <td>0</td>\n",
              "      <td>0</td>\n",
              "    </tr>\n",
              "    <tr>\n",
              "      <th>3</th>\n",
              "      <td>04.01.2016 00:15:00</td>\n",
              "      <td>1</td>\n",
              "      <td>0</td>\n",
              "      <td>73</td>\n",
              "      <td>3,07</td>\n",
              "      <td>2097152</td>\n",
              "      <td>89129</td>\n",
              "      <td>4,25</td>\n",
              "      <td>0</td>\n",
              "      <td>13</td>\n",
              "      <td>32</td>\n",
              "      <td>0</td>\n",
              "      <td>0</td>\n",
              "    </tr>\n",
              "    <tr>\n",
              "      <th>4</th>\n",
              "      <td>04.01.2016 00:20:00</td>\n",
              "      <td>1</td>\n",
              "      <td>0</td>\n",
              "      <td>94</td>\n",
              "      <td>3,93</td>\n",
              "      <td>2097152</td>\n",
              "      <td>275146</td>\n",
              "      <td>13,12</td>\n",
              "      <td>0</td>\n",
              "      <td>23</td>\n",
              "      <td>32</td>\n",
              "      <td>1</td>\n",
              "      <td>0</td>\n",
              "    </tr>\n",
              "  </tbody>\n",
              "</table>\n",
              "</div>"
            ],
            "text/plain": [
              "             Timestamp  ...  Network transmitted throughput [KB/s]\n",
              "0  04.01.2016 00:00:00  ...                                      0\n",
              "1  04.01.2016 00:05:00  ...                                      0\n",
              "2  04.01.2016 00:10:00  ...                                      0\n",
              "3  04.01.2016 00:15:00  ...                                      0\n",
              "4  04.01.2016 00:20:00  ...                                      0\n",
              "\n",
              "[5 rows x 13 columns]"
            ]
          },
          "metadata": {
            "tags": []
          },
          "execution_count": 9
        }
      ]
    },
    {
      "cell_type": "code",
      "metadata": {
        "id": "gS-7t9hNe9Uk"
      },
      "source": [
        "#number of rows and columns in data\n",
        "inputData.shape\n",
        "df = inputData"
      ],
      "execution_count": 10,
      "outputs": []
    },
    {
      "cell_type": "code",
      "metadata": {
        "id": "y3plRqGFEiYW",
        "colab": {
          "base_uri": "https://localhost:8080/",
          "height": 319
        },
        "outputId": "0b1baeb8-7578-4b77-cc83-26330b92059a"
      },
      "source": [
        "df.describe()"
      ],
      "execution_count": 11,
      "outputs": [
        {
          "output_type": "execute_result",
          "data": {
            "text/html": [
              "<div>\n",
              "<style scoped>\n",
              "    .dataframe tbody tr th:only-of-type {\n",
              "        vertical-align: middle;\n",
              "    }\n",
              "\n",
              "    .dataframe tbody tr th {\n",
              "        vertical-align: top;\n",
              "    }\n",
              "\n",
              "    .dataframe thead th {\n",
              "        text-align: right;\n",
              "    }\n",
              "</style>\n",
              "<table border=\"1\" class=\"dataframe\">\n",
              "  <thead>\n",
              "    <tr style=\"text-align: right;\">\n",
              "      <th></th>\n",
              "      <th>CPU cores</th>\n",
              "      <th>CPU capacity provisioned [MHZ]</th>\n",
              "      <th>CPU usage [MHZ]</th>\n",
              "      <th>Memory capacity provisioned [KB]</th>\n",
              "      <th>Memory usage [KB]</th>\n",
              "      <th>Disk read throughput [KB/s]</th>\n",
              "      <th>Disk write throughput [KB/s]</th>\n",
              "      <th>Network received throughput [KB/s]</th>\n",
              "      <th>Network transmitted throughput [KB/s]</th>\n",
              "    </tr>\n",
              "  </thead>\n",
              "  <tbody>\n",
              "    <tr>\n",
              "      <th>count</th>\n",
              "      <td>5.329730e+06</td>\n",
              "      <td>5.329730e+06</td>\n",
              "      <td>5.329730e+06</td>\n",
              "      <td>5.329730e+06</td>\n",
              "      <td>5.329730e+06</td>\n",
              "      <td>5.329730e+06</td>\n",
              "      <td>5.329730e+06</td>\n",
              "      <td>5.329730e+06</td>\n",
              "      <td>5.329730e+06</td>\n",
              "    </tr>\n",
              "    <tr>\n",
              "      <th>mean</th>\n",
              "      <td>2.637684e+00</td>\n",
              "      <td>3.982851e+00</td>\n",
              "      <td>2.596080e+02</td>\n",
              "      <td>8.873539e+06</td>\n",
              "      <td>7.058790e+05</td>\n",
              "      <td>5.352213e+02</td>\n",
              "      <td>1.790060e+02</td>\n",
              "      <td>9.293955e+01</td>\n",
              "      <td>1.396144e+02</td>\n",
              "    </tr>\n",
              "    <tr>\n",
              "      <th>std</th>\n",
              "      <td>1.628044e+00</td>\n",
              "      <td>9.022759e+01</td>\n",
              "      <td>6.365165e+02</td>\n",
              "      <td>1.009509e+07</td>\n",
              "      <td>1.135087e+06</td>\n",
              "      <td>6.929329e+03</td>\n",
              "      <td>1.533413e+03</td>\n",
              "      <td>9.121657e+02</td>\n",
              "      <td>1.434829e+03</td>\n",
              "    </tr>\n",
              "    <tr>\n",
              "      <th>min</th>\n",
              "      <td>1.000000e+00</td>\n",
              "      <td>0.000000e+00</td>\n",
              "      <td>1.000000e+00</td>\n",
              "      <td>1.048576e+06</td>\n",
              "      <td>0.000000e+00</td>\n",
              "      <td>0.000000e+00</td>\n",
              "      <td>0.000000e+00</td>\n",
              "      <td>0.000000e+00</td>\n",
              "      <td>0.000000e+00</td>\n",
              "    </tr>\n",
              "    <tr>\n",
              "      <th>25%</th>\n",
              "      <td>2.000000e+00</td>\n",
              "      <td>0.000000e+00</td>\n",
              "      <td>2.400000e+01</td>\n",
              "      <td>4.194304e+06</td>\n",
              "      <td>8.053100e+04</td>\n",
              "      <td>0.000000e+00</td>\n",
              "      <td>1.000000e+00</td>\n",
              "      <td>0.000000e+00</td>\n",
              "      <td>0.000000e+00</td>\n",
              "    </tr>\n",
              "    <tr>\n",
              "      <th>50%</th>\n",
              "      <td>2.000000e+00</td>\n",
              "      <td>0.000000e+00</td>\n",
              "      <td>6.900000e+01</td>\n",
              "      <td>8.388608e+06</td>\n",
              "      <td>2.231370e+05</td>\n",
              "      <td>0.000000e+00</td>\n",
              "      <td>8.000000e+00</td>\n",
              "      <td>1.000000e+00</td>\n",
              "      <td>1.000000e+00</td>\n",
              "    </tr>\n",
              "    <tr>\n",
              "      <th>75%</th>\n",
              "      <td>4.000000e+00</td>\n",
              "      <td>0.000000e+00</td>\n",
              "      <td>1.840000e+02</td>\n",
              "      <td>1.048576e+07</td>\n",
              "      <td>8.719960e+05</td>\n",
              "      <td>0.000000e+00</td>\n",
              "      <td>3.900000e+01</td>\n",
              "      <td>1.500000e+01</td>\n",
              "      <td>1.700000e+01</td>\n",
              "    </tr>\n",
              "    <tr>\n",
              "      <th>max</th>\n",
              "      <td>8.000000e+00</td>\n",
              "      <td>2.048000e+03</td>\n",
              "      <td>1.552800e+04</td>\n",
              "      <td>1.342177e+08</td>\n",
              "      <td>2.365252e+07</td>\n",
              "      <td>3.779170e+05</td>\n",
              "      <td>1.449880e+05</td>\n",
              "      <td>1.126790e+05</td>\n",
              "      <td>1.142190e+05</td>\n",
              "    </tr>\n",
              "  </tbody>\n",
              "</table>\n",
              "</div>"
            ],
            "text/plain": [
              "          CPU cores  ...  Network transmitted throughput [KB/s]\n",
              "count  5.329730e+06  ...                           5.329730e+06\n",
              "mean   2.637684e+00  ...                           1.396144e+02\n",
              "std    1.628044e+00  ...                           1.434829e+03\n",
              "min    1.000000e+00  ...                           0.000000e+00\n",
              "25%    2.000000e+00  ...                           0.000000e+00\n",
              "50%    2.000000e+00  ...                           1.000000e+00\n",
              "75%    4.000000e+00  ...                           1.700000e+01\n",
              "max    8.000000e+00  ...                           1.142190e+05\n",
              "\n",
              "[8 rows x 9 columns]"
            ]
          },
          "metadata": {
            "tags": []
          },
          "execution_count": 11
        }
      ]
    },
    {
      "cell_type": "code",
      "metadata": {
        "id": "ahTWfNv6EwwS"
      },
      "source": [
        "from sklearn import metrics\n",
        "from sklearn.preprocessing import StandardScaler\n",
        "from numpy import unique\n",
        "from numpy import where"
      ],
      "execution_count": 12,
      "outputs": []
    },
    {
      "cell_type": "code",
      "metadata": {
        "id": "jZvS36ZlEyXj"
      },
      "source": [
        "def dbscan(eps, min_samples, data, start, end):\n",
        "  # define the model\n",
        "  model = DBSCAN(eps, min_samples)\n",
        "  # fit model and predict clusters\n",
        "  yhat = model.fit_predict(data)\n",
        "  # retrieve unique clusters\n",
        "  clusters = unique(yhat)\n",
        "  # create scatter plot for samples from each cluster\n",
        "  for cluster in clusters:\n",
        "    # get row indexes for samples with this cluster\n",
        "    row_ix = where(yhat == cluster)\n",
        "    # create scatter of these samples\n",
        "    plt.scatter(data[row_ix, start], data[row_ix, end])\n",
        "    plt.title(\"eps=\"+str(eps)+\"    \"+\"min_samples=\"+str(min_samples))\n",
        "  # show the plot\n",
        "  plt.show()"
      ],
      "execution_count": 13,
      "outputs": []
    },
    {
      "cell_type": "code",
      "metadata": {
        "id": "mhPt4ig8FUeQ"
      },
      "source": [
        "df = df.drop('Timestamp', axis=1)\n",
        "#replace , with . in % values\n",
        "df = df.replace(to_replace=r',', value='.', regex=True)"
      ],
      "execution_count": 14,
      "outputs": []
    },
    {
      "cell_type": "markdown",
      "metadata": {
        "id": "3IDu88K6bkVP"
      },
      "source": [
        "# **Analysing specific set of metrics for identifying the best set of features:**\n",
        "\n",
        "\n",
        "\n",
        "*   CPU usagelog\n",
        "*   Memory usage [%]\n",
        "*   Disk read throughput [KB/s]\n",
        "*   Disk write throughput [KB/s]\n",
        "\n"
      ]
    },
    {
      "cell_type": "code",
      "metadata": {
        "id": "cf8ZVcpqFV7q"
      },
      "source": [
        "data = df[[\"CPU cores\", \"CPU capacity provisioned [MHZ]\", \"CPU usage [MHZ]\", \n",
        "                  \"Memory capacity provisioned [KB]\",\n",
        "                  \"Memory usage [KB]\", \"Disk read throughput [KB/s]\",\n",
        "                  \"Disk write throughput [KB/s]\", \"Disk size [GB]\",\n",
        "                  \"Network received throughput [KB/s]\",\n",
        "                  \"Network transmitted throughput [KB/s]\"]]"
      ],
      "execution_count": 15,
      "outputs": []
    },
    {
      "cell_type": "code",
      "metadata": {
        "id": "lM0Pff95Fbcw"
      },
      "source": [
        "machine_data_std = StandardScaler().fit_transform(df)\n",
        "#randomly choose ten thousand samples\n",
        "machine_data_index = np.random.randint(1, df.shape[0], 10000)\n",
        "#Apply DBSCAN algorithm"
      ],
      "execution_count": 16,
      "outputs": []
    },
    {
      "cell_type": "code",
      "metadata": {
        "id": "zd460a-4FdY-"
      },
      "source": [
        "df['CPU usagelog'] = np.log(df['CPU usage [MHZ]'])"
      ],
      "execution_count": 17,
      "outputs": []
    },
    {
      "cell_type": "code",
      "metadata": {
        "id": "3uRtS54CFjgN"
      },
      "source": [
        "cpu_mem_disk_NW_use_data = df[['CPU usagelog',\n",
        "                                   'Disk read throughput [KB/s]',\n",
        "                                   'Disk write throughput [KB/s]']]\n",
        "#standard scale data                          \n",
        "cpu_mem_disk_NW_use_data_std = StandardScaler().fit_transform(cpu_mem_disk_NW_use_data)\n",
        "#randomly choose ten thousand samples\n",
        "machine_data_index = np.random.randint(1, df.shape[0], 10000)\n",
        "#Apply DBSCAN algorithm"
      ],
      "execution_count": 18,
      "outputs": []
    },
    {
      "cell_type": "code",
      "metadata": {
        "id": "_MY8N_G5GzlY"
      },
      "source": [
        "from sklearn.cluster import OPTICS"
      ],
      "execution_count": 19,
      "outputs": []
    },
    {
      "cell_type": "markdown",
      "metadata": {
        "id": "LvHrSvw_QkT6"
      },
      "source": [
        "# ***IMPLEMENTING OPTICS ALGORITHM***"
      ]
    },
    {
      "cell_type": "markdown",
      "metadata": {
        "id": "GtOMIEOvPwWo"
      },
      "source": [
        "# OPTICS\n",
        "Ordering points to identify the clustering structure (OPTICS) is an algorithm for finding density-based clusters in spatial data. Its basic idea is similar to DBSCAN, but it addresses one of DBSCAN's major weaknesses: the problem of detecting meaningful clusters in data of varying density. To do so, the points of the database are (linearly) ordered such that spatially closest points become neighbors in the ordering. Additionally, a special distance is stored for each point that represents the density that must be accepted for a cluster so that both points belong to the same cluster."
      ]
    },
    {
      "cell_type": "code",
      "metadata": {
        "id": "ZijF4xc7LVoH"
      },
      "source": [
        "def optics_func(data,x,maxeps):\n",
        "  model = OPTICS(x,maxeps)\n",
        "  yhat = model.fit_predict(data)\n",
        "  m = unique(yhat)\n",
        "  plt.figure(figsize = (8,6))\n",
        "  for cluster in m:\n",
        "    # get row indexes for samples with this cluster\n",
        "    row_ix = where(yhat == cluster)\n",
        "    # create scatter of these samples\n",
        "    plt.scatter(data[row_ix, 0], data[row_ix, 1])\n",
        "    #add title for a plot \n",
        "    plt.title(\"min_sample=\"+str(int(x*10000))+\"    \"+\"eps = \"+str(maxeps))\n",
        "  # show the plot\n",
        "  plt.show()"
      ],
      "execution_count": 98,
      "outputs": []
    },
    {
      "cell_type": "code",
      "metadata": {
        "colab": {
          "base_uri": "https://localhost:8080/",
          "height": 390
        },
        "id": "qtdf1QSXLZgF",
        "outputId": "6e67b411-2af3-4dfa-a5f9-fe9a6c198e3d"
      },
      "source": [
        "optics_func(cpu_mem_disk_NW_use_data_std[machine_data_index],0.16,9)"
      ],
      "execution_count": 99,
      "outputs": [
        {
          "output_type": "display_data",
          "data": {
            "image/png": "[encoded data removed]",
            "text/plain": [
              "<Figure size 576x432 with 1 Axes>"
            ]
          },
          "metadata": {
            "tags": [],
            "needs_background": "light"
          }
        }
      ]
    },
    {
      "cell_type": "markdown",
      "metadata": {
        "id": "p4wclCCBXKIO"
      },
      "source": [
        "# **Hyper Parameter tuning for OPTICS**\n",
        "In this part I have tuned two parameters of the OPTICS algorithm i.e Minimum samples and maximum distance. That is because OPTICS algorithm works on the concept of density and number of samples and distance between them are the two most important factors for defining the density.\n",
        "*   **min_samples(x)** = *The number of samples in a neighborhood for a point to be considered as a core point. Also, up and down steep regions can’t have more then min_samples consecutive non-steep points. Expressed as an absolute number or a fraction of the number of samples (rounded to be at least 2).*\n",
        "*   **max_eps(maxeps)** = *The maximum distance between two samples for one to be considered as in the neighborhood of the other. Default value of np.inf will identify clusters across all scales; reducing max_eps will result in shorter run times.*"
      ]
    },
    {
      "cell_type": "code",
      "metadata": {
        "id": "DbVpDs-8Mfru"
      },
      "source": [
        "def optics(model,data):\n",
        "  yhat = model.fit_predict(data)\n",
        "  m = unique(yhat)\n",
        "  score = metrics.silhouette_score(data, model.labels_, metric='euclidean')\n",
        "  return score"
      ],
      "execution_count": 20,
      "outputs": []
    },
    {
      "cell_type": "code",
      "metadata": {
        "id": "VCWfZJPFkqz_"
      },
      "source": [
        "ca = OPTICS()\n",
        "param_grid = {\"min_samples\": [0.25,0.3,0.4,0.5],\"max_eps\":[8,9,10]}"
      ],
      "execution_count": 104,
      "outputs": []
    },
    {
      "cell_type": "code",
      "metadata": {
        "colab": {
          "base_uri": "https://localhost:8080/"
        },
        "id": "5w6yrQIYQN_y",
        "outputId": "3dc294f3-589f-41cd-d345-aa7668b1aa2a"
      },
      "source": [
        "from sklearn.model_selection import GridSearchCV\n",
        "search = GridSearchCV(ca,param_grid,scoring = optics)\n",
        "search.fit(cpu_mem_disk_NW_use_data_std[machine_data_index])"
      ],
      "execution_count": 105,
      "outputs": [
        {
          "output_type": "execute_result",
          "data": {
            "text/plain": [
              "GridSearchCV(cv=None, error_score=nan,\n",
              "             estimator=OPTICS(algorithm='auto', cluster_method='xi', eps=None,\n",
              "                              leaf_size=30, max_eps=inf, metric='minkowski',\n",
              "                              metric_params=None, min_cluster_size=None,\n",
              "                              min_samples=5, n_jobs=None, p=2,\n",
              "                              predecessor_correction=True, xi=0.05),\n",
              "             iid='deprecated', n_jobs=None,\n",
              "             param_grid={'max_eps': [8, 9, 10],\n",
              "                         'min_samples': [0.25, 0.3, 0.4, 0.5]},\n",
              "             pre_dispatch='2*n_jobs', refit=True, return_train_score=False,\n",
              "             scoring=<function optics at 0x7fe62426f620>, verbose=0)"
            ]
          },
          "metadata": {
            "tags": []
          },
          "execution_count": 105
        }
      ]
    },
    {
      "cell_type": "code",
      "metadata": {
        "colab": {
          "base_uri": "https://localhost:8080/"
        },
        "id": "2I3YT6elULiO",
        "outputId": "f4828e43-0365-43c9-aa61-5ebf3b72323b"
      },
      "source": [
        "sorted(search.cv_results_.keys())"
      ],
      "execution_count": 106,
      "outputs": [
        {
          "output_type": "execute_result",
          "data": {
            "text/plain": [
              "['mean_fit_time',\n",
              " 'mean_score_time',\n",
              " 'mean_test_score',\n",
              " 'param_max_eps',\n",
              " 'param_min_samples',\n",
              " 'params',\n",
              " 'rank_test_score',\n",
              " 'split0_test_score',\n",
              " 'split1_test_score',\n",
              " 'split2_test_score',\n",
              " 'split3_test_score',\n",
              " 'split4_test_score',\n",
              " 'std_fit_time',\n",
              " 'std_score_time',\n",
              " 'std_test_score']"
            ]
          },
          "metadata": {
            "tags": []
          },
          "execution_count": 106
        }
      ]
    },
    {
      "cell_type": "code",
      "metadata": {
        "id": "9TLPEL2rraDE"
      },
      "source": [
        "k = 0\n",
        "minsamp = [0 for i in range(12)]\n",
        "maxeps = [0 for i in range(12)]\n",
        "result = [0 for i in range(12)]\n",
        "for i in search.cv_results_['params']:\n",
        "  minsamp[k] = i.get('min_samples')\n",
        "  maxeps[k] = i.get('max_eps')\n",
        "  result[k] = search.cv_results_['mean_test_score'][k]\n",
        "  k += 1"
      ],
      "execution_count": 108,
      "outputs": []
    },
    {
      "cell_type": "code",
      "metadata": {
        "id": "AA83tgADvwkw"
      },
      "source": [
        "results = {\n",
        "    'Min Samples':minsamp,\n",
        "    'MAX Epsilon':maxeps,\n",
        "    'Final Score':result\n",
        "}"
      ],
      "execution_count": 109,
      "outputs": []
    },
    {
      "cell_type": "code",
      "metadata": {
        "id": "nSfsFOV8v4r2",
        "colab": {
          "base_uri": "https://localhost:8080/"
        },
        "outputId": "00ad8d6c-a0eb-4620-ee4e-a23efac86d6f"
      },
      "source": [
        "df = pd.DataFrame (results, columns = ['Min Samples','MAX Epsilon','Final Score'])\n",
        "\n",
        "print (df)"
      ],
      "execution_count": 110,
      "outputs": [
        {
          "output_type": "stream",
          "text": [
            "    Min Samples  MAX Epsilon  Final Score\n",
            "0          0.25            8     0.736214\n",
            "1          0.30            8     0.737316\n",
            "2          0.40            8     0.930802\n",
            "3          0.50            8     0.930240\n",
            "4          0.25            9     0.739852\n",
            "5          0.30            9     0.740954\n",
            "6          0.40            9     0.936383\n",
            "7          0.50            9     0.936383\n",
            "8          0.25           10     0.740937\n",
            "9          0.30           10     0.742038\n",
            "10         0.40           10     0.937468\n",
            "11         0.50           10     0.937468\n"
          ],
          "name": "stdout"
        }
      ]
    },
    {
      "cell_type": "markdown",
      "metadata": {
        "id": "8qJCJBxsX9yi"
      },
      "source": [
        "# **Conclusion**\n",
        "**min_samples** = *0.4* and **max_eps** = *10* gave the best results. Hence we can use those parameters for further implementation."
      ]
    },
    {
      "cell_type": "code",
      "metadata": {
        "colab": {
          "base_uri": "https://localhost:8080/",
          "height": 390
        },
        "id": "v-vGGJjXYhuC",
        "outputId": "2f77ed2e-eed8-4864-ca25-1987cadeb727"
      },
      "source": [
        "optics_func(cpu_mem_disk_NW_use_data_std[machine_data_index],0.4,10)"
      ],
      "execution_count": 111,
      "outputs": [
        {
          "output_type": "display_data",
          "data": {
            "image/png": "[encoded data removed]",
            "text/plain": [
              "<Figure size 576x432 with 1 Axes>"
            ]
          },
          "metadata": {
            "tags": [],
            "needs_background": "light"
          }
        }
      ]
    },
    {
      "cell_type": "code",
      "metadata": {
        "id": "lchjcZ8aYnT_"
      },
      "source": [
        ""
      ],
      "execution_count": null,
      "outputs": []
    }
  ]
}