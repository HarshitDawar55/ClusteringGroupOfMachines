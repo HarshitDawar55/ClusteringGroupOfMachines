{
  "nbformat": 4,
  "nbformat_minor": 0,
  "metadata": {
    "colab": {
      "name": "Different_clustering_algorithms.ipynb",
      "provenance": []
    },
    "kernelspec": {
      "name": "python3",
      "display_name": "Python 3"
    }
  },
  "cells": [
    {
      "cell_type": "code",
      "metadata": {
        "id": "KFIO7RSIktRS",
        "outputId": "2f84c790-2984-4131-813b-8623ee67db51",
        "colab": {
          "base_uri": "https://localhost:8080/"
        }
      },
      "source": [
        "from google.colab import drive\n",
        "drive.mount('/content/drive')"
      ],
      "execution_count": 1,
      "outputs": [
        {
          "output_type": "stream",
          "text": [
            "Mounted at /content/drive\n"
          ],
          "name": "stdout"
        }
      ]
    },
    {
      "cell_type": "code",
      "metadata": {
        "id": "7yTwNvrQmLXo"
      },
      "source": [
        "!unzip -q '/content/drive/My Drive/Datasets/GWA-T-13_Materna-Workload-Traces.zip'"
      ],
      "execution_count": 2,
      "outputs": []
    },
    {
      "cell_type": "code",
      "metadata": {
        "id": "S_P6TwwRmNxa"
      },
      "source": [
        "#import the libraries\n",
        "import matplotlib.pyplot as plt\n",
        "import pandas as pd\n",
        "from sklearn.preprocessing import StandardScaler\n",
        "from numpy import unique\n",
        "from numpy import where\n",
        "from sklearn.cluster import DBSCAN\n",
        "from sklearn.cluster import AffinityPropagation\n",
        "from sklearn.cluster import AgglomerativeClustering\n",
        "from sklearn.cluster import Birch\n",
        "from sklearn.cluster import KMeans\n",
        "from sklearn.cluster import MiniBatchKMeans\n",
        "from sklearn.cluster import MeanShift\n",
        "from sklearn.cluster import SpectralClustering\n",
        "from sklearn.mixture import GaussianMixture\n",
        "from sklearn.cluster import OPTICS\n",
        "from sklearn import metrics"
      ],
      "execution_count": 3,
      "outputs": []
    },
    {
      "cell_type": "markdown",
      "metadata": {
        "id": "e6YPU5AsDJlG"
      },
      "source": [
        "# Read the data\n"
      ]
    },
    {
      "cell_type": "code",
      "metadata": {
        "id": "YPcST3numjb_",
        "outputId": "f222e570-1a51-4555-fca0-95f9e2981e41",
        "colab": {
          "base_uri": "https://localhost:8080/",
          "height": 340
        }
      },
      "source": [
        "#read the input data file\n",
        "input_file = pd.read_csv('/content/GWA-T-13_Materna-Workload-Traces/Materna-Trace-1/01.csv', delimiter=';')\n",
        "input_file.head()"
      ],
      "execution_count": 4,
      "outputs": [
        {
          "output_type": "execute_result",
          "data": {
            "text/html": [
              "<div>\n",
              "<style scoped>\n",
              "    .dataframe tbody tr th:only-of-type {\n",
              "        vertical-align: middle;\n",
              "    }\n",
              "\n",
              "    .dataframe tbody tr th {\n",
              "        vertical-align: top;\n",
              "    }\n",
              "\n",
              "    .dataframe thead th {\n",
              "        text-align: right;\n",
              "    }\n",
              "</style>\n",
              "<table border=\"1\" class=\"dataframe\">\n",
              "  <thead>\n",
              "    <tr style=\"text-align: right;\">\n",
              "      <th></th>\n",
              "      <th>Timestamp</th>\n",
              "      <th>CPU cores</th>\n",
              "      <th>CPU capacity provisioned [MHZ]</th>\n",
              "      <th>CPU usage [MHZ]</th>\n",
              "      <th>CPU usage [%]</th>\n",
              "      <th>Memory capacity provisioned [KB]</th>\n",
              "      <th>Memory usage [KB]</th>\n",
              "      <th>Memory usage [%]</th>\n",
              "      <th>Disk read throughput [KB/s]</th>\n",
              "      <th>Disk write throughput [KB/s]</th>\n",
              "      <th>Disk size [GB]</th>\n",
              "      <th>Network received throughput [KB/s]</th>\n",
              "      <th>Network transmitted throughput [KB/s]</th>\n",
              "    </tr>\n",
              "  </thead>\n",
              "  <tbody>\n",
              "    <tr>\n",
              "      <th>0</th>\n",
              "      <td>05.11.2015 00:00:00</td>\n",
              "      <td>2</td>\n",
              "      <td>0</td>\n",
              "      <td>156</td>\n",
              "      <td>3,4</td>\n",
              "      <td>4194304</td>\n",
              "      <td>1050673</td>\n",
              "      <td>25,05</td>\n",
              "      <td>0</td>\n",
              "      <td>14</td>\n",
              "      <td>54</td>\n",
              "      <td>12</td>\n",
              "      <td>45</td>\n",
              "    </tr>\n",
              "    <tr>\n",
              "      <th>1</th>\n",
              "      <td>05.11.2015 00:05:00</td>\n",
              "      <td>2</td>\n",
              "      <td>0</td>\n",
              "      <td>150</td>\n",
              "      <td>3,27</td>\n",
              "      <td>4194304</td>\n",
              "      <td>1095552</td>\n",
              "      <td>26,12</td>\n",
              "      <td>0</td>\n",
              "      <td>17</td>\n",
              "      <td>54</td>\n",
              "      <td>2</td>\n",
              "      <td>13</td>\n",
              "    </tr>\n",
              "    <tr>\n",
              "      <th>2</th>\n",
              "      <td>05.11.2015 00:10:00</td>\n",
              "      <td>2</td>\n",
              "      <td>0</td>\n",
              "      <td>158</td>\n",
              "      <td>3,46</td>\n",
              "      <td>4194304</td>\n",
              "      <td>1025507</td>\n",
              "      <td>24,45</td>\n",
              "      <td>0</td>\n",
              "      <td>15</td>\n",
              "      <td>54</td>\n",
              "      <td>12</td>\n",
              "      <td>45</td>\n",
              "    </tr>\n",
              "    <tr>\n",
              "      <th>3</th>\n",
              "      <td>05.11.2015 00:15:00</td>\n",
              "      <td>2</td>\n",
              "      <td>0</td>\n",
              "      <td>156</td>\n",
              "      <td>3,4</td>\n",
              "      <td>4194304</td>\n",
              "      <td>992372</td>\n",
              "      <td>23,66</td>\n",
              "      <td>0</td>\n",
              "      <td>16</td>\n",
              "      <td>54</td>\n",
              "      <td>3</td>\n",
              "      <td>12</td>\n",
              "    </tr>\n",
              "    <tr>\n",
              "      <th>4</th>\n",
              "      <td>05.11.2015 00:20:00</td>\n",
              "      <td>2</td>\n",
              "      <td>0</td>\n",
              "      <td>159</td>\n",
              "      <td>3,47</td>\n",
              "      <td>4194304</td>\n",
              "      <td>1129107</td>\n",
              "      <td>26,92</td>\n",
              "      <td>0</td>\n",
              "      <td>15</td>\n",
              "      <td>54</td>\n",
              "      <td>13</td>\n",
              "      <td>46</td>\n",
              "    </tr>\n",
              "  </tbody>\n",
              "</table>\n",
              "</div>"
            ],
            "text/plain": [
              "             Timestamp  ...  Network transmitted throughput [KB/s]\n",
              "0  05.11.2015 00:00:00  ...                                     45\n",
              "1  05.11.2015 00:05:00  ...                                     13\n",
              "2  05.11.2015 00:10:00  ...                                     45\n",
              "3  05.11.2015 00:15:00  ...                                     12\n",
              "4  05.11.2015 00:20:00  ...                                     46\n",
              "\n",
              "[5 rows x 13 columns]"
            ]
          },
          "metadata": {
            "tags": []
          },
          "execution_count": 4
        }
      ]
    },
    {
      "cell_type": "code",
      "metadata": {
        "id": "3tNnF4r_mmUL",
        "outputId": "15c9ae76-e0fc-4ef6-b2a2-a5bac8f6f09e",
        "colab": {
          "base_uri": "https://localhost:8080/"
        }
      },
      "source": [
        "#number of rows and columns in data\n",
        "input_file.shape"
      ],
      "execution_count": 5,
      "outputs": [
        {
          "output_type": "execute_result",
          "data": {
            "text/plain": [
              "(8352, 13)"
            ]
          },
          "metadata": {
            "tags": []
          },
          "execution_count": 5
        }
      ]
    },
    {
      "cell_type": "markdown",
      "metadata": {
        "id": "ARP7vAcrDN4v"
      },
      "source": [
        "# Preprocessing of the data"
      ]
    },
    {
      "cell_type": "code",
      "metadata": {
        "id": "V0JMcbuKmq3D"
      },
      "source": [
        "#Remove timestamp column\n",
        "input_file = input_file.drop('Timestamp', axis=1)\n",
        "#replace , with . in percentage value\n",
        "input_file = input_file.replace(to_replace=r',', value='.', regex=True)\n",
        "#Take neccessary columns from data\n",
        "machine_df = input_file[['CPU usage [%]','Memory usage [%]','Disk read throughput [KB/s]',\n",
        "                        'Disk write throughput [KB/s]']]\n",
        "#scale the data\n",
        "machine_data_std = StandardScaler().fit_transform(machine_df)"
      ],
      "execution_count": 6,
      "outputs": []
    },
    {
      "cell_type": "markdown",
      "metadata": {
        "id": "JVWg7hLV0uXH"
      },
      "source": [
        "# Evaluation metrics\n",
        "*   The Silhouette score is bounded between -1 for incorrect clustering and +1 for highly dense clustering. Scores around zero indicate overlapping clusters.\n",
        "*   Calinski-Harabasz index is the ratio of the sum of between-clusters dispersion and of inter-cluster dispersion for all clusters , where a higher score relates to better defined clusters.\n",
        " \n",
        "*   Davies-Bouldin index signifies the average ‘similarity’ between clusters, where the similarity is a measure that compares the distance between clusters with the size of the clusters themselves. Zero is the lowest possible score. Values closer to zero indicate a better partition.\n",
        "\n",
        "\n",
        "*   Bayesian information criterion(BIC) and Akaike information criterion(AIC)  is used to eveluate Gaussian mixture model, lower the BIC and AIC values indicate better model.\n",
        "\n",
        "\n"
      ]
    },
    {
      "cell_type": "markdown",
      "metadata": {
        "id": "Mdm0-sLJn5Gq"
      },
      "source": [
        "# Affinity Propogation"
      ]
    },
    {
      "cell_type": "markdown",
      "metadata": {
        "id": "VS8zBHr2yQpC"
      },
      "source": [
        "\n",
        "*   Affinity Propagation creates clusters by sending messages between data points until convergence.\n",
        "*  The damping factor which damps the responsibility and availability of messages to avoid numerical oscillations when updating these messages.\n",
        "\n",
        "\n",
        "\n",
        "\n",
        "\n",
        "\n",
        "\n",
        "\n",
        "\n",
        "\n"
      ]
    },
    {
      "cell_type": "code",
      "metadata": {
        "id": "Vbls9IT3ny-D"
      },
      "source": [
        "#define funaction for Affinity Propogation clustering\n",
        "def affinityPropogation(damping, data):\n",
        "  model = AffinityPropagation(damping)\n",
        "  # fit the model\n",
        "  model.fit(data)\n",
        "  # assign a cluster to each example\n",
        "  yhat = model.predict(data)\n",
        "  # retrieve unique clusters\n",
        "  clusters = unique(yhat)\n",
        "  # create scatter plot for samples from each clusterfor cluster in clusters:\n",
        "  for cluster in clusters:\n",
        "    # get row indexes for samples with this cluster\n",
        "    row_ix = where(yhat == cluster)\n",
        "    # create scatter of these samples\n",
        "    plt.scatter(data[row_ix, 0], data[row_ix, 1])\n",
        "    plt.title(\"Damping=\"+str(damping))\n",
        "  # show the plot\n",
        "  plt.show()\n",
        "   #evaluate model\n",
        "  labels = model.labels_\n",
        "  print(\"Silhouette score : \"+ str(metrics.silhouette_score(data, labels, metric='euclidean')))\n",
        "  print(\"Calinski Harabasz score : \"+ str(metrics.calinski_harabasz_score(data, labels)))\n",
        "  print(\"Davies Bouldin score score : \"+ str(metrics.davies_bouldin_score(data, labels)))"
      ],
      "execution_count": 24,
      "outputs": []
    },
    {
      "cell_type": "code",
      "metadata": {
        "id": "2pg49bW-qTrd",
        "outputId": "99e5267a-398b-4f8c-d7d0-8a62c5971f7b",
        "colab": {
          "base_uri": "https://localhost:8080/",
          "height": 332
        }
      },
      "source": [
        "#call the above defined function\n",
        "affinityPropogation(damping=0.8, data=machine_data_std)"
      ],
      "execution_count": 25,
      "outputs": [
        {
          "output_type": "display_data",
          "data": {
            "image/png": "[encoded data removed]",
            "text/plain": [
              "<Figure size 432x288 with 1 Axes>"
            ]
          },
          "metadata": {
            "tags": [],
            "needs_background": "light"
          }
        },
        {
          "output_type": "stream",
          "text": [
            "Silhouette score : 0.38285609136636795\n",
            "Calinski Harabasz score : 77838.22986685798\n",
            "Davies Bouldin score score : 0.5042656606660789\n"
          ],
          "name": "stdout"
        }
      ]
    },
    {
      "cell_type": "markdown",
      "metadata": {
        "id": "SmlqhFAb_yMV"
      },
      "source": [
        "# Agglomerative Clustering"
      ]
    },
    {
      "cell_type": "markdown",
      "metadata": {
        "id": "H-rAmnobzeAv"
      },
      "source": [
        "Agglomerative clustering is a hierarchical clustering - Bottom up approach. The idea is start with many small clusters and merge them together to create bigger clusters."
      ]
    },
    {
      "cell_type": "code",
      "metadata": {
        "id": "YTJeBagKqg5G"
      },
      "source": [
        "#define funaction for Agglomerative Clustering\n",
        "def agglomerativeClustering(n_clusters, data):\n",
        "  # define the model\n",
        "  model = AgglomerativeClustering(n_clusters=3)\n",
        "  # fit model and predict clusters\n",
        "  yhat = model.fit_predict(data)\n",
        "  # retrieve unique clusters\n",
        "  clusters = unique(yhat)\n",
        "  # create scatter plot for samples from each cluster\n",
        "  for cluster in clusters:\n",
        "    # get row indexes for samples with this cluster\n",
        "    row_ix = where(yhat == cluster)\n",
        "    # create scatter of these samples\n",
        "    plt.scatter(data[row_ix, 0], data[row_ix, 1])\n",
        "    plt.title(\"number of clusters = \"+str(n_clusters))\n",
        "  # show the plot\n",
        "  plt.show()\n",
        "  #evaluate model\n",
        "  labels = model.labels_\n",
        "  print(\"Silhouette score : \"+ str(metrics.silhouette_score(data, labels, metric='euclidean')))\n",
        "  print(\"Calinski Harabasz score : \"+ str(metrics.calinski_harabasz_score(data, labels)))\n",
        "  print(\"Davies Bouldin score score : \"+ str(metrics.davies_bouldin_score(data, labels)))"
      ],
      "execution_count": 22,
      "outputs": []
    },
    {
      "cell_type": "code",
      "metadata": {
        "id": "tqz7sF73ul6H",
        "outputId": "511e8842-f5ac-47d1-9b47-c7d2b16849f7",
        "colab": {
          "base_uri": "https://localhost:8080/",
          "height": 332
        }
      },
      "source": [
        "#call the above defined function\n",
        "agglomerativeClustering(n_clusters=3, data=machine_data_std)"
      ],
      "execution_count": 40,
      "outputs": [
        {
          "output_type": "display_data",
          "data": {
            "image/png": "[encoded data removed]",
            "text/plain": [
              "<Figure size 432x288 with 1 Axes>"
            ]
          },
          "metadata": {
            "tags": [],
            "needs_background": "light"
          }
        },
        {
          "output_type": "stream",
          "text": [
            "Silhouette score : 0.7125916518585155\n",
            "Calinski Harabasz score : 3559.521098473882\n",
            "Davies Bouldin score score : 0.516617705770042\n"
          ],
          "name": "stdout"
        }
      ]
    },
    {
      "cell_type": "markdown",
      "metadata": {
        "id": "1UquN9hlOfRP"
      },
      "source": [
        "# Birch Clustering"
      ]
    },
    {
      "cell_type": "markdown",
      "metadata": {
        "id": "hTK9SPhEF8Co"
      },
      "source": [
        "Balanced Iterative Reducing and Clustering using Hierarchies (BIRCH) can cluster large datasets by first generating a small and compact summary of the the large dataset that retains as much information as possible. This smaller summary is then clustered instead of clustering the larger dataset."
      ]
    },
    {
      "cell_type": "code",
      "metadata": {
        "id": "f7IhNoq0u1LP"
      },
      "source": [
        "#define funaction for Birch Clustering\n",
        "def birch(threshold, n_clusters, data):\n",
        "# define the model\n",
        "  model = Birch(threshold, n_clusters)\n",
        "  # fit the model\n",
        "  model.fit(data)\n",
        "  # assign a cluster to each example\n",
        "  yhat = model.predict(data)\n",
        "  # retrieve unique clusters\n",
        "  clusters = unique(yhat)\n",
        "  # create scatter plot for samples from each cluster\n",
        "  for cluster in clusters:\n",
        "    # get row indexes for samples with this cluster\n",
        "    row_ix = where(yhat == cluster)\n",
        "    # create scatter of these samples\n",
        "    plt.scatter(data[row_ix, 0], data[row_ix, 1])\n",
        "    #add title for a plot \n",
        "    plt.title(\"Thresold=\"+str(threshold)+\"    \"+\"number of clusters = \"+str(n_clusters))\n",
        "  # show the plot\n",
        "  plt.show()\n",
        "  #evaluate model\n",
        "  labels = model.labels_\n",
        "  print(\"Silhouette score : \"+ str(metrics.silhouette_score(data, labels, metric='euclidean')))\n",
        "  print(\"Calinski Harabasz score : \"+ str(metrics.calinski_harabasz_score(data, labels)))\n",
        "  print(\"Davies Bouldin score score : \"+ str(metrics.davies_bouldin_score(data, labels)))"
      ],
      "execution_count": 20,
      "outputs": []
    },
    {
      "cell_type": "code",
      "metadata": {
        "id": "qFad8jBqwgtj",
        "outputId": "9b335df4-892c-4943-ffc7-ecae89078927",
        "colab": {
          "base_uri": "https://localhost:8080/",
          "height": 332
        }
      },
      "source": [
        "#call the above defined function\n",
        "birch(threshold=0.05, n_clusters=3, data=machine_data_std)"
      ],
      "execution_count": 41,
      "outputs": [
        {
          "output_type": "display_data",
          "data": {
            "image/png": "[encoded data removed]",
            "text/plain": [
              "<Figure size 432x288 with 1 Axes>"
            ]
          },
          "metadata": {
            "tags": [],
            "needs_background": "light"
          }
        },
        {
          "output_type": "stream",
          "text": [
            "Silhouette score : 0.916044501391224\n",
            "Calinski Harabasz score : 3028.7406734539254\n",
            "Davies Bouldin score score : 0.5187500109656495\n"
          ],
          "name": "stdout"
        }
      ]
    },
    {
      "cell_type": "markdown",
      "metadata": {
        "id": "wb94SZraFzRP"
      },
      "source": [
        "# KMeans Clustering\n"
      ]
    },
    {
      "cell_type": "markdown",
      "metadata": {
        "id": "VwjvEaYvGV-G"
      },
      "source": [
        "KMeans partition observations into k clusters in which each observation belongs to the cluster with the nearest mean."
      ]
    },
    {
      "cell_type": "code",
      "metadata": {
        "id": "ZxOJx6Iwwsro"
      },
      "source": [
        "#define funaction for KMeans Clustering\n",
        "def kMeans(n_clusters, data):\n",
        "  # define the model\n",
        "  model = KMeans(n_clusters)\n",
        "  # fit the model\n",
        "  model.fit(data)\n",
        "  # assign a cluster to each example\n",
        "  yhat = model.predict(data)\n",
        "  # retrieve unique clusters\n",
        "  clusters = unique(yhat)\n",
        "  # create scatter plot for samples from each cluster\n",
        "  for cluster in clusters:\n",
        "    # get row indexes for samples with this cluster\n",
        "    row_ix = where(yhat == cluster)\n",
        "    # create scatter of these samples\n",
        "    plt.scatter(data[row_ix, 0], data[row_ix, 1])\n",
        "    #add title for a plot \n",
        "    plt.title(\"number of clusters = \"+str(n_clusters))\n",
        "  \n",
        "  # show the plot\n",
        "  plt.show()\n",
        "  #evaluate model\n",
        "  labels = model.labels_\n",
        "  print(\"Silhouette score : \"+ str(metrics.silhouette_score(data, labels, metric='euclidean')))\n",
        "  print(\"Calinski Harabasz score : \"+ str(metrics.calinski_harabasz_score(data, labels)))\n",
        "  print(\"Davies Bouldin score score : \"+ str(metrics.davies_bouldin_score(data, labels)))"
      ],
      "execution_count": 18,
      "outputs": []
    },
    {
      "cell_type": "code",
      "metadata": {
        "id": "JvYEAhtqxfQ5",
        "outputId": "5437c9a1-2ed7-49ca-ff18-d9df34644fd4",
        "colab": {
          "base_uri": "https://localhost:8080/",
          "height": 962
        }
      },
      "source": [
        "#call the above defined funaction\n",
        "kMeans(n_clusters=2, data=machine_data_std)\n",
        "kMeans(n_clusters=3, data=machine_data_std)\n",
        "kMeans(n_clusters=4, data=machine_data_std)"
      ],
      "execution_count": 19,
      "outputs": [
        {
          "output_type": "display_data",
          "data": {
            "image/png": "[encoded data removed]",
            "text/plain": [
              "<Figure size 432x288 with 1 Axes>"
            ]
          },
          "metadata": {
            "tags": [],
            "needs_background": "light"
          }
        },
        {
          "output_type": "stream",
          "text": [
            "Silhouette score : 0.9652441188331299\n",
            "Calinski Harabasz score : 2567.794437672516\n",
            "Davies Bouldin score score : 0.24167344831688053\n"
          ],
          "name": "stdout"
        },
        {
          "output_type": "display_data",
          "data": {
            "image/png": "[encoded data removed]",
            "text/plain": [
              "<Figure size 432x288 with 1 Axes>"
            ]
          },
          "metadata": {
            "tags": [],
            "needs_background": "light"
          }
        },
        {
          "output_type": "stream",
          "text": [
            "Silhouette score : 0.7196674389490016\n",
            "Calinski Harabasz score : 3573.4514422832267\n",
            "Davies Bouldin score score : 0.5379418767442461\n"
          ],
          "name": "stdout"
        },
        {
          "output_type": "display_data",
          "data": {
            "image/png": "[encoded data removed]",
            "text/plain": [
              "<Figure size 432x288 with 1 Axes>"
            ]
          },
          "metadata": {
            "tags": [],
            "needs_background": "light"
          }
        },
        {
          "output_type": "stream",
          "text": [
            "Silhouette score : 0.7224179201411325\n",
            "Calinski Harabasz score : 5639.671696338704\n",
            "Davies Bouldin score score : 0.4924038570081\n"
          ],
          "name": "stdout"
        }
      ]
    },
    {
      "cell_type": "markdown",
      "metadata": {
        "id": "1ucOSbPHGZVH"
      },
      "source": [
        "# Mini Batch KMeans Clustering"
      ]
    },
    {
      "cell_type": "markdown",
      "metadata": {
        "id": "hee3ehOPG2U6"
      },
      "source": [
        "Mini Batch K-means algorithm‘s main idea is to use small random batches of data of a fixed size, so they can be stored in memory. "
      ]
    },
    {
      "cell_type": "code",
      "metadata": {
        "id": "VePcg2Tgxs4g"
      },
      "source": [
        "# define function for mini-batch k-means clustering\n",
        "def miniBatchKMeansClustering(n_clusters, data):\n",
        "  # define the model\n",
        "  model = MiniBatchKMeans(n_clusters)\n",
        "  # fit the model\n",
        "  model.fit(data)\n",
        "  # assign a cluster to each example\n",
        "  yhat = model.predict(data)\n",
        "  # retrieve unique clusters\n",
        "  clusters = unique(yhat)\n",
        "  # create scatter plot for samples from each cluster\n",
        "  for cluster in clusters:\n",
        "    # get row indexes for samples with this cluster\n",
        "    row_ix = where(yhat == cluster)\n",
        "    # create scatter of these samples\n",
        "    plt.scatter(data[row_ix, 0], data[row_ix, 1])\n",
        "    #add title for a plot \n",
        "    plt.title(\"number of clusters = \"+str(n_clusters))\n",
        "  # show the plot\n",
        "  plt.show()\n",
        "   #evaluate model\n",
        "  labels = model.labels_\n",
        "  print(\"Silhouette score : \"+ str(metrics.silhouette_score(data, labels, metric='euclidean')))\n",
        "  print(\"Calinski Harabasz score : \"+ str(metrics.calinski_harabasz_score(data, labels)))\n",
        "  print(\"Davies Bouldin score score : \"+ str(metrics.davies_bouldin_score(data, labels)))"
      ],
      "execution_count": 26,
      "outputs": []
    },
    {
      "cell_type": "code",
      "metadata": {
        "id": "OD-5nSbzG6oB",
        "outputId": "db42a361-620a-4d6c-ead0-2f86917e4f2f",
        "colab": {
          "base_uri": "https://localhost:8080/",
          "height": 962
        }
      },
      "source": [
        "#call the above defined function\n",
        "miniBatchKMeansClustering(n_clusters=2, data=machine_data_std)\n",
        "miniBatchKMeansClustering(n_clusters=3, data=machine_data_std)\n",
        "miniBatchKMeansClustering(n_clusters=4, data=machine_data_std)"
      ],
      "execution_count": 27,
      "outputs": [
        {
          "output_type": "display_data",
          "data": {
            "image/png": "[encoded data removed]",
            "text/plain": [
              "<Figure size 432x288 with 1 Axes>"
            ]
          },
          "metadata": {
            "tags": [],
            "needs_background": "light"
          }
        },
        {
          "output_type": "stream",
          "text": [
            "Silhouette score : 0.7126276885967578\n",
            "Calinski Harabasz score : 2437.924889503553\n",
            "Davies Bouldin score score : 0.6744125418209915\n"
          ],
          "name": "stdout"
        },
        {
          "output_type": "display_data",
          "data": {
            "image/png": "[encoded data removed]",
            "text/plain": [
              "<Figure size 432x288 with 1 Axes>"
            ]
          },
          "metadata": {
            "tags": [],
            "needs_background": "light"
          }
        },
        {
          "output_type": "stream",
          "text": [
            "Silhouette score : 0.7084706102115516\n",
            "Calinski Harabasz score : 2979.817915845163\n",
            "Davies Bouldin score score : 0.5124796096102338\n"
          ],
          "name": "stdout"
        },
        {
          "output_type": "display_data",
          "data": {
            "image/png": "[encoded data removed]",
            "text/plain": [
              "<Figure size 432x288 with 1 Axes>"
            ]
          },
          "metadata": {
            "tags": [],
            "needs_background": "light"
          }
        },
        {
          "output_type": "stream",
          "text": [
            "Silhouette score : 0.7230528777903944\n",
            "Calinski Harabasz score : 4561.823294550513\n",
            "Davies Bouldin score score : 0.4588883875378357\n"
          ],
          "name": "stdout"
        }
      ]
    },
    {
      "cell_type": "markdown",
      "metadata": {
        "id": "hjVKPtffHdJ9"
      },
      "source": [
        "# Mean Shift Clustering"
      ]
    },
    {
      "cell_type": "markdown",
      "metadata": {
        "id": "qzz3I_8AHRD6"
      },
      "source": [
        "The idea is  for given a set of data points, the algorithm iteratively assigns each data point towards the closest cluster centroid and direction to the closest cluster centroid is determined by where most of the points nearby are at. So each iteration each data point will move closer to where the most points are at, which is or will lead to the cluster center. When the algorithm stops, each point is assigned to a cluster."
      ]
    },
    {
      "cell_type": "code",
      "metadata": {
        "id": "4yvq2mZ1y01o"
      },
      "source": [
        "#define function for MeanShift clustering\n",
        "def meanShift(data):\n",
        "  # define the model\n",
        "  model = MeanShift()\n",
        "  # fit model and predict clusters\n",
        "  yhat = model.fit_predict(data)\n",
        "  # retrieve unique clusters\n",
        "  clusters = unique(yhat)\n",
        "  # create scatter plot for samples from each cluster\n",
        "  for cluster in clusters:\n",
        "    # get row indexes for samples with this cluster\n",
        "    row_ix = where(yhat == cluster)\n",
        "    # create scatter of these samples\n",
        "    plt.scatter(data[row_ix, 0], data[row_ix, 1])\n",
        "  # show the plot\n",
        "  plt.show()\n",
        "   #evaluate model\n",
        "  labels = model.labels_\n",
        "  print(\"Silhouette score : \"+ str(metrics.silhouette_score(data, labels, metric='euclidean')))\n",
        "  print(\"Calinski Harabasz score : \"+ str(metrics.calinski_harabasz_score(data, labels)))\n",
        "  print(\"Davies Bouldin score score : \"+ str(metrics.davies_bouldin_score(data, labels)))"
      ],
      "execution_count": 28,
      "outputs": []
    },
    {
      "cell_type": "code",
      "metadata": {
        "id": "1y3vm0W2HyiQ",
        "outputId": "83cf979a-136c-494c-e58f-77530204b48e",
        "colab": {
          "base_uri": "https://localhost:8080/",
          "height": 316
        }
      },
      "source": [
        "#call the above defined funnction\n",
        "meanShift(data=machine_data_std)"
      ],
      "execution_count": 29,
      "outputs": [
        {
          "output_type": "display_data",
          "data": {
            "image/png": "[encoded data removed]",
            "text/plain": [
              "<Figure size 432x288 with 1 Axes>"
            ]
          },
          "metadata": {
            "tags": [],
            "needs_background": "light"
          }
        },
        {
          "output_type": "stream",
          "text": [
            "Silhouette score : 0.6635561965619602\n",
            "Calinski Harabasz score : 5997.701787470773\n",
            "Davies Bouldin score score : 0.33772009856704843\n"
          ],
          "name": "stdout"
        }
      ]
    },
    {
      "cell_type": "markdown",
      "metadata": {
        "id": "bucCntm2IDkq"
      },
      "source": [
        "# OPTICS Clustering"
      ]
    },
    {
      "cell_type": "markdown",
      "metadata": {
        "id": "L8VySGiNIt9s"
      },
      "source": [
        "Ordering Points to Identify Cluster Structure(OPTICS), relative of DBSCAN, will create a reachability plot that is then used to extract clusters. "
      ]
    },
    {
      "cell_type": "code",
      "metadata": {
        "id": "OqB0R5Pj0cGj"
      },
      "source": [
        "#define function for OPTICS clustering\n",
        "def OPTICSClustering(eps, min_samples, data):\n",
        "  # define the model\n",
        "  model = OPTICS(eps, min_samples)\n",
        "  # fit model and predict clusters\n",
        "  yhat = model.fit_predict(data)\n",
        "  # retrieve unique clusters\n",
        "  clusters = unique(yhat)\n",
        "  # create scatter plot for samples from each cluster\n",
        "  for cluster in clusters:\n",
        "    # get row indexes for samples with this cluster\n",
        "    row_ix = where(yhat == cluster)\n",
        "    # create scatter of these samples\n",
        "    plt.scatter(data[row_ix, 0], data[row_ix, 1])\n",
        "    #add title for a plot \n",
        "    plt.title(\"eps=\"+str(eps)+\"    \"+\"min_samples = \"+str(min_samples))\n",
        "  # show the plot\n",
        "  plt.show()\n",
        "   #evaluate model\n",
        "  labels = model.labels_\n",
        "  print(\"Silhouette score : \"+ str(metrics.silhouette_score(data, labels, metric='euclidean')))\n",
        "  print(\"Calinski Harabasz score : \"+ str(metrics.calinski_harabasz_score(data, labels)))\n",
        "  print(\"Davies Bouldin score score : \"+ str(metrics.davies_bouldin_score(data, labels)))"
      ],
      "execution_count": 30,
      "outputs": []
    },
    {
      "cell_type": "code",
      "metadata": {
        "id": "XZqfJE2-1TEp",
        "outputId": "a07f2cbb-bb37-4e1a-8627-961bdf71d5e2",
        "colab": {
          "base_uri": "https://localhost:8080/",
          "height": 647
        }
      },
      "source": [
        "#call the above defined function\n",
        "OPTICSClustering(eps=0.8, min_samples=10, data=machine_data_std)\n",
        "OPTICSClustering(eps=0.2, min_samples=30, data=machine_data_std)"
      ],
      "execution_count": 31,
      "outputs": [
        {
          "output_type": "display_data",
          "data": {
            "image/png": "[encoded data removed]",
            "text/plain": [
              "<Figure size 432x288 with 1 Axes>"
            ]
          },
          "metadata": {
            "tags": [],
            "needs_background": "light"
          }
        },
        {
          "output_type": "stream",
          "text": [
            "Silhouette score : 0.956430004257503\n",
            "Calinski Harabasz score : 2245.5393448316527\n",
            "Davies Bouldin score score : 1.030225528805574\n"
          ],
          "name": "stdout"
        },
        {
          "output_type": "display_data",
          "data": {
            "image/png": "[encoded data removed]",
            "text/plain": [
              "<Figure size 432x288 with 1 Axes>"
            ]
          },
          "metadata": {
            "tags": [],
            "needs_background": "light"
          }
        },
        {
          "output_type": "stream",
          "text": [
            "Silhouette score : 0.5273656586287356\n",
            "Calinski Harabasz score : 1728.700138357725\n",
            "Davies Bouldin score score : 0.564833278468325\n"
          ],
          "name": "stdout"
        }
      ]
    },
    {
      "cell_type": "markdown",
      "metadata": {
        "id": "vg_ilfJvJF7G"
      },
      "source": [
        "# Gaussian Mixture Clustering"
      ]
    },
    {
      "cell_type": "markdown",
      "metadata": {
        "id": "FU8nnUAcJYg_"
      },
      "source": [
        "Gaussian Mixture Models are probabilistic models and use the soft clustering approach for distributing the points in different clusters."
      ]
    },
    {
      "cell_type": "code",
      "metadata": {
        "id": "9D9wfbH_2wGz"
      },
      "source": [
        "# define function for gaussian mixture clustering\n",
        "def gaussianMixtureClustering(n_components, data):\n",
        "  # define the model\n",
        "  model = GaussianMixture(n_components)\n",
        "  # fit the model\n",
        "  model.fit(data)\n",
        "  # assign a cluster to each example\n",
        "  yhat = model.predict(data)\n",
        "  # retrieve unique clusters\n",
        "  clusters = unique(yhat)\n",
        "  # create scatter plot for samples from each cluster\n",
        "  for cluster in clusters:\n",
        "    # get row indexes for samples with this cluster\n",
        "    row_ix = where(yhat == cluster)\n",
        "    # create scatter of these samples\n",
        "    plt.scatter(data[row_ix, 0], data[row_ix, 1])\n",
        "    #add title for a plot \n",
        "    plt.title(\"Number of components\"+str(n_components))\n",
        "  # show the plot\n",
        "  plt.show()\n",
        "   #evaluate model\n",
        "  print(\"Bayesian information criterion : \"+ str(model.bic(data)))\n",
        "  print(\"Akaike information criterion : \"+ str(model.aic(data)))\n",
        "  \n",
        "  "
      ],
      "execution_count": 38,
      "outputs": []
    },
    {
      "cell_type": "code",
      "metadata": {
        "id": "OGwFth5h3yBu",
        "outputId": "5ef17159-6d72-448e-8be1-df49bc267793",
        "colab": {
          "base_uri": "https://localhost:8080/",
          "height": 911
        }
      },
      "source": [
        "#call the above defined function\n",
        "gaussianMixtureClustering(n_components=2, data=machine_data_std)\n",
        "gaussianMixtureClustering(n_components=3, data=machine_data_std)\n",
        "gaussianMixtureClustering(n_components=4, data=machine_data_std)"
      ],
      "execution_count": 39,
      "outputs": [
        {
          "output_type": "display_data",
          "data": {
            "image/png": "[encoded data removed]",
            "text/plain": [
              "<Figure size 432x288 with 1 Axes>"
            ]
          },
          "metadata": {
            "tags": [],
            "needs_background": "light"
          }
        },
        {
          "output_type": "stream",
          "text": [
            "Bayesian information criterion : -123700.04949711061\n",
            "Akaike information criterion : -123903.92693010416\n"
          ],
          "name": "stdout"
        },
        {
          "output_type": "display_data",
          "data": {
            "image/png": "[encoded data removed]",
            "text/plain": [
              "<Figure size 432x288 with 1 Axes>"
            ]
          },
          "metadata": {
            "tags": [],
            "needs_background": "light"
          }
        },
        {
          "output_type": "stream",
          "text": [
            "Bayesian information criterion : -128983.61255483644\n",
            "Akaike information criterion : -129292.94383248182\n"
          ],
          "name": "stdout"
        },
        {
          "output_type": "display_data",
          "data": {
            "image/png": "[encoded data removed]",
            "text/plain": [
              "<Figure size 432x288 with 1 Axes>"
            ]
          },
          "metadata": {
            "tags": [],
            "needs_background": "light"
          }
        },
        {
          "output_type": "stream",
          "text": [
            "Bayesian information criterion : -87463.41647783748\n",
            "Akaike information criterion : -87878.20160013471\n"
          ],
          "name": "stdout"
        }
      ]
    },
    {
      "cell_type": "markdown",
      "metadata": {
        "id": "V1FsZOOiBcEL"
      },
      "source": [
        "# DBSCAN"
      ]
    },
    {
      "cell_type": "markdown",
      "metadata": {
        "id": "mK8Av4GbJtgB"
      },
      "source": [
        "Density-based spatial clustering of applications with noise (DBSCAN)'s key idea is that for each point of a cluster, the neighborhood of a given radius has to contain at least a minimum number of points."
      ]
    },
    {
      "cell_type": "code",
      "metadata": {
        "id": "--mf_s7JAHX7"
      },
      "source": [
        "# define function for dbscan clustering\n",
        "def dbscan(eps, min_samples, data):\n",
        "  # define the model\n",
        "  model = DBSCAN(eps, min_samples)\n",
        "  # fit model and predict clusters\n",
        "  yhat = model.fit_predict(data)\n",
        "  # retrieve unique clusters\n",
        "  clusters = unique(yhat)\n",
        "  # create scatter plot for samples from each cluster\n",
        "  for cluster in clusters:\n",
        "    # get row indexes for samples with this cluster\n",
        "    row_ix = where(yhat == cluster)\n",
        "    # create scatter of these samples\n",
        "    plt.scatter(data[row_ix, 0], data[row_ix, 1])\n",
        "    plt.title(\"eps=\"+str(eps)+\"    \"+\"min_samples=\"+str(min_samples))\n",
        "  # show the plot\n",
        "  plt.show()\n",
        "   #evaluate model\n",
        "  labels = model.labels_\n",
        "  print(\"Silhouette score : \"+ str(metrics.silhouette_score(data, labels, metric='euclidean')))\n",
        "  print(\"Calinski Harabasz score : \"+ str(metrics.calinski_harabasz_score(data, labels)))\n",
        "  print(\"Davies Bouldin score score : \"+ str(metrics.davies_bouldin_score(data, labels)))"
      ],
      "execution_count": 34,
      "outputs": []
    },
    {
      "cell_type": "code",
      "metadata": {
        "id": "fPQmnV2KBkm0",
        "outputId": "eec63a6c-8e03-404a-b916-67cba243337b",
        "colab": {
          "base_uri": "https://localhost:8080/",
          "height": 647
        }
      },
      "source": [
        "#call the above defined funtion\n",
        "dbscan(eps=0.5, min_samples=100, data=machine_data_std)\n",
        "dbscan(eps=0.6, min_samples=30, data=machine_data_std)"
      ],
      "execution_count": 35,
      "outputs": [
        {
          "output_type": "display_data",
          "data": {
            "image/png": "[encoded data removed]",
            "text/plain": [
              "<Figure size 432x288 with 1 Axes>"
            ]
          },
          "metadata": {
            "tags": [],
            "needs_background": "light"
          }
        },
        {
          "output_type": "stream",
          "text": [
            "Silhouette score : 0.6485731215623279\n",
            "Calinski Harabasz score : 1280.689225553054\n",
            "Davies Bouldin score score : 1.672588609408209\n"
          ],
          "name": "stdout"
        },
        {
          "output_type": "display_data",
          "data": {
            "image/png": "[encoded data removed]",
            "text/plain": [
              "<Figure size 432x288 with 1 Axes>"
            ]
          },
          "metadata": {
            "tags": [],
            "needs_background": "light"
          }
        },
        {
          "output_type": "stream",
          "text": [
            "Silhouette score : 0.6536225925364922\n",
            "Calinski Harabasz score : 1599.9142599098532\n",
            "Davies Bouldin score score : 1.4297008227516101\n"
          ],
          "name": "stdout"
        }
      ]
    }
  ]
}