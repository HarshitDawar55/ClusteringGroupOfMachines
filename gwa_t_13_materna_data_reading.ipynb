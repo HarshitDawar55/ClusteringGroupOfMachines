{
  "nbformat": 4,
  "nbformat_minor": 0,
  "metadata": {
    "colab": {
      "name": "gwa-t-13-materna_data_reading.ipynb",
      "provenance": []
    },
    "kernelspec": {
      "display_name": "Python 3",
      "language": "python",
      "name": "python3"
    },
    "language_info": {
      "codemirror_mode": {
        "name": "ipython",
        "version": 3
      },
      "file_extension": ".py",
      "mimetype": "text/x-python",
      "name": "python",
      "nbconvert_exporter": "python",
      "pygments_lexer": "ipython3",
      "version": "3.7.6"
    }
  },
  "cells": [
    {
      "cell_type": "markdown",
      "metadata": {
        "id": "-7kcsj_CD1KZ"
      },
      "source": [
        "# Clustering Group of Machines"
      ]
    },
    {
      "cell_type": "markdown",
      "metadata": {
        "id": "eU-qD4N0D1Ka"
      },
      "source": [
        "### Dataset Used - \n",
        " http://gwa.ewi.tudelft.nl/datasets/gwa-t-13-materna"
      ]
    },
    {
      "cell_type": "code",
      "metadata": {
        "id": "CHd1B43ZTDTp",
        "outputId": "3415d845-8eb0-4629-da83-479273a78cca",
        "colab": {
          "base_uri": "https://localhost:8080/"
        }
      },
      "source": [
        "#connect to drive\n",
        "from google.colab import drive\n",
        "drive.mount('/content/drive')"
      ],
      "execution_count": 2,
      "outputs": [
        {
          "output_type": "stream",
          "text": [
            "Mounted at /content/drive\n"
          ],
          "name": "stdout"
        }
      ]
    },
    {
      "cell_type": "code",
      "metadata": {
        "id": "JWjY9urOOxsj"
      },
      "source": [
        "#unzip the data file\n",
        "!unzip -q '/content/drive/My Drive/GWA-T-13_Materna-Workload-Traces.zip'"
      ],
      "execution_count": 3,
      "outputs": []
    },
    {
      "cell_type": "code",
      "metadata": {
        "id": "YAioABkFHsZe"
      },
      "source": [
        "#import libraries\n",
        "import pandas as pd\n",
        "import numpy as np\n",
        "import matplotlib.pyplot as plt\n",
        "import seaborn as sns\n",
        "import glob"
      ],
      "execution_count": 4,
      "outputs": []
    },
    {
      "cell_type": "code",
      "metadata": {
        "id": "6GtJQ6MWa3mu"
      },
      "source": [
        "#List of input data folder i.e. Materna-Trace-1, Materna-Trace-2, Materna-Trace-3\n",
        "Materna_Traces = ['/content/GWA-T-13_Materna-Workload-Traces/Materna-Trace-1', \n",
        "        '/content/GWA-T-13_Materna-Workload-Traces/Materna-Trace-2',\n",
        "        '/content/GWA-T-13_Materna-Workload-Traces/Materna-Trace-3']"
      ],
      "execution_count": 5,
      "outputs": []
    },
    {
      "cell_type": "code",
      "metadata": {
        "id": "uku6_C3cojQH"
      },
      "source": [
        "#function to read the input data\n",
        "def readInputData(paths):\n",
        "  #iterate each data folder\n",
        "  for path in paths:\n",
        "    #All csv files in current data folder\n",
        "    all_files = glob.glob(path + \"/*.csv\")\n",
        "    \n",
        "    data = []\n",
        "    for filename in all_files:\n",
        "        #read each csv file\n",
        "        df = pd.read_csv(filename, delimiter=';', index_col=None, header=0)\n",
        "        #append the data\n",
        "        data.append(df)\n",
        "    #merge the data and make dataframe\n",
        "    dataframe = pd.concat(data, axis=0, ignore_index=True)\n",
        "  return dataframe"
      ],
      "execution_count": 6,
      "outputs": []
    },
    {
      "cell_type": "code",
      "metadata": {
        "id": "HbVRMMh7pSEH"
      },
      "source": [
        "#call the function\n",
        "inputData = readInputData(Materna_Traces)"
      ],
      "execution_count": 7,
      "outputs": []
    },
    {
      "cell_type": "code",
      "metadata": {
        "id": "nEG2xZBGomCU",
        "outputId": "ed649189-ef57-448b-d527-7dc3ae0d16ec",
        "colab": {
          "base_uri": "https://localhost:8080/",
          "height": 313
        }
      },
      "source": [
        " #first 5 rows of data\n",
        " inputData.head()"
      ],
      "execution_count": 8,
      "outputs": [
        {
          "output_type": "execute_result",
          "data": {
            "text/html": [
              "<div>\n",
              "<style scoped>\n",
              "    .dataframe tbody tr th:only-of-type {\n",
              "        vertical-align: middle;\n",
              "    }\n",
              "\n",
              "    .dataframe tbody tr th {\n",
              "        vertical-align: top;\n",
              "    }\n",
              "\n",
              "    .dataframe thead th {\n",
              "        text-align: right;\n",
              "    }\n",
              "</style>\n",
              "<table border=\"1\" class=\"dataframe\">\n",
              "  <thead>\n",
              "    <tr style=\"text-align: right;\">\n",
              "      <th></th>\n",
              "      <th>Timestamp</th>\n",
              "      <th>CPU cores</th>\n",
              "      <th>CPU capacity provisioned [MHZ]</th>\n",
              "      <th>CPU usage [MHZ]</th>\n",
              "      <th>CPU usage [%]</th>\n",
              "      <th>Memory capacity provisioned [KB]</th>\n",
              "      <th>Memory usage [KB]</th>\n",
              "      <th>Memory usage [%]</th>\n",
              "      <th>Disk read throughput [KB/s]</th>\n",
              "      <th>Disk write throughput [KB/s]</th>\n",
              "      <th>Disk size [GB]</th>\n",
              "      <th>Network received throughput [KB/s]</th>\n",
              "      <th>Network transmitted throughput [KB/s]</th>\n",
              "    </tr>\n",
              "  </thead>\n",
              "  <tbody>\n",
              "    <tr>\n",
              "      <th>0</th>\n",
              "      <td>04.01.2016 00:00:00</td>\n",
              "      <td>2</td>\n",
              "      <td>0</td>\n",
              "      <td>14</td>\n",
              "      <td>0,32</td>\n",
              "      <td>4194304</td>\n",
              "      <td>80531</td>\n",
              "      <td>1,92</td>\n",
              "      <td>0</td>\n",
              "      <td>1</td>\n",
              "      <td>24</td>\n",
              "      <td>0</td>\n",
              "      <td>0</td>\n",
              "    </tr>\n",
              "    <tr>\n",
              "      <th>1</th>\n",
              "      <td>04.01.2016 00:05:00</td>\n",
              "      <td>2</td>\n",
              "      <td>0</td>\n",
              "      <td>15</td>\n",
              "      <td>0,34</td>\n",
              "      <td>4194304</td>\n",
              "      <td>63753</td>\n",
              "      <td>1,52</td>\n",
              "      <td>0</td>\n",
              "      <td>1</td>\n",
              "      <td>24</td>\n",
              "      <td>0</td>\n",
              "      <td>0</td>\n",
              "    </tr>\n",
              "    <tr>\n",
              "      <th>2</th>\n",
              "      <td>04.01.2016 00:10:00</td>\n",
              "      <td>2</td>\n",
              "      <td>0</td>\n",
              "      <td>27</td>\n",
              "      <td>0,6</td>\n",
              "      <td>4194304</td>\n",
              "      <td>312476</td>\n",
              "      <td>7,45</td>\n",
              "      <td>0</td>\n",
              "      <td>2</td>\n",
              "      <td>24</td>\n",
              "      <td>1</td>\n",
              "      <td>24</td>\n",
              "    </tr>\n",
              "    <tr>\n",
              "      <th>3</th>\n",
              "      <td>04.01.2016 00:15:00</td>\n",
              "      <td>2</td>\n",
              "      <td>0</td>\n",
              "      <td>14</td>\n",
              "      <td>0,32</td>\n",
              "      <td>4194304</td>\n",
              "      <td>387973</td>\n",
              "      <td>9,25</td>\n",
              "      <td>0</td>\n",
              "      <td>1</td>\n",
              "      <td>24</td>\n",
              "      <td>0</td>\n",
              "      <td>0</td>\n",
              "    </tr>\n",
              "    <tr>\n",
              "      <th>4</th>\n",
              "      <td>04.01.2016 00:20:00</td>\n",
              "      <td>2</td>\n",
              "      <td>0</td>\n",
              "      <td>15</td>\n",
              "      <td>0,33</td>\n",
              "      <td>4194304</td>\n",
              "      <td>102760</td>\n",
              "      <td>2,45</td>\n",
              "      <td>0</td>\n",
              "      <td>1</td>\n",
              "      <td>24</td>\n",
              "      <td>0</td>\n",
              "      <td>0</td>\n",
              "    </tr>\n",
              "  </tbody>\n",
              "</table>\n",
              "</div>"
            ],
            "text/plain": [
              "             Timestamp  ...  Network transmitted throughput [KB/s]\n",
              "0  04.01.2016 00:00:00  ...                                      0\n",
              "1  04.01.2016 00:05:00  ...                                      0\n",
              "2  04.01.2016 00:10:00  ...                                     24\n",
              "3  04.01.2016 00:15:00  ...                                      0\n",
              "4  04.01.2016 00:20:00  ...                                      0\n",
              "\n",
              "[5 rows x 13 columns]"
            ]
          },
          "metadata": {
            "tags": []
          },
          "execution_count": 8
        }
      ]
    },
    {
      "cell_type": "code",
      "metadata": {
        "id": "gS-7t9hNe9Uk"
      },
      "source": [
        "#number of rows and columns in data\n",
        "inputData.shape\n",
        "df = inputData"
      ],
      "execution_count": 9,
      "outputs": []
    },
    {
      "cell_type": "code",
      "metadata": {
        "id": "y3plRqGFEiYW",
        "outputId": "c1b38939-1e8b-4980-aaff-b080c3c7c414",
        "colab": {
          "base_uri": "https://localhost:8080/",
          "height": 301
        }
      },
      "source": [
        "df.describe()"
      ],
      "execution_count": 10,
      "outputs": [
        {
          "output_type": "execute_result",
          "data": {
            "text/html": [
              "<div>\n",
              "<style scoped>\n",
              "    .dataframe tbody tr th:only-of-type {\n",
              "        vertical-align: middle;\n",
              "    }\n",
              "\n",
              "    .dataframe tbody tr th {\n",
              "        vertical-align: top;\n",
              "    }\n",
              "\n",
              "    .dataframe thead th {\n",
              "        text-align: right;\n",
              "    }\n",
              "</style>\n",
              "<table border=\"1\" class=\"dataframe\">\n",
              "  <thead>\n",
              "    <tr style=\"text-align: right;\">\n",
              "      <th></th>\n",
              "      <th>CPU cores</th>\n",
              "      <th>CPU capacity provisioned [MHZ]</th>\n",
              "      <th>CPU usage [MHZ]</th>\n",
              "      <th>Memory capacity provisioned [KB]</th>\n",
              "      <th>Memory usage [KB]</th>\n",
              "      <th>Disk read throughput [KB/s]</th>\n",
              "      <th>Disk write throughput [KB/s]</th>\n",
              "      <th>Network received throughput [KB/s]</th>\n",
              "      <th>Network transmitted throughput [KB/s]</th>\n",
              "    </tr>\n",
              "  </thead>\n",
              "  <tbody>\n",
              "    <tr>\n",
              "      <th>count</th>\n",
              "      <td>5.329730e+06</td>\n",
              "      <td>5.329730e+06</td>\n",
              "      <td>5.329730e+06</td>\n",
              "      <td>5.329730e+06</td>\n",
              "      <td>5.329730e+06</td>\n",
              "      <td>5.329730e+06</td>\n",
              "      <td>5.329730e+06</td>\n",
              "      <td>5.329730e+06</td>\n",
              "      <td>5.329730e+06</td>\n",
              "    </tr>\n",
              "    <tr>\n",
              "      <th>mean</th>\n",
              "      <td>2.637684e+00</td>\n",
              "      <td>3.982851e+00</td>\n",
              "      <td>2.596080e+02</td>\n",
              "      <td>8.873539e+06</td>\n",
              "      <td>7.058790e+05</td>\n",
              "      <td>5.352213e+02</td>\n",
              "      <td>1.790060e+02</td>\n",
              "      <td>9.293955e+01</td>\n",
              "      <td>1.396144e+02</td>\n",
              "    </tr>\n",
              "    <tr>\n",
              "      <th>std</th>\n",
              "      <td>1.628044e+00</td>\n",
              "      <td>9.022759e+01</td>\n",
              "      <td>6.365165e+02</td>\n",
              "      <td>1.009509e+07</td>\n",
              "      <td>1.135087e+06</td>\n",
              "      <td>6.929329e+03</td>\n",
              "      <td>1.533413e+03</td>\n",
              "      <td>9.121657e+02</td>\n",
              "      <td>1.434829e+03</td>\n",
              "    </tr>\n",
              "    <tr>\n",
              "      <th>min</th>\n",
              "      <td>1.000000e+00</td>\n",
              "      <td>0.000000e+00</td>\n",
              "      <td>1.000000e+00</td>\n",
              "      <td>1.048576e+06</td>\n",
              "      <td>0.000000e+00</td>\n",
              "      <td>0.000000e+00</td>\n",
              "      <td>0.000000e+00</td>\n",
              "      <td>0.000000e+00</td>\n",
              "      <td>0.000000e+00</td>\n",
              "    </tr>\n",
              "    <tr>\n",
              "      <th>25%</th>\n",
              "      <td>2.000000e+00</td>\n",
              "      <td>0.000000e+00</td>\n",
              "      <td>2.400000e+01</td>\n",
              "      <td>4.194304e+06</td>\n",
              "      <td>8.053100e+04</td>\n",
              "      <td>0.000000e+00</td>\n",
              "      <td>1.000000e+00</td>\n",
              "      <td>0.000000e+00</td>\n",
              "      <td>0.000000e+00</td>\n",
              "    </tr>\n",
              "    <tr>\n",
              "      <th>50%</th>\n",
              "      <td>2.000000e+00</td>\n",
              "      <td>0.000000e+00</td>\n",
              "      <td>6.900000e+01</td>\n",
              "      <td>8.388608e+06</td>\n",
              "      <td>2.231370e+05</td>\n",
              "      <td>0.000000e+00</td>\n",
              "      <td>8.000000e+00</td>\n",
              "      <td>1.000000e+00</td>\n",
              "      <td>1.000000e+00</td>\n",
              "    </tr>\n",
              "    <tr>\n",
              "      <th>75%</th>\n",
              "      <td>4.000000e+00</td>\n",
              "      <td>0.000000e+00</td>\n",
              "      <td>1.840000e+02</td>\n",
              "      <td>1.048576e+07</td>\n",
              "      <td>8.719960e+05</td>\n",
              "      <td>0.000000e+00</td>\n",
              "      <td>3.900000e+01</td>\n",
              "      <td>1.500000e+01</td>\n",
              "      <td>1.700000e+01</td>\n",
              "    </tr>\n",
              "    <tr>\n",
              "      <th>max</th>\n",
              "      <td>8.000000e+00</td>\n",
              "      <td>2.048000e+03</td>\n",
              "      <td>1.552800e+04</td>\n",
              "      <td>1.342177e+08</td>\n",
              "      <td>2.365252e+07</td>\n",
              "      <td>3.779170e+05</td>\n",
              "      <td>1.449880e+05</td>\n",
              "      <td>1.126790e+05</td>\n",
              "      <td>1.142190e+05</td>\n",
              "    </tr>\n",
              "  </tbody>\n",
              "</table>\n",
              "</div>"
            ],
            "text/plain": [
              "          CPU cores  ...  Network transmitted throughput [KB/s]\n",
              "count  5.329730e+06  ...                           5.329730e+06\n",
              "mean   2.637684e+00  ...                           1.396144e+02\n",
              "std    1.628044e+00  ...                           1.434829e+03\n",
              "min    1.000000e+00  ...                           0.000000e+00\n",
              "25%    2.000000e+00  ...                           0.000000e+00\n",
              "50%    2.000000e+00  ...                           1.000000e+00\n",
              "75%    4.000000e+00  ...                           1.700000e+01\n",
              "max    8.000000e+00  ...                           1.142190e+05\n",
              "\n",
              "[8 rows x 9 columns]"
            ]
          },
          "metadata": {
            "tags": []
          },
          "execution_count": 10
        }
      ]
    },
    {
      "cell_type": "code",
      "metadata": {
        "id": "6VpMCBXGEmGQ",
        "outputId": "3ff87735-ea3a-495a-97cf-0edf587ee463",
        "colab": {
          "base_uri": "https://localhost:8080/"
        }
      },
      "source": [
        "df.info()"
      ],
      "execution_count": 11,
      "outputs": [
        {
          "output_type": "stream",
          "text": [
            "<class 'pandas.core.frame.DataFrame'>\n",
            "RangeIndex: 5329730 entries, 0 to 5329729\n",
            "Data columns (total 13 columns):\n",
            " #   Column                                 Dtype \n",
            "---  ------                                 ----- \n",
            " 0   Timestamp                              object\n",
            " 1   CPU cores                              int64 \n",
            " 2   CPU capacity provisioned [MHZ]         int64 \n",
            " 3   CPU usage [MHZ]                        int64 \n",
            " 4   CPU usage [%]                          object\n",
            " 5   Memory capacity provisioned [KB]       int64 \n",
            " 6   Memory usage [KB]                      int64 \n",
            " 7   Memory usage [%]                       object\n",
            " 8   Disk read throughput [KB/s]            int64 \n",
            " 9   Disk write throughput [KB/s]           int64 \n",
            " 10  Disk size [GB]                         object\n",
            " 11  Network received throughput [KB/s]     int64 \n",
            " 12  Network transmitted throughput [KB/s]  int64 \n",
            "dtypes: int64(9), object(4)\n",
            "memory usage: 528.6+ MB\n"
          ],
          "name": "stdout"
        }
      ]
    },
    {
      "cell_type": "markdown",
      "metadata": {
        "id": "t7k3-G-phut5"
      },
      "source": [
        "# **Data Visualization**"
      ]
    },
    {
      "cell_type": "code",
      "metadata": {
        "id": "9DJfFe42EoH7",
        "outputId": "03f5fb76-13c9-49cf-aa41-4f234e0a996c",
        "colab": {
          "base_uri": "https://localhost:8080/",
          "height": 374
        }
      },
      "source": [
        "plt.figure(figsize = (8,6))\n",
        "df.boxplot(column = ['CPU capacity provisioned [MHZ]'])\n",
        "plt.show()"
      ],
      "execution_count": 12,
      "outputs": [
        {
          "output_type": "display_data",
          "data": {
            "image/png": "[encoded data removed]",
            "text/plain": [
              "<Figure size 576x432 with 1 Axes>"
            ]
          },
          "metadata": {
            "tags": [],
            "needs_background": "light"
          }
        }
      ]
    },
    {
      "cell_type": "code",
      "metadata": {
        "id": "RbNhvnSEEqHn",
        "outputId": "2985e5d2-3269-4ec5-e3b1-947e8e6a64ca",
        "colab": {
          "base_uri": "https://localhost:8080/",
          "height": 385
        }
      },
      "source": [
        "plt.figure(figsize = (8,6))\n",
        "df['CPU capacity provisioned [MHZ]'].hist(bins = 50)\n",
        "plt.show()"
      ],
      "execution_count": 13,
      "outputs": [
        {
          "output_type": "display_data",
          "data": {
            "image/png": "[encoded data removed]",
            "text/plain": [
              "<Figure size 576x432 with 1 Axes>"
            ]
          },
          "metadata": {
            "tags": [],
            "needs_background": "light"
          }
        }
      ]
    },
    {
      "cell_type": "code",
      "metadata": {
        "id": "8dfDN_I7EsMY",
        "outputId": "71d4858c-03ef-4032-ce10-7055b3990a8a",
        "colab": {
          "base_uri": "https://localhost:8080/"
        }
      },
      "source": [
        "df['CPU capacity provisioned [MHZ]'].value_counts(0)"
      ],
      "execution_count": 14,
      "outputs": [
        {
          "output_type": "execute_result",
          "data": {
            "text/plain": [
              "0       5319365\n",
              "2048      10365\n",
              "Name: CPU capacity provisioned [MHZ], dtype: int64"
            ]
          },
          "metadata": {
            "tags": []
          },
          "execution_count": 14
        }
      ]
    },
    {
      "cell_type": "code",
      "metadata": {
        "id": "FG205WZ6EvIV",
        "outputId": "ca265759-d263-4532-9aaf-2d13f3cb717f",
        "colab": {
          "base_uri": "https://localhost:8080/"
        }
      },
      "source": [
        "df['CPU cores'].value_counts()"
      ],
      "execution_count": 15,
      "outputs": [
        {
          "output_type": "execute_result",
          "data": {
            "text/plain": [
              "2    3292311\n",
              "4     965682\n",
              "1     670847\n",
              "8     267303\n",
              "6     133587\n",
              "Name: CPU cores, dtype: int64"
            ]
          },
          "metadata": {
            "tags": []
          },
          "execution_count": 15
        }
      ]
    },
    {
      "cell_type": "code",
      "metadata": {
        "id": "ahTWfNv6EwwS"
      },
      "source": [
        "from sklearn import metrics\n",
        "from sklearn.preprocessing import StandardScaler\n",
        "from sklearn.cluster import DBSCAN\n",
        "from numpy import unique\n",
        "from numpy import where"
      ],
      "execution_count": 16,
      "outputs": []
    },
    {
      "cell_type": "code",
      "metadata": {
        "id": "jZvS36ZlEyXj"
      },
      "source": [
        "def dbscan(eps, min_samples, data, start, end):\n",
        "  # define the model\n",
        "  model = DBSCAN(eps, min_samples)\n",
        "  # fit model and predict clusters\n",
        "  yhat = model.fit_predict(data)\n",
        "  # retrieve unique clusters\n",
        "  clusters = unique(yhat)\n",
        "  # create scatter plot for samples from each cluster\n",
        "  for cluster in clusters:\n",
        "    # get row indexes for samples with this cluster\n",
        "    row_ix = where(yhat == cluster)\n",
        "    # create scatter of these samples\n",
        "    plt.scatter(data[row_ix, start], data[row_ix, end])\n",
        "    plt.title(\"eps=\"+str(eps)+\"    \"+\"min_samples=\"+str(min_samples))\n",
        "  # show the plot\n",
        "  plt.show()"
      ],
      "execution_count": 17,
      "outputs": []
    },
    {
      "cell_type": "code",
      "metadata": {
        "id": "Ivjlin0DE1a4",
        "outputId": "31275277-506b-467c-86bd-89cbc9e5d3a0",
        "colab": {
          "base_uri": "https://localhost:8080/",
          "height": 301
        }
      },
      "source": [
        "df.describe()"
      ],
      "execution_count": 18,
      "outputs": [
        {
          "output_type": "execute_result",
          "data": {
            "text/html": [
              "<div>\n",
              "<style scoped>\n",
              "    .dataframe tbody tr th:only-of-type {\n",
              "        vertical-align: middle;\n",
              "    }\n",
              "\n",
              "    .dataframe tbody tr th {\n",
              "        vertical-align: top;\n",
              "    }\n",
              "\n",
              "    .dataframe thead th {\n",
              "        text-align: right;\n",
              "    }\n",
              "</style>\n",
              "<table border=\"1\" class=\"dataframe\">\n",
              "  <thead>\n",
              "    <tr style=\"text-align: right;\">\n",
              "      <th></th>\n",
              "      <th>CPU cores</th>\n",
              "      <th>CPU capacity provisioned [MHZ]</th>\n",
              "      <th>CPU usage [MHZ]</th>\n",
              "      <th>Memory capacity provisioned [KB]</th>\n",
              "      <th>Memory usage [KB]</th>\n",
              "      <th>Disk read throughput [KB/s]</th>\n",
              "      <th>Disk write throughput [KB/s]</th>\n",
              "      <th>Network received throughput [KB/s]</th>\n",
              "      <th>Network transmitted throughput [KB/s]</th>\n",
              "    </tr>\n",
              "  </thead>\n",
              "  <tbody>\n",
              "    <tr>\n",
              "      <th>count</th>\n",
              "      <td>5.329730e+06</td>\n",
              "      <td>5.329730e+06</td>\n",
              "      <td>5.329730e+06</td>\n",
              "      <td>5.329730e+06</td>\n",
              "      <td>5.329730e+06</td>\n",
              "      <td>5.329730e+06</td>\n",
              "      <td>5.329730e+06</td>\n",
              "      <td>5.329730e+06</td>\n",
              "      <td>5.329730e+06</td>\n",
              "    </tr>\n",
              "    <tr>\n",
              "      <th>mean</th>\n",
              "      <td>2.637684e+00</td>\n",
              "      <td>3.982851e+00</td>\n",
              "      <td>2.596080e+02</td>\n",
              "      <td>8.873539e+06</td>\n",
              "      <td>7.058790e+05</td>\n",
              "      <td>5.352213e+02</td>\n",
              "      <td>1.790060e+02</td>\n",
              "      <td>9.293955e+01</td>\n",
              "      <td>1.396144e+02</td>\n",
              "    </tr>\n",
              "    <tr>\n",
              "      <th>std</th>\n",
              "      <td>1.628044e+00</td>\n",
              "      <td>9.022759e+01</td>\n",
              "      <td>6.365165e+02</td>\n",
              "      <td>1.009509e+07</td>\n",
              "      <td>1.135087e+06</td>\n",
              "      <td>6.929329e+03</td>\n",
              "      <td>1.533413e+03</td>\n",
              "      <td>9.121657e+02</td>\n",
              "      <td>1.434829e+03</td>\n",
              "    </tr>\n",
              "    <tr>\n",
              "      <th>min</th>\n",
              "      <td>1.000000e+00</td>\n",
              "      <td>0.000000e+00</td>\n",
              "      <td>1.000000e+00</td>\n",
              "      <td>1.048576e+06</td>\n",
              "      <td>0.000000e+00</td>\n",
              "      <td>0.000000e+00</td>\n",
              "      <td>0.000000e+00</td>\n",
              "      <td>0.000000e+00</td>\n",
              "      <td>0.000000e+00</td>\n",
              "    </tr>\n",
              "    <tr>\n",
              "      <th>25%</th>\n",
              "      <td>2.000000e+00</td>\n",
              "      <td>0.000000e+00</td>\n",
              "      <td>2.400000e+01</td>\n",
              "      <td>4.194304e+06</td>\n",
              "      <td>8.053100e+04</td>\n",
              "      <td>0.000000e+00</td>\n",
              "      <td>1.000000e+00</td>\n",
              "      <td>0.000000e+00</td>\n",
              "      <td>0.000000e+00</td>\n",
              "    </tr>\n",
              "    <tr>\n",
              "      <th>50%</th>\n",
              "      <td>2.000000e+00</td>\n",
              "      <td>0.000000e+00</td>\n",
              "      <td>6.900000e+01</td>\n",
              "      <td>8.388608e+06</td>\n",
              "      <td>2.231370e+05</td>\n",
              "      <td>0.000000e+00</td>\n",
              "      <td>8.000000e+00</td>\n",
              "      <td>1.000000e+00</td>\n",
              "      <td>1.000000e+00</td>\n",
              "    </tr>\n",
              "    <tr>\n",
              "      <th>75%</th>\n",
              "      <td>4.000000e+00</td>\n",
              "      <td>0.000000e+00</td>\n",
              "      <td>1.840000e+02</td>\n",
              "      <td>1.048576e+07</td>\n",
              "      <td>8.719960e+05</td>\n",
              "      <td>0.000000e+00</td>\n",
              "      <td>3.900000e+01</td>\n",
              "      <td>1.500000e+01</td>\n",
              "      <td>1.700000e+01</td>\n",
              "    </tr>\n",
              "    <tr>\n",
              "      <th>max</th>\n",
              "      <td>8.000000e+00</td>\n",
              "      <td>2.048000e+03</td>\n",
              "      <td>1.552800e+04</td>\n",
              "      <td>1.342177e+08</td>\n",
              "      <td>2.365252e+07</td>\n",
              "      <td>3.779170e+05</td>\n",
              "      <td>1.449880e+05</td>\n",
              "      <td>1.126790e+05</td>\n",
              "      <td>1.142190e+05</td>\n",
              "    </tr>\n",
              "  </tbody>\n",
              "</table>\n",
              "</div>"
            ],
            "text/plain": [
              "          CPU cores  ...  Network transmitted throughput [KB/s]\n",
              "count  5.329730e+06  ...                           5.329730e+06\n",
              "mean   2.637684e+00  ...                           1.396144e+02\n",
              "std    1.628044e+00  ...                           1.434829e+03\n",
              "min    1.000000e+00  ...                           0.000000e+00\n",
              "25%    2.000000e+00  ...                           0.000000e+00\n",
              "50%    2.000000e+00  ...                           1.000000e+00\n",
              "75%    4.000000e+00  ...                           1.700000e+01\n",
              "max    8.000000e+00  ...                           1.142190e+05\n",
              "\n",
              "[8 rows x 9 columns]"
            ]
          },
          "metadata": {
            "tags": []
          },
          "execution_count": 18
        }
      ]
    },
    {
      "cell_type": "code",
      "metadata": {
        "id": "riQSE6zLE3dL",
        "outputId": "d4df6a34-214c-47ca-e3c1-57d9dcd8a3d1",
        "colab": {
          "base_uri": "https://localhost:8080/"
        }
      },
      "source": [
        "df['CPU capacity provisioned [MHZ]'].value_counts(0)"
      ],
      "execution_count": 19,
      "outputs": [
        {
          "output_type": "execute_result",
          "data": {
            "text/plain": [
              "0       5319365\n",
              "2048      10365\n",
              "Name: CPU capacity provisioned [MHZ], dtype: int64"
            ]
          },
          "metadata": {
            "tags": []
          },
          "execution_count": 19
        }
      ]
    },
    {
      "cell_type": "code",
      "metadata": {
        "id": "Zqwcwd_UE5Bp",
        "outputId": "578ae349-e13e-4986-a2ba-6ca7aea9e107",
        "colab": {
          "base_uri": "https://localhost:8080/"
        }
      },
      "source": [
        "df['CPU usage [MHZ]'].value_counts()"
      ],
      "execution_count": 20,
      "outputs": [
        {
          "output_type": "execute_result",
          "data": {
            "text/plain": [
              "19      97579\n",
              "20      93277\n",
              "10      93208\n",
              "21      92300\n",
              "9       90987\n",
              "        ...  \n",
              "7810        1\n",
              "4533        1\n",
              "9847        1\n",
              "7805        1\n",
              "6770        1\n",
              "Name: CPU usage [MHZ], Length: 7834, dtype: int64"
            ]
          },
          "metadata": {
            "tags": []
          },
          "execution_count": 20
        }
      ]
    },
    {
      "cell_type": "code",
      "metadata": {
        "id": "pWyskw9RE6je",
        "outputId": "fe093917-56af-4423-b676-e139091a8ef7",
        "colab": {
          "base_uri": "https://localhost:8080/",
          "height": 442
        }
      },
      "source": [
        "plt.figure(figsize = (8,6))\n",
        "sns.boxplot(df['CPU usage [MHZ]'])\n",
        "plt.show()"
      ],
      "execution_count": 21,
      "outputs": [
        {
          "output_type": "stream",
          "text": [
            "/usr/local/lib/python3.6/dist-packages/seaborn/_decorators.py:43: FutureWarning: Pass the following variable as a keyword arg: x. From version 0.12, the only valid positional argument will be `data`, and passing other arguments without an explicit keyword will result in an error or misinterpretation.\n",
            "  FutureWarning\n"
          ],
          "name": "stderr"
        },
        {
          "output_type": "display_data",
          "data": {
            "image/png": "[encoded data removed]",
            "text/plain": [
              "<Figure size 576x432 with 1 Axes>"
            ]
          },
          "metadata": {
            "tags": [],
            "needs_background": "light"
          }
        }
      ]
    },
    {
      "cell_type": "code",
      "metadata": {
        "id": "DhyI63h5E8NO",
        "outputId": "4bf2af3e-0ac0-42df-d67b-dabdb3af6aec",
        "colab": {
          "base_uri": "https://localhost:8080/",
          "height": 374
        }
      },
      "source": [
        "plt.figure(figsize = (8,6))\n",
        "np.log(df['CPU usage [MHZ]']).hist(bins = 50)#this feature was very robust earlier. By taking the log of the feature we are\n",
        "                                            # getting a normalized curve.\n",
        "plt.show()"
      ],
      "execution_count": 22,
      "outputs": [
        {
          "output_type": "display_data",
          "data": {
            "image/png": "[encoded data removed]",
            "text/plain": [
              "<Figure size 576x432 with 1 Axes>"
            ]
          },
          "metadata": {
            "tags": [],
            "needs_background": "light"
          }
        }
      ]
    },
    {
      "cell_type": "code",
      "metadata": {
        "id": "wIK8QAKXE-H7",
        "outputId": "44892799-a11b-42b3-a651-3d219bdda229",
        "colab": {
          "base_uri": "https://localhost:8080/"
        }
      },
      "source": [
        "df['Memory capacity provisioned [KB]'].value_counts()"
      ],
      "execution_count": 23,
      "outputs": [
        {
          "output_type": "execute_result",
          "data": {
            "text/plain": [
              "8388608      1433188\n",
              "4194304      1203174\n",
              "2097152      1056096\n",
              "16777216      674636\n",
              "12582912      270124\n",
              "6291456       170476\n",
              "25165824      155506\n",
              "20971520      112865\n",
              "10485760       62203\n",
              "33554432       46940\n",
              "14680064       41170\n",
              "3145728        38850\n",
              "1048576        31104\n",
              "134217728      20736\n",
              "5242880        10368\n",
              "50331648        2294\n",
              "Name: Memory capacity provisioned [KB], dtype: int64"
            ]
          },
          "metadata": {
            "tags": []
          },
          "execution_count": 23
        }
      ]
    },
    {
      "cell_type": "code",
      "metadata": {
        "id": "Ki1fQNvnE_4W",
        "outputId": "afce9a17-cf96-4728-cd72-a86c9ebb841a",
        "colab": {
          "base_uri": "https://localhost:8080/",
          "height": 398
        }
      },
      "source": [
        "plt.figure(figsize = (8,6))\n",
        "df['Memory capacity provisioned [KB]'].hist(bins = 50)\n",
        "plt.show()"
      ],
      "execution_count": 24,
      "outputs": [
        {
          "output_type": "display_data",
          "data": {
            "image/png": "[encoded data removed]",
            "text/plain": [
              "<Figure size 576x432 with 1 Axes>"
            ]
          },
          "metadata": {
            "tags": [],
            "needs_background": "light"
          }
        }
      ]
    },
    {
      "cell_type": "code",
      "metadata": {
        "id": "8ohGmLi_FBn8",
        "outputId": "4b03acc4-997c-485d-ce19-179b584c80ea",
        "colab": {
          "base_uri": "https://localhost:8080/",
          "height": 385
        }
      },
      "source": [
        "plt.figure(figsize = (8,6))\n",
        "np.log(df['Memory capacity provisioned [KB]']).hist(bins = 50)\n",
        "plt.show()"
      ],
      "execution_count": 25,
      "outputs": [
        {
          "output_type": "display_data",
          "data": {
            "image/png": "[encoded data removed]",
            "text/plain": [
              "<Figure size 576x432 with 1 Axes>"
            ]
          },
          "metadata": {
            "tags": [],
            "needs_background": "light"
          }
        }
      ]
    },
    {
      "cell_type": "code",
      "metadata": {
        "id": "iONCFeslFD6T",
        "outputId": "5f599d72-878a-4819-b674-c0ef6ddcef13",
        "colab": {
          "base_uri": "https://localhost:8080/"
        }
      },
      "source": [
        "np.log(df['Memory capacity provisioned [KB]']).describe()"
      ],
      "execution_count": 26,
      "outputs": [
        {
          "output_type": "execute_result",
          "data": {
            "text/plain": [
              "count    5.329730e+06\n",
              "mean     1.567225e+01\n",
              "std      7.905589e-01\n",
              "min      1.386294e+01\n",
              "25%      1.524924e+01\n",
              "50%      1.594239e+01\n",
              "75%      1.616553e+01\n",
              "max      1.871497e+01\n",
              "Name: Memory capacity provisioned [KB], dtype: float64"
            ]
          },
          "metadata": {
            "tags": []
          },
          "execution_count": 26
        }
      ]
    },
    {
      "cell_type": "code",
      "metadata": {
        "id": "osVuoOmMFFf4",
        "outputId": "4094e136-59f7-4ddb-b273-0fd00b435a1f",
        "colab": {
          "base_uri": "https://localhost:8080/",
          "height": 301
        }
      },
      "source": [
        "df.describe()"
      ],
      "execution_count": 27,
      "outputs": [
        {
          "output_type": "execute_result",
          "data": {
            "text/html": [
              "<div>\n",
              "<style scoped>\n",
              "    .dataframe tbody tr th:only-of-type {\n",
              "        vertical-align: middle;\n",
              "    }\n",
              "\n",
              "    .dataframe tbody tr th {\n",
              "        vertical-align: top;\n",
              "    }\n",
              "\n",
              "    .dataframe thead th {\n",
              "        text-align: right;\n",
              "    }\n",
              "</style>\n",
              "<table border=\"1\" class=\"dataframe\">\n",
              "  <thead>\n",
              "    <tr style=\"text-align: right;\">\n",
              "      <th></th>\n",
              "      <th>CPU cores</th>\n",
              "      <th>CPU capacity provisioned [MHZ]</th>\n",
              "      <th>CPU usage [MHZ]</th>\n",
              "      <th>Memory capacity provisioned [KB]</th>\n",
              "      <th>Memory usage [KB]</th>\n",
              "      <th>Disk read throughput [KB/s]</th>\n",
              "      <th>Disk write throughput [KB/s]</th>\n",
              "      <th>Network received throughput [KB/s]</th>\n",
              "      <th>Network transmitted throughput [KB/s]</th>\n",
              "    </tr>\n",
              "  </thead>\n",
              "  <tbody>\n",
              "    <tr>\n",
              "      <th>count</th>\n",
              "      <td>5.329730e+06</td>\n",
              "      <td>5.329730e+06</td>\n",
              "      <td>5.329730e+06</td>\n",
              "      <td>5.329730e+06</td>\n",
              "      <td>5.329730e+06</td>\n",
              "      <td>5.329730e+06</td>\n",
              "      <td>5.329730e+06</td>\n",
              "      <td>5.329730e+06</td>\n",
              "      <td>5.329730e+06</td>\n",
              "    </tr>\n",
              "    <tr>\n",
              "      <th>mean</th>\n",
              "      <td>2.637684e+00</td>\n",
              "      <td>3.982851e+00</td>\n",
              "      <td>2.596080e+02</td>\n",
              "      <td>8.873539e+06</td>\n",
              "      <td>7.058790e+05</td>\n",
              "      <td>5.352213e+02</td>\n",
              "      <td>1.790060e+02</td>\n",
              "      <td>9.293955e+01</td>\n",
              "      <td>1.396144e+02</td>\n",
              "    </tr>\n",
              "    <tr>\n",
              "      <th>std</th>\n",
              "      <td>1.628044e+00</td>\n",
              "      <td>9.022759e+01</td>\n",
              "      <td>6.365165e+02</td>\n",
              "      <td>1.009509e+07</td>\n",
              "      <td>1.135087e+06</td>\n",
              "      <td>6.929329e+03</td>\n",
              "      <td>1.533413e+03</td>\n",
              "      <td>9.121657e+02</td>\n",
              "      <td>1.434829e+03</td>\n",
              "    </tr>\n",
              "    <tr>\n",
              "      <th>min</th>\n",
              "      <td>1.000000e+00</td>\n",
              "      <td>0.000000e+00</td>\n",
              "      <td>1.000000e+00</td>\n",
              "      <td>1.048576e+06</td>\n",
              "      <td>0.000000e+00</td>\n",
              "      <td>0.000000e+00</td>\n",
              "      <td>0.000000e+00</td>\n",
              "      <td>0.000000e+00</td>\n",
              "      <td>0.000000e+00</td>\n",
              "    </tr>\n",
              "    <tr>\n",
              "      <th>25%</th>\n",
              "      <td>2.000000e+00</td>\n",
              "      <td>0.000000e+00</td>\n",
              "      <td>2.400000e+01</td>\n",
              "      <td>4.194304e+06</td>\n",
              "      <td>8.053100e+04</td>\n",
              "      <td>0.000000e+00</td>\n",
              "      <td>1.000000e+00</td>\n",
              "      <td>0.000000e+00</td>\n",
              "      <td>0.000000e+00</td>\n",
              "    </tr>\n",
              "    <tr>\n",
              "      <th>50%</th>\n",
              "      <td>2.000000e+00</td>\n",
              "      <td>0.000000e+00</td>\n",
              "      <td>6.900000e+01</td>\n",
              "      <td>8.388608e+06</td>\n",
              "      <td>2.231370e+05</td>\n",
              "      <td>0.000000e+00</td>\n",
              "      <td>8.000000e+00</td>\n",
              "      <td>1.000000e+00</td>\n",
              "      <td>1.000000e+00</td>\n",
              "    </tr>\n",
              "    <tr>\n",
              "      <th>75%</th>\n",
              "      <td>4.000000e+00</td>\n",
              "      <td>0.000000e+00</td>\n",
              "      <td>1.840000e+02</td>\n",
              "      <td>1.048576e+07</td>\n",
              "      <td>8.719960e+05</td>\n",
              "      <td>0.000000e+00</td>\n",
              "      <td>3.900000e+01</td>\n",
              "      <td>1.500000e+01</td>\n",
              "      <td>1.700000e+01</td>\n",
              "    </tr>\n",
              "    <tr>\n",
              "      <th>max</th>\n",
              "      <td>8.000000e+00</td>\n",
              "      <td>2.048000e+03</td>\n",
              "      <td>1.552800e+04</td>\n",
              "      <td>1.342177e+08</td>\n",
              "      <td>2.365252e+07</td>\n",
              "      <td>3.779170e+05</td>\n",
              "      <td>1.449880e+05</td>\n",
              "      <td>1.126790e+05</td>\n",
              "      <td>1.142190e+05</td>\n",
              "    </tr>\n",
              "  </tbody>\n",
              "</table>\n",
              "</div>"
            ],
            "text/plain": [
              "          CPU cores  ...  Network transmitted throughput [KB/s]\n",
              "count  5.329730e+06  ...                           5.329730e+06\n",
              "mean   2.637684e+00  ...                           1.396144e+02\n",
              "std    1.628044e+00  ...                           1.434829e+03\n",
              "min    1.000000e+00  ...                           0.000000e+00\n",
              "25%    2.000000e+00  ...                           0.000000e+00\n",
              "50%    2.000000e+00  ...                           1.000000e+00\n",
              "75%    4.000000e+00  ...                           1.700000e+01\n",
              "max    8.000000e+00  ...                           1.142190e+05\n",
              "\n",
              "[8 rows x 9 columns]"
            ]
          },
          "metadata": {
            "tags": []
          },
          "execution_count": 27
        }
      ]
    },
    {
      "cell_type": "code",
      "metadata": {
        "id": "TUS9Bg9_FHAf",
        "outputId": "0af9801f-69f3-42d0-d2ae-954c7d58bab9",
        "colab": {
          "base_uri": "https://localhost:8080/"
        }
      },
      "source": [
        "df['Memory usage [KB]'].value_counts()"
      ],
      "execution_count": 28,
      "outputs": [
        {
          "output_type": "execute_result",
          "data": {
            "text/plain": [
              "0           327072\n",
              "65431        25614\n",
              "41524        23971\n",
              "83467        22857\n",
              "55365        22773\n",
              "             ...  \n",
              "123313           1\n",
              "10920709         1\n",
              "7449084          1\n",
              "1975308          1\n",
              "13888179         1\n",
              "Name: Memory usage [KB], Length: 12980, dtype: int64"
            ]
          },
          "metadata": {
            "tags": []
          },
          "execution_count": 28
        }
      ]
    },
    {
      "cell_type": "code",
      "metadata": {
        "id": "ZDS545MEFJfe",
        "outputId": "645a26d0-46fc-4f1a-8ffe-15f58d150ff9",
        "colab": {
          "base_uri": "https://localhost:8080/",
          "height": 398
        }
      },
      "source": [
        "plt.figure(figsize = (8,6))\n",
        "df['Memory usage [KB]'].hist(bins = 50)\n",
        "plt.show()"
      ],
      "execution_count": 29,
      "outputs": [
        {
          "output_type": "display_data",
          "data": {
            "image/png": "[encoded data removed]",
            "text/plain": [
              "<Figure size 576x432 with 1 Axes>"
            ]
          },
          "metadata": {
            "tags": [],
            "needs_background": "light"
          }
        }
      ]
    },
    {
      "cell_type": "code",
      "metadata": {
        "id": "ALLLS-t-FLGr",
        "outputId": "b377b977-7d8b-4cc2-8a2f-361c4fc77030",
        "colab": {
          "base_uri": "https://localhost:8080/",
          "height": 442
        }
      },
      "source": [
        "plt.figure(figsize = (8,6))\n",
        "sns.boxplot(df['Memory usage [KB]'])\n",
        "plt.show()"
      ],
      "execution_count": 30,
      "outputs": [
        {
          "output_type": "stream",
          "text": [
            "/usr/local/lib/python3.6/dist-packages/seaborn/_decorators.py:43: FutureWarning: Pass the following variable as a keyword arg: x. From version 0.12, the only valid positional argument will be `data`, and passing other arguments without an explicit keyword will result in an error or misinterpretation.\n",
            "  FutureWarning\n"
          ],
          "name": "stderr"
        },
        {
          "output_type": "display_data",
          "data": {
            "image/png": "[encoded data removed]",
            "text/plain": [
              "<Figure size 576x432 with 1 Axes>"
            ]
          },
          "metadata": {
            "tags": [],
            "needs_background": "light"
          }
        }
      ]
    },
    {
      "cell_type": "code",
      "metadata": {
        "id": "QPLaSaH_FMt9",
        "outputId": "29b44967-755b-494e-a82a-a87c1801dcf5",
        "colab": {
          "base_uri": "https://localhost:8080/"
        }
      },
      "source": [
        "df['Disk read throughput [KB/s]'].value_counts()"
      ],
      "execution_count": 31,
      "outputs": [
        {
          "output_type": "execute_result",
          "data": {
            "text/plain": [
              "0         4500772\n",
              "1          102974\n",
              "2           50511\n",
              "3           36984\n",
              "4           28486\n",
              "           ...   \n",
              "26192           1\n",
              "35844           1\n",
              "191561          1\n",
              "13914           1\n",
              "79858           1\n",
              "Name: Disk read throughput [KB/s], Length: 43857, dtype: int64"
            ]
          },
          "metadata": {
            "tags": []
          },
          "execution_count": 31
        }
      ]
    },
    {
      "cell_type": "code",
      "metadata": {
        "id": "Qlf5S11_FPKs",
        "outputId": "9b323a57-0de6-4bbd-a3c5-10ec42d1c3ee",
        "colab": {
          "base_uri": "https://localhost:8080/"
        }
      },
      "source": [
        "df.info()"
      ],
      "execution_count": 32,
      "outputs": [
        {
          "output_type": "stream",
          "text": [
            "<class 'pandas.core.frame.DataFrame'>\n",
            "RangeIndex: 5329730 entries, 0 to 5329729\n",
            "Data columns (total 13 columns):\n",
            " #   Column                                 Dtype \n",
            "---  ------                                 ----- \n",
            " 0   Timestamp                              object\n",
            " 1   CPU cores                              int64 \n",
            " 2   CPU capacity provisioned [MHZ]         int64 \n",
            " 3   CPU usage [MHZ]                        int64 \n",
            " 4   CPU usage [%]                          object\n",
            " 5   Memory capacity provisioned [KB]       int64 \n",
            " 6   Memory usage [KB]                      int64 \n",
            " 7   Memory usage [%]                       object\n",
            " 8   Disk read throughput [KB/s]            int64 \n",
            " 9   Disk write throughput [KB/s]           int64 \n",
            " 10  Disk size [GB]                         object\n",
            " 11  Network received throughput [KB/s]     int64 \n",
            " 12  Network transmitted throughput [KB/s]  int64 \n",
            "dtypes: int64(9), object(4)\n",
            "memory usage: 528.6+ MB\n"
          ],
          "name": "stdout"
        }
      ]
    },
    {
      "cell_type": "code",
      "metadata": {
        "id": "Tb4FUlI_FRMS",
        "outputId": "5acb7732-f174-44b8-d031-5266331f9049",
        "colab": {
          "base_uri": "https://localhost:8080/"
        }
      },
      "source": [
        "df['CPU usage [%]'].value_counts()"
      ],
      "execution_count": 33,
      "outputs": [
        {
          "output_type": "execute_result",
          "data": {
            "text/plain": [
              "0,23     55912\n",
              "0,22     51117\n",
              "0,21     50040\n",
              "0,18     45015\n",
              "0,41     44539\n",
              "         ...  \n",
              "81,3         1\n",
              "86,66        1\n",
              "76,77        1\n",
              "68,28        1\n",
              "87,81        1\n",
              "Name: CPU usage [%], Length: 9298, dtype: int64"
            ]
          },
          "metadata": {
            "tags": []
          },
          "execution_count": 33
        }
      ]
    },
    {
      "cell_type": "code",
      "metadata": {
        "id": "x6u52fHLFS17",
        "outputId": "225ce439-0c3a-4cfb-bad1-88d55c29b6e8",
        "colab": {
          "base_uri": "https://localhost:8080/"
        }
      },
      "source": [
        "df['Disk size [GB]'].value_counts()"
      ],
      "execution_count": 34,
      "outputs": [
        {
          "output_type": "execute_result",
          "data": {
            "text/plain": [
              "22              665298\n",
              "24              353654\n",
              "438             216576\n",
              "58              198790\n",
              "34              190366\n",
              "                 ...  \n",
              "1274              1432\n",
              "114,38671875      1147\n",
              "522                582\n",
              "4382               576\n",
              "6392               288\n",
              "Name: Disk size [GB], Length: 154, dtype: int64"
            ]
          },
          "metadata": {
            "tags": []
          },
          "execution_count": 34
        }
      ]
    },
    {
      "cell_type": "code",
      "metadata": {
        "id": "mhPt4ig8FUeQ"
      },
      "source": [
        "df = df.drop('Timestamp', axis=1)\n",
        "#replace , with . in % values\n",
        "df = df.replace(to_replace=r',', value='.', regex=True)"
      ],
      "execution_count": 35,
      "outputs": []
    },
    {
      "cell_type": "markdown",
      "metadata": {
        "id": "3IDu88K6bkVP"
      },
      "source": [
        "# **Analysing specific set of metrics for identifying the best set of features:**\n",
        "\n",
        "\n",
        "\n",
        "*   CPU usagelog\n",
        "\n",
        "*   Memory usage [%]\n",
        "*   Disk read throughput [KB/s]\n",
        "\n",
        "\n",
        "*   Disk write throughput [KB/s]\n",
        "\n"
      ]
    },
    {
      "cell_type": "code",
      "metadata": {
        "id": "cf8ZVcpqFV7q"
      },
      "source": [
        "data = df[[\"CPU cores\", \"CPU capacity provisioned [MHZ]\", \"CPU usage [MHZ]\", \n",
        "                  \"Memory capacity provisioned [KB]\",\n",
        "                  \"Memory usage [KB]\", \"Disk read throughput [KB/s]\",\n",
        "                  \"Disk write throughput [KB/s]\", \"Disk size [GB]\",\n",
        "                  \"Network received throughput [KB/s]\",\n",
        "                  \"Network transmitted throughput [KB/s]\"]]"
      ],
      "execution_count": 36,
      "outputs": []
    },
    {
      "cell_type": "code",
      "metadata": {
        "id": "lM0Pff95Fbcw",
        "outputId": "7eebea0f-0e45-48fd-b45e-8b39bc8602e7",
        "colab": {
          "base_uri": "https://localhost:8080/",
          "height": 390
        }
      },
      "source": [
        "machine_data_std = StandardScaler().fit_transform(df)\n",
        "#randomly choose ten thousand samples\n",
        "machine_data_index = np.random.randint(1, df.shape[0], 10000)\n",
        "#Apply DBSCAN algorithm\n",
        "plt.figure(figsize = (8,6))\n",
        "dbscan(eps=0.5, min_samples=30, data=machine_data_std[machine_data_index], start=0, end=3)\n",
        "plt.show()"
      ],
      "execution_count": 37,
      "outputs": [
        {
          "output_type": "display_data",
          "data": {
            "image/png": "[encoded data removed]",
            "text/plain": [
              "<Figure size 576x432 with 1 Axes>"
            ]
          },
          "metadata": {
            "tags": [],
            "needs_background": "light"
          }
        }
      ]
    },
    {
      "cell_type": "code",
      "metadata": {
        "id": "zd460a-4FdY-"
      },
      "source": [
        "df['CPU usagelog'] = np.log(df['CPU usage [MHZ]'])"
      ],
      "execution_count": 38,
      "outputs": []
    },
    {
      "cell_type": "code",
      "metadata": {
        "id": "RkD3jDxpFhkT",
        "outputId": "a576313c-851f-4260-819f-ec1e84dcb0e8",
        "colab": {
          "base_uri": "https://localhost:8080/",
          "height": 390
        }
      },
      "source": [
        "cpu_mem_disk_data = df[['CPU capacity provisioned [MHZ]', 'CPU usagelog', 'Memory capacity provisioned [KB]',\n",
        "       'Memory usage [KB]', 'Disk read throughput [KB/s]',\n",
        "       'Disk write throughput [KB/s]', 'Disk size [GB]']]\n",
        "#standard scale data\n",
        "cpu_mem_disk_data_std = StandardScaler().fit_transform(cpu_mem_disk_data)\n",
        "#randomly choose ten thousand samples\n",
        "machine_data_index = np.random.randint(1, df.shape[0], 10000)\n",
        "#Apply DBSCAN algorithm\n",
        "plt.figure(figsize = (8,6))\n",
        "dbscan(eps=0.5, min_samples=100, data=cpu_mem_disk_data_std[machine_data_index], start=1, end=3)\n",
        "plt.show()"
      ],
      "execution_count": 41,
      "outputs": [
        {
          "output_type": "display_data",
          "data": {
            "image/png": "[encoded data removed]",
            "text/plain": [
              "<Figure size 576x432 with 1 Axes>"
            ]
          },
          "metadata": {
            "tags": [],
            "needs_background": "light"
          }
        }
      ]
    },
    {
      "cell_type": "code",
      "metadata": {
        "id": "3uRtS54CFjgN",
        "outputId": "24718afa-0651-4b03-cbea-c366c8d2b1fd",
        "colab": {
          "base_uri": "https://localhost:8080/",
          "height": 390
        }
      },
      "source": [
        "cpu_mem_disk_NW_use_data = df[['CPU usagelog',\n",
        "                                   'Memory usage [%]',\n",
        "                                   'Disk read throughput [KB/s]',\n",
        "                                   'Disk write throughput [KB/s]']]\n",
        "#standard scale data                          \n",
        "cpu_mem_disk_NW_use_data_std = StandardScaler().fit_transform(cpu_mem_disk_NW_use_data)\n",
        "#randomly choose ten thousand samples\n",
        "machine_data_index = np.random.randint(1, df.shape[0], 10000)\n",
        "#Apply DBSCAN algorithm\n",
        "plt.figure(figsize = (8,6))\n",
        "dbscan(eps=0.5, min_samples=100, data=cpu_mem_disk_NW_use_data_std[machine_data_index], start=0, end=1)\n",
        "plt.show()"
      ],
      "execution_count": 42,
      "outputs": [
        {
          "output_type": "display_data",
          "data": {
            "image/png": "[encoded data removed]",
            "text/plain": [
              "<Figure size 576x432 with 1 Axes>"
            ]
          },
          "metadata": {
            "tags": [],
            "needs_background": "light"
          }
        }
      ]
    },
    {
      "cell_type": "code",
      "metadata": {
        "id": "8Yho6zAOFmzu"
      },
      "source": [
        ""
      ],
      "execution_count": 40,
      "outputs": []
    },
    {
      "cell_type": "markdown",
      "metadata": {
        "id": "9WDmGRe9FpTm"
      },
      "source": [
        ""
      ]
    }
  ]
}