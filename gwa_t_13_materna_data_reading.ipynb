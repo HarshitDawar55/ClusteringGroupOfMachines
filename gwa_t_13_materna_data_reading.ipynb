{
 "cells": [
  {
   "cell_type": "markdown",
   "metadata": {},
   "source": [
    "# Clustering Group of Machines"
   ]
  },
  {
   "cell_type": "markdown",
   "metadata": {},
   "source": [
    "### Dataset Used - \n",
    " http://gwa.ewi.tudelft.nl/datasets/gwa-t-13-materna"
   ]
  },
  {
   "cell_type": "code",
   "execution_count": 1,
   "metadata": {
    "colab": {
     "base_uri": "https://localhost:8080/",
     "height": 34
    },
    "id": "CHd1B43ZTDTp",
    "outputId": "947cae9b-1a95-4800-97bc-46b2fc68c160"
   },
   "outputs": [
    {
     "name": "stdout",
     "output_type": "stream",
     "text": [
      "Mounted at /content/drive\n"
     ]
    }
   ],
   "source": [
    "#connect to drive\n",
    "from google.colab import drive\n",
    "drive.mount('/content/drive')"
   ]
  },
  {
   "cell_type": "code",
   "execution_count": 2,
   "metadata": {
    "id": "JWjY9urOOxsj"
   },
   "outputs": [],
   "source": [
    "#unzip the data file\n",
    "!unzip -q '/content/drive/My Drive/Datasets/GWA-T-13_Materna-Workload-Traces.zip'"
   ]
  },
  {
   "cell_type": "code",
   "execution_count": 3,
   "metadata": {
    "id": "YAioABkFHsZe"
   },
   "outputs": [],
   "source": [
    "#import libraries\n",
    "import pandas as pd\n",
    "import glob"
   ]
  },
  {
   "cell_type": "code",
   "execution_count": 4,
   "metadata": {
    "id": "6GtJQ6MWa3mu"
   },
   "outputs": [],
   "source": [
    "#List of input data folder i.e. Materna-Trace-1, Materna-Trace-2, Materna-Trace-3\n",
    "Materna_Traces = ['/content/GWA-T-13_Materna-Workload-Traces/Materna-Trace-1', \n",
    "        '/content/GWA-T-13_Materna-Workload-Traces/Materna-Trace-2',\n",
    "        '/content/GWA-T-13_Materna-Workload-Traces/Materna-Trace-3']"
   ]
  },
  {
   "cell_type": "code",
   "execution_count": 9,
   "metadata": {
    "id": "uku6_C3cojQH"
   },
   "outputs": [],
   "source": [
    "#function to read the input data\n",
    "def readInputData(paths):\n",
    "  #iterate each data folder\n",
    "  for path in paths:\n",
    "    #All csv files in current data folder\n",
    "    all_files = glob.glob(path + \"/*.csv\")\n",
    "    \n",
    "    data = []\n",
    "    for filename in all_files:\n",
    "        #read each csv file\n",
    "        df = pd.read_csv(filename, delimiter=';', index_col=None, header=0)\n",
    "        #append the data\n",
    "        data.append(df)\n",
    "    #merge the data and make dataframe\n",
    "    dataframe = pd.concat(data, axis=0, ignore_index=True)\n",
    "  return dataframe"
   ]
  },
  {
   "cell_type": "code",
   "execution_count": 11,
   "metadata": {
    "colab": {
     "base_uri": "https://localhost:8080/",
     "height": 68
    },
    "id": "HbVRMMh7pSEH",
    "outputId": "1d6391a2-e23b-422a-e051-b07da8d6f12b"
   },
   "outputs": [
    {
     "name": "stdout",
     "output_type": "stream",
     "text": [
      "(4167978, 13)\n",
      "(4510858, 13)\n",
      "(5329730, 13)\n"
     ]
    }
   ],
   "source": [
    "#call the function\n",
    "inputData = readInputData(Materna_Traces)"
   ]
  },
  {
   "cell_type": "code",
   "execution_count": 14,
   "metadata": {
    "colab": {
     "base_uri": "https://localhost:8080/",
     "height": 340
    },
    "id": "nEG2xZBGomCU",
    "outputId": "a911a474-ba51-4939-8cbc-e967462b83c1"
   },
   "outputs": [
    {
     "data": {
      "text/html": [
       "<div>\n",
       "<style scoped>\n",
       "    .dataframe tbody tr th:only-of-type {\n",
       "        vertical-align: middle;\n",
       "    }\n",
       "\n",
       "    .dataframe tbody tr th {\n",
       "        vertical-align: top;\n",
       "    }\n",
       "\n",
       "    .dataframe thead th {\n",
       "        text-align: right;\n",
       "    }\n",
       "</style>\n",
       "<table border=\"1\" class=\"dataframe\">\n",
       "  <thead>\n",
       "    <tr style=\"text-align: right;\">\n",
       "      <th></th>\n",
       "      <th>Timestamp</th>\n",
       "      <th>CPU cores</th>\n",
       "      <th>CPU capacity provisioned [MHZ]</th>\n",
       "      <th>CPU usage [MHZ]</th>\n",
       "      <th>CPU usage [%]</th>\n",
       "      <th>Memory capacity provisioned [KB]</th>\n",
       "      <th>Memory usage [KB]</th>\n",
       "      <th>Memory usage [%]</th>\n",
       "      <th>Disk read throughput [KB/s]</th>\n",
       "      <th>Disk write throughput [KB/s]</th>\n",
       "      <th>Disk size [GB]</th>\n",
       "      <th>Network received throughput [KB/s]</th>\n",
       "      <th>Network transmitted throughput [KB/s]</th>\n",
       "    </tr>\n",
       "  </thead>\n",
       "  <tbody>\n",
       "    <tr>\n",
       "      <th>0</th>\n",
       "      <td>04.01.2016 00:00:00</td>\n",
       "      <td>2</td>\n",
       "      <td>0</td>\n",
       "      <td>152</td>\n",
       "      <td>3,18</td>\n",
       "      <td>16777216</td>\n",
       "      <td>400975</td>\n",
       "      <td>2,39</td>\n",
       "      <td>4</td>\n",
       "      <td>71</td>\n",
       "      <td>100</td>\n",
       "      <td>5</td>\n",
       "      <td>5</td>\n",
       "    </tr>\n",
       "    <tr>\n",
       "      <th>1</th>\n",
       "      <td>04.01.2016 00:05:00</td>\n",
       "      <td>2</td>\n",
       "      <td>0</td>\n",
       "      <td>156</td>\n",
       "      <td>3,27</td>\n",
       "      <td>16777216</td>\n",
       "      <td>355677</td>\n",
       "      <td>2,12</td>\n",
       "      <td>2</td>\n",
       "      <td>70</td>\n",
       "      <td>100</td>\n",
       "      <td>5</td>\n",
       "      <td>5</td>\n",
       "    </tr>\n",
       "    <tr>\n",
       "      <th>2</th>\n",
       "      <td>04.01.2016 00:10:00</td>\n",
       "      <td>2</td>\n",
       "      <td>0</td>\n",
       "      <td>155</td>\n",
       "      <td>3,23</td>\n",
       "      <td>16777216</td>\n",
       "      <td>602302</td>\n",
       "      <td>3,59</td>\n",
       "      <td>1</td>\n",
       "      <td>69</td>\n",
       "      <td>100</td>\n",
       "      <td>5</td>\n",
       "      <td>5</td>\n",
       "    </tr>\n",
       "    <tr>\n",
       "      <th>3</th>\n",
       "      <td>04.01.2016 00:15:00</td>\n",
       "      <td>2</td>\n",
       "      <td>0</td>\n",
       "      <td>149</td>\n",
       "      <td>3,11</td>\n",
       "      <td>16777216</td>\n",
       "      <td>333867</td>\n",
       "      <td>1,99</td>\n",
       "      <td>1</td>\n",
       "      <td>69</td>\n",
       "      <td>100</td>\n",
       "      <td>5</td>\n",
       "      <td>5</td>\n",
       "    </tr>\n",
       "    <tr>\n",
       "      <th>4</th>\n",
       "      <td>04.01.2016 00:20:00</td>\n",
       "      <td>2</td>\n",
       "      <td>0</td>\n",
       "      <td>149</td>\n",
       "      <td>3,12</td>\n",
       "      <td>16777216</td>\n",
       "      <td>266758</td>\n",
       "      <td>1,59</td>\n",
       "      <td>1</td>\n",
       "      <td>69</td>\n",
       "      <td>100</td>\n",
       "      <td>5</td>\n",
       "      <td>5</td>\n",
       "    </tr>\n",
       "  </tbody>\n",
       "</table>\n",
       "</div>"
      ],
      "text/plain": [
       "             Timestamp  ...  Network transmitted throughput [KB/s]\n",
       "0  04.01.2016 00:00:00  ...                                      5\n",
       "1  04.01.2016 00:05:00  ...                                      5\n",
       "2  04.01.2016 00:10:00  ...                                      5\n",
       "3  04.01.2016 00:15:00  ...                                      5\n",
       "4  04.01.2016 00:20:00  ...                                      5\n",
       "\n",
       "[5 rows x 13 columns]"
      ]
     },
     "execution_count": 14,
     "metadata": {
      "tags": []
     },
     "output_type": "execute_result"
    }
   ],
   "source": [
    " #first 5 rows of data\n",
    " inputData.head()"
   ]
  },
  {
   "cell_type": "code",
   "execution_count": 15,
   "metadata": {
    "colab": {
     "base_uri": "https://localhost:8080/",
     "height": 34
    },
    "id": "gS-7t9hNe9Uk",
    "outputId": "aacf6e14-25fa-40b3-d85e-a7e938e45d5a"
   },
   "outputs": [
    {
     "data": {
      "text/plain": [
       "(5329730, 13)"
      ]
     },
     "execution_count": 15,
     "metadata": {
      "tags": []
     },
     "output_type": "execute_result"
    }
   ],
   "source": [
    "#number of rows and columns in data\n",
    "inputData.shape"
   ]
  }
 ],
 "metadata": {
  "colab": {
   "name": "gwa-t-13-materna_data_reading.ipynb",
   "provenance": []
  },
  "kernelspec": {
   "display_name": "Python 3",
   "language": "python",
   "name": "python3"
  },
  "language_info": {
   "codemirror_mode": {
    "name": "ipython",
    "version": 3
   },
   "file_extension": ".py",
   "mimetype": "text/x-python",
   "name": "python",
   "nbconvert_exporter": "python",
   "pygments_lexer": "ipython3",
   "version": "3.7.6"
  }
 },
 "nbformat": 4,
 "nbformat_minor": 1
}
